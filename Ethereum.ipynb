{
  "nbformat": 4,
  "nbformat_minor": 0,
  "metadata": {
    "colab": {
      "provenance": [],
      "authorship_tag": "ABX9TyNfAVLoc+xEZJkLxWYbInEY",
      "include_colab_link": true
    },
    "kernelspec": {
      "name": "python3",
      "display_name": "Python 3"
    },
    "language_info": {
      "name": "python"
    }
  },
  "cells": [
    {
      "cell_type": "markdown",
      "metadata": {
        "id": "view-in-github",
        "colab_type": "text"
      },
      "source": [
        "<a href=\"https://colab.research.google.com/github/Tharun-17/Ethereum/blob/main/Ethereum.ipynb\" target=\"_parent\"><img src=\"https://colab.research.google.com/assets/colab-badge.svg\" alt=\"Open In Colab\"/></a>"
      ]
    },
    {
      "cell_type": "markdown",
      "source": [
        "Importing necessary libraries."
      ],
      "metadata": {
        "id": "_bPwC0xG6bo0"
      }
    },
    {
      "cell_type": "code",
      "execution_count": 1,
      "metadata": {
        "id": "woZTT_mcALth"
      },
      "outputs": [],
      "source": [
        "import tensorflow\n",
        "import pandas as pd\n",
        "import plotly.express as px\n",
        "from sklearn.model_selection import train_test_split\n",
        "from tensorflow.keras.models import Sequential\n",
        "from tensorflow.keras.layers import Dense\n",
        "from keras.models import Sequential\n",
        "from keras.layers import Dense, LSTM\n",
        "import matplotlib.pyplot as plt\n",
        "from sklearn.preprocessing import MinMaxScaler\n",
        "from tensorflow.keras.models import Sequential\n",
        "from tensorflow.keras.layers import Dropout\n",
        "import numpy as np"
      ]
    },
    {
      "cell_type": "code",
      "source": [
        "import yfinance as yf\n",
        "import datetime"
      ],
      "metadata": {
        "id": "oEjz1GIGAPJG"
      },
      "execution_count": 2,
      "outputs": []
    },
    {
      "cell_type": "markdown",
      "source": [
        "Accessing today's date using datetime."
      ],
      "metadata": {
        "id": "1RFxi5Cg6r5z"
      }
    },
    {
      "cell_type": "code",
      "source": [
        "today = datetime.datetime.now()\n",
        "today\n",
        "date_today = today.strftime(\"%Y-%m-%d\")"
      ],
      "metadata": {
        "id": "ugTLfKugj3Z4"
      },
      "execution_count": 3,
      "outputs": []
    },
    {
      "cell_type": "code",
      "source": [
        "date_today"
      ],
      "metadata": {
        "colab": {
          "base_uri": "https://localhost:8080/",
          "height": 35
        },
        "id": "nRmPLqTKj9LC",
        "outputId": "b895868a-3454-4745-e44f-e57cc678671a"
      },
      "execution_count": 4,
      "outputs": [
        {
          "output_type": "execute_result",
          "data": {
            "text/plain": [
              "'2023-07-12'"
            ],
            "application/vnd.google.colaboratory.intrinsic+json": {
              "type": "string"
            }
          },
          "metadata": {},
          "execution_count": 4
        }
      ]
    },
    {
      "cell_type": "markdown",
      "source": [
        "Using 'ETH-USD' ticker to get data from start date to today."
      ],
      "metadata": {
        "id": "5kLQOjh16zl1"
      }
    },
    {
      "cell_type": "code",
      "source": [
        "ticker = 'ETH-USD'\n",
        "end_date = date_today\n",
        "start_date = '2015-01-01'"
      ],
      "metadata": {
        "id": "HdekqGjQkABU"
      },
      "execution_count": 5,
      "outputs": []
    },
    {
      "cell_type": "markdown",
      "source": [
        "Downloading data and converting it into a pandas dataframe."
      ],
      "metadata": {
        "id": "I5kwuXGn7Dzf"
      }
    },
    {
      "cell_type": "code",
      "source": [
        "df = yf.download(ticker, start = start_date, end = end_date)"
      ],
      "metadata": {
        "colab": {
          "base_uri": "https://localhost:8080/"
        },
        "id": "r1CB3PY-j_zx",
        "outputId": "0e150bd1-53c5-4419-d23e-782545017416"
      },
      "execution_count": 6,
      "outputs": [
        {
          "output_type": "stream",
          "name": "stdout",
          "text": [
            "\r[*********************100%***********************]  1 of 1 completed\n"
          ]
        }
      ]
    },
    {
      "cell_type": "code",
      "source": [
        "df"
      ],
      "metadata": {
        "colab": {
          "base_uri": "https://localhost:8080/",
          "height": 455
        },
        "id": "NZVgY4miVS1P",
        "outputId": "cd670094-b97b-45a3-e738-56c17f008aea"
      },
      "execution_count": 7,
      "outputs": [
        {
          "output_type": "execute_result",
          "data": {
            "text/plain": [
              "                   Open         High          Low        Close    Adj Close  \\\n",
              "Date                                                                          \n",
              "2017-11-09   308.644989   329.451996   307.056000   320.884003   320.884003   \n",
              "2017-11-10   320.670990   324.717987   294.541992   299.252991   299.252991   \n",
              "2017-11-11   298.585999   319.453003   298.191986   314.681000   314.681000   \n",
              "2017-11-12   314.690002   319.153015   298.513000   307.907990   307.907990   \n",
              "2017-11-13   307.024994   328.415009   307.024994   316.716003   316.716003   \n",
              "...                 ...          ...          ...          ...          ...   \n",
              "2023-07-07  1847.512573  1876.963257  1832.025391  1870.602539  1870.602539   \n",
              "2023-07-08  1871.002075  1872.501587  1844.641724  1865.539551  1865.539551   \n",
              "2023-07-09  1865.594971  1878.668945  1857.748291  1863.009766  1863.009766   \n",
              "2023-07-10  1863.240234  1905.460815  1848.777222  1880.556396  1880.556396   \n",
              "2023-07-11  1880.654907  1889.381714  1863.218628  1878.336060  1878.336060   \n",
              "\n",
              "                Volume  \n",
              "Date                    \n",
              "2017-11-09   893249984  \n",
              "2017-11-10   885985984  \n",
              "2017-11-11   842300992  \n",
              "2017-11-12  1613479936  \n",
              "2017-11-13  1041889984  \n",
              "...                ...  \n",
              "2023-07-07  6468885150  \n",
              "2023-07-08  4299007854  \n",
              "2023-07-09  4392863807  \n",
              "2023-07-10  6336468234  \n",
              "2023-07-11  4905225892  \n",
              "\n",
              "[2071 rows x 6 columns]"
            ],
            "text/html": [
              "\n",
              "\n",
              "  <div id=\"df-e5f42b23-7e68-4954-9658-e6c9c0eb48b5\">\n",
              "    <div class=\"colab-df-container\">\n",
              "      <div>\n",
              "<style scoped>\n",
              "    .dataframe tbody tr th:only-of-type {\n",
              "        vertical-align: middle;\n",
              "    }\n",
              "\n",
              "    .dataframe tbody tr th {\n",
              "        vertical-align: top;\n",
              "    }\n",
              "\n",
              "    .dataframe thead th {\n",
              "        text-align: right;\n",
              "    }\n",
              "</style>\n",
              "<table border=\"1\" class=\"dataframe\">\n",
              "  <thead>\n",
              "    <tr style=\"text-align: right;\">\n",
              "      <th></th>\n",
              "      <th>Open</th>\n",
              "      <th>High</th>\n",
              "      <th>Low</th>\n",
              "      <th>Close</th>\n",
              "      <th>Adj Close</th>\n",
              "      <th>Volume</th>\n",
              "    </tr>\n",
              "    <tr>\n",
              "      <th>Date</th>\n",
              "      <th></th>\n",
              "      <th></th>\n",
              "      <th></th>\n",
              "      <th></th>\n",
              "      <th></th>\n",
              "      <th></th>\n",
              "    </tr>\n",
              "  </thead>\n",
              "  <tbody>\n",
              "    <tr>\n",
              "      <th>2017-11-09</th>\n",
              "      <td>308.644989</td>\n",
              "      <td>329.451996</td>\n",
              "      <td>307.056000</td>\n",
              "      <td>320.884003</td>\n",
              "      <td>320.884003</td>\n",
              "      <td>893249984</td>\n",
              "    </tr>\n",
              "    <tr>\n",
              "      <th>2017-11-10</th>\n",
              "      <td>320.670990</td>\n",
              "      <td>324.717987</td>\n",
              "      <td>294.541992</td>\n",
              "      <td>299.252991</td>\n",
              "      <td>299.252991</td>\n",
              "      <td>885985984</td>\n",
              "    </tr>\n",
              "    <tr>\n",
              "      <th>2017-11-11</th>\n",
              "      <td>298.585999</td>\n",
              "      <td>319.453003</td>\n",
              "      <td>298.191986</td>\n",
              "      <td>314.681000</td>\n",
              "      <td>314.681000</td>\n",
              "      <td>842300992</td>\n",
              "    </tr>\n",
              "    <tr>\n",
              "      <th>2017-11-12</th>\n",
              "      <td>314.690002</td>\n",
              "      <td>319.153015</td>\n",
              "      <td>298.513000</td>\n",
              "      <td>307.907990</td>\n",
              "      <td>307.907990</td>\n",
              "      <td>1613479936</td>\n",
              "    </tr>\n",
              "    <tr>\n",
              "      <th>2017-11-13</th>\n",
              "      <td>307.024994</td>\n",
              "      <td>328.415009</td>\n",
              "      <td>307.024994</td>\n",
              "      <td>316.716003</td>\n",
              "      <td>316.716003</td>\n",
              "      <td>1041889984</td>\n",
              "    </tr>\n",
              "    <tr>\n",
              "      <th>...</th>\n",
              "      <td>...</td>\n",
              "      <td>...</td>\n",
              "      <td>...</td>\n",
              "      <td>...</td>\n",
              "      <td>...</td>\n",
              "      <td>...</td>\n",
              "    </tr>\n",
              "    <tr>\n",
              "      <th>2023-07-07</th>\n",
              "      <td>1847.512573</td>\n",
              "      <td>1876.963257</td>\n",
              "      <td>1832.025391</td>\n",
              "      <td>1870.602539</td>\n",
              "      <td>1870.602539</td>\n",
              "      <td>6468885150</td>\n",
              "    </tr>\n",
              "    <tr>\n",
              "      <th>2023-07-08</th>\n",
              "      <td>1871.002075</td>\n",
              "      <td>1872.501587</td>\n",
              "      <td>1844.641724</td>\n",
              "      <td>1865.539551</td>\n",
              "      <td>1865.539551</td>\n",
              "      <td>4299007854</td>\n",
              "    </tr>\n",
              "    <tr>\n",
              "      <th>2023-07-09</th>\n",
              "      <td>1865.594971</td>\n",
              "      <td>1878.668945</td>\n",
              "      <td>1857.748291</td>\n",
              "      <td>1863.009766</td>\n",
              "      <td>1863.009766</td>\n",
              "      <td>4392863807</td>\n",
              "    </tr>\n",
              "    <tr>\n",
              "      <th>2023-07-10</th>\n",
              "      <td>1863.240234</td>\n",
              "      <td>1905.460815</td>\n",
              "      <td>1848.777222</td>\n",
              "      <td>1880.556396</td>\n",
              "      <td>1880.556396</td>\n",
              "      <td>6336468234</td>\n",
              "    </tr>\n",
              "    <tr>\n",
              "      <th>2023-07-11</th>\n",
              "      <td>1880.654907</td>\n",
              "      <td>1889.381714</td>\n",
              "      <td>1863.218628</td>\n",
              "      <td>1878.336060</td>\n",
              "      <td>1878.336060</td>\n",
              "      <td>4905225892</td>\n",
              "    </tr>\n",
              "  </tbody>\n",
              "</table>\n",
              "<p>2071 rows × 6 columns</p>\n",
              "</div>\n",
              "      <button class=\"colab-df-convert\" onclick=\"convertToInteractive('df-e5f42b23-7e68-4954-9658-e6c9c0eb48b5')\"\n",
              "              title=\"Convert this dataframe to an interactive table.\"\n",
              "              style=\"display:none;\">\n",
              "\n",
              "  <svg xmlns=\"http://www.w3.org/2000/svg\" height=\"24px\"viewBox=\"0 0 24 24\"\n",
              "       width=\"24px\">\n",
              "    <path d=\"M0 0h24v24H0V0z\" fill=\"none\"/>\n",
              "    <path d=\"M18.56 5.44l.94 2.06.94-2.06 2.06-.94-2.06-.94-.94-2.06-.94 2.06-2.06.94zm-11 1L8.5 8.5l.94-2.06 2.06-.94-2.06-.94L8.5 2.5l-.94 2.06-2.06.94zm10 10l.94 2.06.94-2.06 2.06-.94-2.06-.94-.94-2.06-.94 2.06-2.06.94z\"/><path d=\"M17.41 7.96l-1.37-1.37c-.4-.4-.92-.59-1.43-.59-.52 0-1.04.2-1.43.59L10.3 9.45l-7.72 7.72c-.78.78-.78 2.05 0 2.83L4 21.41c.39.39.9.59 1.41.59.51 0 1.02-.2 1.41-.59l7.78-7.78 2.81-2.81c.8-.78.8-2.07 0-2.86zM5.41 20L4 18.59l7.72-7.72 1.47 1.35L5.41 20z\"/>\n",
              "  </svg>\n",
              "      </button>\n",
              "\n",
              "\n",
              "\n",
              "    <div id=\"df-e1a9ea72-4a40-436e-8122-960642849945\">\n",
              "      <button class=\"colab-df-quickchart\" onclick=\"quickchart('df-e1a9ea72-4a40-436e-8122-960642849945')\"\n",
              "              title=\"Suggest charts.\"\n",
              "              style=\"display:none;\">\n",
              "\n",
              "<svg xmlns=\"http://www.w3.org/2000/svg\" height=\"24px\"viewBox=\"0 0 24 24\"\n",
              "     width=\"24px\">\n",
              "    <g>\n",
              "        <path d=\"M19 3H5c-1.1 0-2 .9-2 2v14c0 1.1.9 2 2 2h14c1.1 0 2-.9 2-2V5c0-1.1-.9-2-2-2zM9 17H7v-7h2v7zm4 0h-2V7h2v10zm4 0h-2v-4h2v4z\"/>\n",
              "    </g>\n",
              "</svg>\n",
              "      </button>\n",
              "    </div>\n",
              "\n",
              "<style>\n",
              "  .colab-df-quickchart {\n",
              "    background-color: #E8F0FE;\n",
              "    border: none;\n",
              "    border-radius: 50%;\n",
              "    cursor: pointer;\n",
              "    display: none;\n",
              "    fill: #1967D2;\n",
              "    height: 32px;\n",
              "    padding: 0 0 0 0;\n",
              "    width: 32px;\n",
              "  }\n",
              "\n",
              "  .colab-df-quickchart:hover {\n",
              "    background-color: #E2EBFA;\n",
              "    box-shadow: 0px 1px 2px rgba(60, 64, 67, 0.3), 0px 1px 3px 1px rgba(60, 64, 67, 0.15);\n",
              "    fill: #174EA6;\n",
              "  }\n",
              "\n",
              "  [theme=dark] .colab-df-quickchart {\n",
              "    background-color: #3B4455;\n",
              "    fill: #D2E3FC;\n",
              "  }\n",
              "\n",
              "  [theme=dark] .colab-df-quickchart:hover {\n",
              "    background-color: #434B5C;\n",
              "    box-shadow: 0px 1px 3px 1px rgba(0, 0, 0, 0.15);\n",
              "    filter: drop-shadow(0px 1px 2px rgba(0, 0, 0, 0.3));\n",
              "    fill: #FFFFFF;\n",
              "  }\n",
              "</style>\n",
              "\n",
              "    <script>\n",
              "      async function quickchart(key) {\n",
              "        const containerElement = document.querySelector('#' + key);\n",
              "        const charts = await google.colab.kernel.invokeFunction(\n",
              "            'suggestCharts', [key], {});\n",
              "      }\n",
              "    </script>\n",
              "\n",
              "      <script>\n",
              "\n",
              "function displayQuickchartButton(domScope) {\n",
              "  let quickchartButtonEl =\n",
              "    domScope.querySelector('#df-e1a9ea72-4a40-436e-8122-960642849945 button.colab-df-quickchart');\n",
              "  quickchartButtonEl.style.display =\n",
              "    google.colab.kernel.accessAllowed ? 'block' : 'none';\n",
              "}\n",
              "\n",
              "        displayQuickchartButton(document);\n",
              "      </script>\n",
              "      <style>\n",
              "    .colab-df-container {\n",
              "      display:flex;\n",
              "      flex-wrap:wrap;\n",
              "      gap: 12px;\n",
              "    }\n",
              "\n",
              "    .colab-df-convert {\n",
              "      background-color: #E8F0FE;\n",
              "      border: none;\n",
              "      border-radius: 50%;\n",
              "      cursor: pointer;\n",
              "      display: none;\n",
              "      fill: #1967D2;\n",
              "      height: 32px;\n",
              "      padding: 0 0 0 0;\n",
              "      width: 32px;\n",
              "    }\n",
              "\n",
              "    .colab-df-convert:hover {\n",
              "      background-color: #E2EBFA;\n",
              "      box-shadow: 0px 1px 2px rgba(60, 64, 67, 0.3), 0px 1px 3px 1px rgba(60, 64, 67, 0.15);\n",
              "      fill: #174EA6;\n",
              "    }\n",
              "\n",
              "    [theme=dark] .colab-df-convert {\n",
              "      background-color: #3B4455;\n",
              "      fill: #D2E3FC;\n",
              "    }\n",
              "\n",
              "    [theme=dark] .colab-df-convert:hover {\n",
              "      background-color: #434B5C;\n",
              "      box-shadow: 0px 1px 3px 1px rgba(0, 0, 0, 0.15);\n",
              "      filter: drop-shadow(0px 1px 2px rgba(0, 0, 0, 0.3));\n",
              "      fill: #FFFFFF;\n",
              "    }\n",
              "  </style>\n",
              "\n",
              "      <script>\n",
              "        const buttonEl =\n",
              "          document.querySelector('#df-e5f42b23-7e68-4954-9658-e6c9c0eb48b5 button.colab-df-convert');\n",
              "        buttonEl.style.display =\n",
              "          google.colab.kernel.accessAllowed ? 'block' : 'none';\n",
              "\n",
              "        async function convertToInteractive(key) {\n",
              "          const element = document.querySelector('#df-e5f42b23-7e68-4954-9658-e6c9c0eb48b5');\n",
              "          const dataTable =\n",
              "            await google.colab.kernel.invokeFunction('convertToInteractive',\n",
              "                                                     [key], {});\n",
              "          if (!dataTable) return;\n",
              "\n",
              "          const docLinkHtml = 'Like what you see? Visit the ' +\n",
              "            '<a target=\"_blank\" href=https://colab.research.google.com/notebooks/data_table.ipynb>data table notebook</a>'\n",
              "            + ' to learn more about interactive tables.';\n",
              "          element.innerHTML = '';\n",
              "          dataTable['output_type'] = 'display_data';\n",
              "          await google.colab.output.renderOutput(dataTable, element);\n",
              "          const docLink = document.createElement('div');\n",
              "          docLink.innerHTML = docLinkHtml;\n",
              "          element.appendChild(docLink);\n",
              "        }\n",
              "      </script>\n",
              "    </div>\n",
              "  </div>\n"
            ]
          },
          "metadata": {},
          "execution_count": 7
        }
      ]
    },
    {
      "cell_type": "code",
      "source": [
        "import pandas as pd\n",
        "data = pd.DataFrame(df)"
      ],
      "metadata": {
        "id": "KWGnhFylj_lN"
      },
      "execution_count": 8,
      "outputs": []
    },
    {
      "cell_type": "code",
      "source": [
        "data"
      ],
      "metadata": {
        "colab": {
          "base_uri": "https://localhost:8080/",
          "height": 455
        },
        "id": "1JwlP-SuAzpK",
        "outputId": "bcf38b2d-6338-4cef-c314-e76ff323d589"
      },
      "execution_count": 9,
      "outputs": [
        {
          "output_type": "execute_result",
          "data": {
            "text/plain": [
              "                   Open         High          Low        Close    Adj Close  \\\n",
              "Date                                                                          \n",
              "2017-11-09   308.644989   329.451996   307.056000   320.884003   320.884003   \n",
              "2017-11-10   320.670990   324.717987   294.541992   299.252991   299.252991   \n",
              "2017-11-11   298.585999   319.453003   298.191986   314.681000   314.681000   \n",
              "2017-11-12   314.690002   319.153015   298.513000   307.907990   307.907990   \n",
              "2017-11-13   307.024994   328.415009   307.024994   316.716003   316.716003   \n",
              "...                 ...          ...          ...          ...          ...   \n",
              "2023-07-07  1847.512573  1876.963257  1832.025391  1870.602539  1870.602539   \n",
              "2023-07-08  1871.002075  1872.501587  1844.641724  1865.539551  1865.539551   \n",
              "2023-07-09  1865.594971  1878.668945  1857.748291  1863.009766  1863.009766   \n",
              "2023-07-10  1863.240234  1905.460815  1848.777222  1880.556396  1880.556396   \n",
              "2023-07-11  1880.654907  1889.381714  1863.218628  1878.336060  1878.336060   \n",
              "\n",
              "                Volume  \n",
              "Date                    \n",
              "2017-11-09   893249984  \n",
              "2017-11-10   885985984  \n",
              "2017-11-11   842300992  \n",
              "2017-11-12  1613479936  \n",
              "2017-11-13  1041889984  \n",
              "...                ...  \n",
              "2023-07-07  6468885150  \n",
              "2023-07-08  4299007854  \n",
              "2023-07-09  4392863807  \n",
              "2023-07-10  6336468234  \n",
              "2023-07-11  4905225892  \n",
              "\n",
              "[2071 rows x 6 columns]"
            ],
            "text/html": [
              "\n",
              "\n",
              "  <div id=\"df-74b7e214-036e-470a-acfd-32675799dd8d\">\n",
              "    <div class=\"colab-df-container\">\n",
              "      <div>\n",
              "<style scoped>\n",
              "    .dataframe tbody tr th:only-of-type {\n",
              "        vertical-align: middle;\n",
              "    }\n",
              "\n",
              "    .dataframe tbody tr th {\n",
              "        vertical-align: top;\n",
              "    }\n",
              "\n",
              "    .dataframe thead th {\n",
              "        text-align: right;\n",
              "    }\n",
              "</style>\n",
              "<table border=\"1\" class=\"dataframe\">\n",
              "  <thead>\n",
              "    <tr style=\"text-align: right;\">\n",
              "      <th></th>\n",
              "      <th>Open</th>\n",
              "      <th>High</th>\n",
              "      <th>Low</th>\n",
              "      <th>Close</th>\n",
              "      <th>Adj Close</th>\n",
              "      <th>Volume</th>\n",
              "    </tr>\n",
              "    <tr>\n",
              "      <th>Date</th>\n",
              "      <th></th>\n",
              "      <th></th>\n",
              "      <th></th>\n",
              "      <th></th>\n",
              "      <th></th>\n",
              "      <th></th>\n",
              "    </tr>\n",
              "  </thead>\n",
              "  <tbody>\n",
              "    <tr>\n",
              "      <th>2017-11-09</th>\n",
              "      <td>308.644989</td>\n",
              "      <td>329.451996</td>\n",
              "      <td>307.056000</td>\n",
              "      <td>320.884003</td>\n",
              "      <td>320.884003</td>\n",
              "      <td>893249984</td>\n",
              "    </tr>\n",
              "    <tr>\n",
              "      <th>2017-11-10</th>\n",
              "      <td>320.670990</td>\n",
              "      <td>324.717987</td>\n",
              "      <td>294.541992</td>\n",
              "      <td>299.252991</td>\n",
              "      <td>299.252991</td>\n",
              "      <td>885985984</td>\n",
              "    </tr>\n",
              "    <tr>\n",
              "      <th>2017-11-11</th>\n",
              "      <td>298.585999</td>\n",
              "      <td>319.453003</td>\n",
              "      <td>298.191986</td>\n",
              "      <td>314.681000</td>\n",
              "      <td>314.681000</td>\n",
              "      <td>842300992</td>\n",
              "    </tr>\n",
              "    <tr>\n",
              "      <th>2017-11-12</th>\n",
              "      <td>314.690002</td>\n",
              "      <td>319.153015</td>\n",
              "      <td>298.513000</td>\n",
              "      <td>307.907990</td>\n",
              "      <td>307.907990</td>\n",
              "      <td>1613479936</td>\n",
              "    </tr>\n",
              "    <tr>\n",
              "      <th>2017-11-13</th>\n",
              "      <td>307.024994</td>\n",
              "      <td>328.415009</td>\n",
              "      <td>307.024994</td>\n",
              "      <td>316.716003</td>\n",
              "      <td>316.716003</td>\n",
              "      <td>1041889984</td>\n",
              "    </tr>\n",
              "    <tr>\n",
              "      <th>...</th>\n",
              "      <td>...</td>\n",
              "      <td>...</td>\n",
              "      <td>...</td>\n",
              "      <td>...</td>\n",
              "      <td>...</td>\n",
              "      <td>...</td>\n",
              "    </tr>\n",
              "    <tr>\n",
              "      <th>2023-07-07</th>\n",
              "      <td>1847.512573</td>\n",
              "      <td>1876.963257</td>\n",
              "      <td>1832.025391</td>\n",
              "      <td>1870.602539</td>\n",
              "      <td>1870.602539</td>\n",
              "      <td>6468885150</td>\n",
              "    </tr>\n",
              "    <tr>\n",
              "      <th>2023-07-08</th>\n",
              "      <td>1871.002075</td>\n",
              "      <td>1872.501587</td>\n",
              "      <td>1844.641724</td>\n",
              "      <td>1865.539551</td>\n",
              "      <td>1865.539551</td>\n",
              "      <td>4299007854</td>\n",
              "    </tr>\n",
              "    <tr>\n",
              "      <th>2023-07-09</th>\n",
              "      <td>1865.594971</td>\n",
              "      <td>1878.668945</td>\n",
              "      <td>1857.748291</td>\n",
              "      <td>1863.009766</td>\n",
              "      <td>1863.009766</td>\n",
              "      <td>4392863807</td>\n",
              "    </tr>\n",
              "    <tr>\n",
              "      <th>2023-07-10</th>\n",
              "      <td>1863.240234</td>\n",
              "      <td>1905.460815</td>\n",
              "      <td>1848.777222</td>\n",
              "      <td>1880.556396</td>\n",
              "      <td>1880.556396</td>\n",
              "      <td>6336468234</td>\n",
              "    </tr>\n",
              "    <tr>\n",
              "      <th>2023-07-11</th>\n",
              "      <td>1880.654907</td>\n",
              "      <td>1889.381714</td>\n",
              "      <td>1863.218628</td>\n",
              "      <td>1878.336060</td>\n",
              "      <td>1878.336060</td>\n",
              "      <td>4905225892</td>\n",
              "    </tr>\n",
              "  </tbody>\n",
              "</table>\n",
              "<p>2071 rows × 6 columns</p>\n",
              "</div>\n",
              "      <button class=\"colab-df-convert\" onclick=\"convertToInteractive('df-74b7e214-036e-470a-acfd-32675799dd8d')\"\n",
              "              title=\"Convert this dataframe to an interactive table.\"\n",
              "              style=\"display:none;\">\n",
              "\n",
              "  <svg xmlns=\"http://www.w3.org/2000/svg\" height=\"24px\"viewBox=\"0 0 24 24\"\n",
              "       width=\"24px\">\n",
              "    <path d=\"M0 0h24v24H0V0z\" fill=\"none\"/>\n",
              "    <path d=\"M18.56 5.44l.94 2.06.94-2.06 2.06-.94-2.06-.94-.94-2.06-.94 2.06-2.06.94zm-11 1L8.5 8.5l.94-2.06 2.06-.94-2.06-.94L8.5 2.5l-.94 2.06-2.06.94zm10 10l.94 2.06.94-2.06 2.06-.94-2.06-.94-.94-2.06-.94 2.06-2.06.94z\"/><path d=\"M17.41 7.96l-1.37-1.37c-.4-.4-.92-.59-1.43-.59-.52 0-1.04.2-1.43.59L10.3 9.45l-7.72 7.72c-.78.78-.78 2.05 0 2.83L4 21.41c.39.39.9.59 1.41.59.51 0 1.02-.2 1.41-.59l7.78-7.78 2.81-2.81c.8-.78.8-2.07 0-2.86zM5.41 20L4 18.59l7.72-7.72 1.47 1.35L5.41 20z\"/>\n",
              "  </svg>\n",
              "      </button>\n",
              "\n",
              "\n",
              "\n",
              "    <div id=\"df-d93b9064-be75-4247-9a15-94385d3a1bf2\">\n",
              "      <button class=\"colab-df-quickchart\" onclick=\"quickchart('df-d93b9064-be75-4247-9a15-94385d3a1bf2')\"\n",
              "              title=\"Suggest charts.\"\n",
              "              style=\"display:none;\">\n",
              "\n",
              "<svg xmlns=\"http://www.w3.org/2000/svg\" height=\"24px\"viewBox=\"0 0 24 24\"\n",
              "     width=\"24px\">\n",
              "    <g>\n",
              "        <path d=\"M19 3H5c-1.1 0-2 .9-2 2v14c0 1.1.9 2 2 2h14c1.1 0 2-.9 2-2V5c0-1.1-.9-2-2-2zM9 17H7v-7h2v7zm4 0h-2V7h2v10zm4 0h-2v-4h2v4z\"/>\n",
              "    </g>\n",
              "</svg>\n",
              "      </button>\n",
              "    </div>\n",
              "\n",
              "<style>\n",
              "  .colab-df-quickchart {\n",
              "    background-color: #E8F0FE;\n",
              "    border: none;\n",
              "    border-radius: 50%;\n",
              "    cursor: pointer;\n",
              "    display: none;\n",
              "    fill: #1967D2;\n",
              "    height: 32px;\n",
              "    padding: 0 0 0 0;\n",
              "    width: 32px;\n",
              "  }\n",
              "\n",
              "  .colab-df-quickchart:hover {\n",
              "    background-color: #E2EBFA;\n",
              "    box-shadow: 0px 1px 2px rgba(60, 64, 67, 0.3), 0px 1px 3px 1px rgba(60, 64, 67, 0.15);\n",
              "    fill: #174EA6;\n",
              "  }\n",
              "\n",
              "  [theme=dark] .colab-df-quickchart {\n",
              "    background-color: #3B4455;\n",
              "    fill: #D2E3FC;\n",
              "  }\n",
              "\n",
              "  [theme=dark] .colab-df-quickchart:hover {\n",
              "    background-color: #434B5C;\n",
              "    box-shadow: 0px 1px 3px 1px rgba(0, 0, 0, 0.15);\n",
              "    filter: drop-shadow(0px 1px 2px rgba(0, 0, 0, 0.3));\n",
              "    fill: #FFFFFF;\n",
              "  }\n",
              "</style>\n",
              "\n",
              "    <script>\n",
              "      async function quickchart(key) {\n",
              "        const containerElement = document.querySelector('#' + key);\n",
              "        const charts = await google.colab.kernel.invokeFunction(\n",
              "            'suggestCharts', [key], {});\n",
              "      }\n",
              "    </script>\n",
              "\n",
              "      <script>\n",
              "\n",
              "function displayQuickchartButton(domScope) {\n",
              "  let quickchartButtonEl =\n",
              "    domScope.querySelector('#df-d93b9064-be75-4247-9a15-94385d3a1bf2 button.colab-df-quickchart');\n",
              "  quickchartButtonEl.style.display =\n",
              "    google.colab.kernel.accessAllowed ? 'block' : 'none';\n",
              "}\n",
              "\n",
              "        displayQuickchartButton(document);\n",
              "      </script>\n",
              "      <style>\n",
              "    .colab-df-container {\n",
              "      display:flex;\n",
              "      flex-wrap:wrap;\n",
              "      gap: 12px;\n",
              "    }\n",
              "\n",
              "    .colab-df-convert {\n",
              "      background-color: #E8F0FE;\n",
              "      border: none;\n",
              "      border-radius: 50%;\n",
              "      cursor: pointer;\n",
              "      display: none;\n",
              "      fill: #1967D2;\n",
              "      height: 32px;\n",
              "      padding: 0 0 0 0;\n",
              "      width: 32px;\n",
              "    }\n",
              "\n",
              "    .colab-df-convert:hover {\n",
              "      background-color: #E2EBFA;\n",
              "      box-shadow: 0px 1px 2px rgba(60, 64, 67, 0.3), 0px 1px 3px 1px rgba(60, 64, 67, 0.15);\n",
              "      fill: #174EA6;\n",
              "    }\n",
              "\n",
              "    [theme=dark] .colab-df-convert {\n",
              "      background-color: #3B4455;\n",
              "      fill: #D2E3FC;\n",
              "    }\n",
              "\n",
              "    [theme=dark] .colab-df-convert:hover {\n",
              "      background-color: #434B5C;\n",
              "      box-shadow: 0px 1px 3px 1px rgba(0, 0, 0, 0.15);\n",
              "      filter: drop-shadow(0px 1px 2px rgba(0, 0, 0, 0.3));\n",
              "      fill: #FFFFFF;\n",
              "    }\n",
              "  </style>\n",
              "\n",
              "      <script>\n",
              "        const buttonEl =\n",
              "          document.querySelector('#df-74b7e214-036e-470a-acfd-32675799dd8d button.colab-df-convert');\n",
              "        buttonEl.style.display =\n",
              "          google.colab.kernel.accessAllowed ? 'block' : 'none';\n",
              "\n",
              "        async function convertToInteractive(key) {\n",
              "          const element = document.querySelector('#df-74b7e214-036e-470a-acfd-32675799dd8d');\n",
              "          const dataTable =\n",
              "            await google.colab.kernel.invokeFunction('convertToInteractive',\n",
              "                                                     [key], {});\n",
              "          if (!dataTable) return;\n",
              "\n",
              "          const docLinkHtml = 'Like what you see? Visit the ' +\n",
              "            '<a target=\"_blank\" href=https://colab.research.google.com/notebooks/data_table.ipynb>data table notebook</a>'\n",
              "            + ' to learn more about interactive tables.';\n",
              "          element.innerHTML = '';\n",
              "          dataTable['output_type'] = 'display_data';\n",
              "          await google.colab.output.renderOutput(dataTable, element);\n",
              "          const docLink = document.createElement('div');\n",
              "          docLink.innerHTML = docLinkHtml;\n",
              "          element.appendChild(docLink);\n",
              "        }\n",
              "      </script>\n",
              "    </div>\n",
              "  </div>\n"
            ]
          },
          "metadata": {},
          "execution_count": 9
        }
      ]
    },
    {
      "cell_type": "markdown",
      "source": [
        "Seperating date column and seperating it into new columns Month,Year and day"
      ],
      "metadata": {
        "id": "GC0hRMZy7Y0L"
      }
    },
    {
      "cell_type": "code",
      "source": [
        "data['Date'] = pd.to_datetime(data.index).date"
      ],
      "metadata": {
        "id": "Zxuo73o6kbTe"
      },
      "execution_count": 10,
      "outputs": []
    },
    {
      "cell_type": "code",
      "source": [
        "data = data.reset_index(drop=True)\n",
        "data"
      ],
      "metadata": {
        "colab": {
          "base_uri": "https://localhost:8080/",
          "height": 423
        },
        "id": "bwOab_z5l6J_",
        "outputId": "3e0b6a4c-7f2f-4aac-cc6d-880af7dcfef8"
      },
      "execution_count": 11,
      "outputs": [
        {
          "output_type": "execute_result",
          "data": {
            "text/plain": [
              "             Open         High          Low        Close    Adj Close  \\\n",
              "0      308.644989   329.451996   307.056000   320.884003   320.884003   \n",
              "1      320.670990   324.717987   294.541992   299.252991   299.252991   \n",
              "2      298.585999   319.453003   298.191986   314.681000   314.681000   \n",
              "3      314.690002   319.153015   298.513000   307.907990   307.907990   \n",
              "4      307.024994   328.415009   307.024994   316.716003   316.716003   \n",
              "...           ...          ...          ...          ...          ...   \n",
              "2066  1847.512573  1876.963257  1832.025391  1870.602539  1870.602539   \n",
              "2067  1871.002075  1872.501587  1844.641724  1865.539551  1865.539551   \n",
              "2068  1865.594971  1878.668945  1857.748291  1863.009766  1863.009766   \n",
              "2069  1863.240234  1905.460815  1848.777222  1880.556396  1880.556396   \n",
              "2070  1880.654907  1889.381714  1863.218628  1878.336060  1878.336060   \n",
              "\n",
              "          Volume        Date  \n",
              "0      893249984  2017-11-09  \n",
              "1      885985984  2017-11-10  \n",
              "2      842300992  2017-11-11  \n",
              "3     1613479936  2017-11-12  \n",
              "4     1041889984  2017-11-13  \n",
              "...          ...         ...  \n",
              "2066  6468885150  2023-07-07  \n",
              "2067  4299007854  2023-07-08  \n",
              "2068  4392863807  2023-07-09  \n",
              "2069  6336468234  2023-07-10  \n",
              "2070  4905225892  2023-07-11  \n",
              "\n",
              "[2071 rows x 7 columns]"
            ],
            "text/html": [
              "\n",
              "\n",
              "  <div id=\"df-54ad4cf6-f7ab-4b17-b7ec-7b9da26f4b73\">\n",
              "    <div class=\"colab-df-container\">\n",
              "      <div>\n",
              "<style scoped>\n",
              "    .dataframe tbody tr th:only-of-type {\n",
              "        vertical-align: middle;\n",
              "    }\n",
              "\n",
              "    .dataframe tbody tr th {\n",
              "        vertical-align: top;\n",
              "    }\n",
              "\n",
              "    .dataframe thead th {\n",
              "        text-align: right;\n",
              "    }\n",
              "</style>\n",
              "<table border=\"1\" class=\"dataframe\">\n",
              "  <thead>\n",
              "    <tr style=\"text-align: right;\">\n",
              "      <th></th>\n",
              "      <th>Open</th>\n",
              "      <th>High</th>\n",
              "      <th>Low</th>\n",
              "      <th>Close</th>\n",
              "      <th>Adj Close</th>\n",
              "      <th>Volume</th>\n",
              "      <th>Date</th>\n",
              "    </tr>\n",
              "  </thead>\n",
              "  <tbody>\n",
              "    <tr>\n",
              "      <th>0</th>\n",
              "      <td>308.644989</td>\n",
              "      <td>329.451996</td>\n",
              "      <td>307.056000</td>\n",
              "      <td>320.884003</td>\n",
              "      <td>320.884003</td>\n",
              "      <td>893249984</td>\n",
              "      <td>2017-11-09</td>\n",
              "    </tr>\n",
              "    <tr>\n",
              "      <th>1</th>\n",
              "      <td>320.670990</td>\n",
              "      <td>324.717987</td>\n",
              "      <td>294.541992</td>\n",
              "      <td>299.252991</td>\n",
              "      <td>299.252991</td>\n",
              "      <td>885985984</td>\n",
              "      <td>2017-11-10</td>\n",
              "    </tr>\n",
              "    <tr>\n",
              "      <th>2</th>\n",
              "      <td>298.585999</td>\n",
              "      <td>319.453003</td>\n",
              "      <td>298.191986</td>\n",
              "      <td>314.681000</td>\n",
              "      <td>314.681000</td>\n",
              "      <td>842300992</td>\n",
              "      <td>2017-11-11</td>\n",
              "    </tr>\n",
              "    <tr>\n",
              "      <th>3</th>\n",
              "      <td>314.690002</td>\n",
              "      <td>319.153015</td>\n",
              "      <td>298.513000</td>\n",
              "      <td>307.907990</td>\n",
              "      <td>307.907990</td>\n",
              "      <td>1613479936</td>\n",
              "      <td>2017-11-12</td>\n",
              "    </tr>\n",
              "    <tr>\n",
              "      <th>4</th>\n",
              "      <td>307.024994</td>\n",
              "      <td>328.415009</td>\n",
              "      <td>307.024994</td>\n",
              "      <td>316.716003</td>\n",
              "      <td>316.716003</td>\n",
              "      <td>1041889984</td>\n",
              "      <td>2017-11-13</td>\n",
              "    </tr>\n",
              "    <tr>\n",
              "      <th>...</th>\n",
              "      <td>...</td>\n",
              "      <td>...</td>\n",
              "      <td>...</td>\n",
              "      <td>...</td>\n",
              "      <td>...</td>\n",
              "      <td>...</td>\n",
              "      <td>...</td>\n",
              "    </tr>\n",
              "    <tr>\n",
              "      <th>2066</th>\n",
              "      <td>1847.512573</td>\n",
              "      <td>1876.963257</td>\n",
              "      <td>1832.025391</td>\n",
              "      <td>1870.602539</td>\n",
              "      <td>1870.602539</td>\n",
              "      <td>6468885150</td>\n",
              "      <td>2023-07-07</td>\n",
              "    </tr>\n",
              "    <tr>\n",
              "      <th>2067</th>\n",
              "      <td>1871.002075</td>\n",
              "      <td>1872.501587</td>\n",
              "      <td>1844.641724</td>\n",
              "      <td>1865.539551</td>\n",
              "      <td>1865.539551</td>\n",
              "      <td>4299007854</td>\n",
              "      <td>2023-07-08</td>\n",
              "    </tr>\n",
              "    <tr>\n",
              "      <th>2068</th>\n",
              "      <td>1865.594971</td>\n",
              "      <td>1878.668945</td>\n",
              "      <td>1857.748291</td>\n",
              "      <td>1863.009766</td>\n",
              "      <td>1863.009766</td>\n",
              "      <td>4392863807</td>\n",
              "      <td>2023-07-09</td>\n",
              "    </tr>\n",
              "    <tr>\n",
              "      <th>2069</th>\n",
              "      <td>1863.240234</td>\n",
              "      <td>1905.460815</td>\n",
              "      <td>1848.777222</td>\n",
              "      <td>1880.556396</td>\n",
              "      <td>1880.556396</td>\n",
              "      <td>6336468234</td>\n",
              "      <td>2023-07-10</td>\n",
              "    </tr>\n",
              "    <tr>\n",
              "      <th>2070</th>\n",
              "      <td>1880.654907</td>\n",
              "      <td>1889.381714</td>\n",
              "      <td>1863.218628</td>\n",
              "      <td>1878.336060</td>\n",
              "      <td>1878.336060</td>\n",
              "      <td>4905225892</td>\n",
              "      <td>2023-07-11</td>\n",
              "    </tr>\n",
              "  </tbody>\n",
              "</table>\n",
              "<p>2071 rows × 7 columns</p>\n",
              "</div>\n",
              "      <button class=\"colab-df-convert\" onclick=\"convertToInteractive('df-54ad4cf6-f7ab-4b17-b7ec-7b9da26f4b73')\"\n",
              "              title=\"Convert this dataframe to an interactive table.\"\n",
              "              style=\"display:none;\">\n",
              "\n",
              "  <svg xmlns=\"http://www.w3.org/2000/svg\" height=\"24px\"viewBox=\"0 0 24 24\"\n",
              "       width=\"24px\">\n",
              "    <path d=\"M0 0h24v24H0V0z\" fill=\"none\"/>\n",
              "    <path d=\"M18.56 5.44l.94 2.06.94-2.06 2.06-.94-2.06-.94-.94-2.06-.94 2.06-2.06.94zm-11 1L8.5 8.5l.94-2.06 2.06-.94-2.06-.94L8.5 2.5l-.94 2.06-2.06.94zm10 10l.94 2.06.94-2.06 2.06-.94-2.06-.94-.94-2.06-.94 2.06-2.06.94z\"/><path d=\"M17.41 7.96l-1.37-1.37c-.4-.4-.92-.59-1.43-.59-.52 0-1.04.2-1.43.59L10.3 9.45l-7.72 7.72c-.78.78-.78 2.05 0 2.83L4 21.41c.39.39.9.59 1.41.59.51 0 1.02-.2 1.41-.59l7.78-7.78 2.81-2.81c.8-.78.8-2.07 0-2.86zM5.41 20L4 18.59l7.72-7.72 1.47 1.35L5.41 20z\"/>\n",
              "  </svg>\n",
              "      </button>\n",
              "\n",
              "\n",
              "\n",
              "    <div id=\"df-170d7ecb-13d6-41a6-986a-0760f14c1f01\">\n",
              "      <button class=\"colab-df-quickchart\" onclick=\"quickchart('df-170d7ecb-13d6-41a6-986a-0760f14c1f01')\"\n",
              "              title=\"Suggest charts.\"\n",
              "              style=\"display:none;\">\n",
              "\n",
              "<svg xmlns=\"http://www.w3.org/2000/svg\" height=\"24px\"viewBox=\"0 0 24 24\"\n",
              "     width=\"24px\">\n",
              "    <g>\n",
              "        <path d=\"M19 3H5c-1.1 0-2 .9-2 2v14c0 1.1.9 2 2 2h14c1.1 0 2-.9 2-2V5c0-1.1-.9-2-2-2zM9 17H7v-7h2v7zm4 0h-2V7h2v10zm4 0h-2v-4h2v4z\"/>\n",
              "    </g>\n",
              "</svg>\n",
              "      </button>\n",
              "    </div>\n",
              "\n",
              "<style>\n",
              "  .colab-df-quickchart {\n",
              "    background-color: #E8F0FE;\n",
              "    border: none;\n",
              "    border-radius: 50%;\n",
              "    cursor: pointer;\n",
              "    display: none;\n",
              "    fill: #1967D2;\n",
              "    height: 32px;\n",
              "    padding: 0 0 0 0;\n",
              "    width: 32px;\n",
              "  }\n",
              "\n",
              "  .colab-df-quickchart:hover {\n",
              "    background-color: #E2EBFA;\n",
              "    box-shadow: 0px 1px 2px rgba(60, 64, 67, 0.3), 0px 1px 3px 1px rgba(60, 64, 67, 0.15);\n",
              "    fill: #174EA6;\n",
              "  }\n",
              "\n",
              "  [theme=dark] .colab-df-quickchart {\n",
              "    background-color: #3B4455;\n",
              "    fill: #D2E3FC;\n",
              "  }\n",
              "\n",
              "  [theme=dark] .colab-df-quickchart:hover {\n",
              "    background-color: #434B5C;\n",
              "    box-shadow: 0px 1px 3px 1px rgba(0, 0, 0, 0.15);\n",
              "    filter: drop-shadow(0px 1px 2px rgba(0, 0, 0, 0.3));\n",
              "    fill: #FFFFFF;\n",
              "  }\n",
              "</style>\n",
              "\n",
              "    <script>\n",
              "      async function quickchart(key) {\n",
              "        const containerElement = document.querySelector('#' + key);\n",
              "        const charts = await google.colab.kernel.invokeFunction(\n",
              "            'suggestCharts', [key], {});\n",
              "      }\n",
              "    </script>\n",
              "\n",
              "      <script>\n",
              "\n",
              "function displayQuickchartButton(domScope) {\n",
              "  let quickchartButtonEl =\n",
              "    domScope.querySelector('#df-170d7ecb-13d6-41a6-986a-0760f14c1f01 button.colab-df-quickchart');\n",
              "  quickchartButtonEl.style.display =\n",
              "    google.colab.kernel.accessAllowed ? 'block' : 'none';\n",
              "}\n",
              "\n",
              "        displayQuickchartButton(document);\n",
              "      </script>\n",
              "      <style>\n",
              "    .colab-df-container {\n",
              "      display:flex;\n",
              "      flex-wrap:wrap;\n",
              "      gap: 12px;\n",
              "    }\n",
              "\n",
              "    .colab-df-convert {\n",
              "      background-color: #E8F0FE;\n",
              "      border: none;\n",
              "      border-radius: 50%;\n",
              "      cursor: pointer;\n",
              "      display: none;\n",
              "      fill: #1967D2;\n",
              "      height: 32px;\n",
              "      padding: 0 0 0 0;\n",
              "      width: 32px;\n",
              "    }\n",
              "\n",
              "    .colab-df-convert:hover {\n",
              "      background-color: #E2EBFA;\n",
              "      box-shadow: 0px 1px 2px rgba(60, 64, 67, 0.3), 0px 1px 3px 1px rgba(60, 64, 67, 0.15);\n",
              "      fill: #174EA6;\n",
              "    }\n",
              "\n",
              "    [theme=dark] .colab-df-convert {\n",
              "      background-color: #3B4455;\n",
              "      fill: #D2E3FC;\n",
              "    }\n",
              "\n",
              "    [theme=dark] .colab-df-convert:hover {\n",
              "      background-color: #434B5C;\n",
              "      box-shadow: 0px 1px 3px 1px rgba(0, 0, 0, 0.15);\n",
              "      filter: drop-shadow(0px 1px 2px rgba(0, 0, 0, 0.3));\n",
              "      fill: #FFFFFF;\n",
              "    }\n",
              "  </style>\n",
              "\n",
              "      <script>\n",
              "        const buttonEl =\n",
              "          document.querySelector('#df-54ad4cf6-f7ab-4b17-b7ec-7b9da26f4b73 button.colab-df-convert');\n",
              "        buttonEl.style.display =\n",
              "          google.colab.kernel.accessAllowed ? 'block' : 'none';\n",
              "\n",
              "        async function convertToInteractive(key) {\n",
              "          const element = document.querySelector('#df-54ad4cf6-f7ab-4b17-b7ec-7b9da26f4b73');\n",
              "          const dataTable =\n",
              "            await google.colab.kernel.invokeFunction('convertToInteractive',\n",
              "                                                     [key], {});\n",
              "          if (!dataTable) return;\n",
              "\n",
              "          const docLinkHtml = 'Like what you see? Visit the ' +\n",
              "            '<a target=\"_blank\" href=https://colab.research.google.com/notebooks/data_table.ipynb>data table notebook</a>'\n",
              "            + ' to learn more about interactive tables.';\n",
              "          element.innerHTML = '';\n",
              "          dataTable['output_type'] = 'display_data';\n",
              "          await google.colab.output.renderOutput(dataTable, element);\n",
              "          const docLink = document.createElement('div');\n",
              "          docLink.innerHTML = docLinkHtml;\n",
              "          element.appendChild(docLink);\n",
              "        }\n",
              "      </script>\n",
              "    </div>\n",
              "  </div>\n"
            ]
          },
          "metadata": {},
          "execution_count": 11
        }
      ]
    },
    {
      "cell_type": "code",
      "source": [
        "data['Month'] = pd.to_datetime(data['Date']).dt.month"
      ],
      "metadata": {
        "id": "vQj7n8EEA01-"
      },
      "execution_count": 12,
      "outputs": []
    },
    {
      "cell_type": "code",
      "source": [
        "data['Year'] = pd.to_datetime(data['Date']).dt.year\n",
        "data['day'] = pd.to_datetime(data['Date']).dt.day"
      ],
      "metadata": {
        "id": "JjNKDc3rCYts"
      },
      "execution_count": 13,
      "outputs": []
    },
    {
      "cell_type": "code",
      "source": [
        "data"
      ],
      "metadata": {
        "colab": {
          "base_uri": "https://localhost:8080/",
          "height": 423
        },
        "id": "wURNwFoHFC2w",
        "outputId": "9180814a-2547-4b78-b47a-5bfd1a4d4b89"
      },
      "execution_count": 14,
      "outputs": [
        {
          "output_type": "execute_result",
          "data": {
            "text/plain": [
              "             Open         High          Low        Close    Adj Close  \\\n",
              "0      308.644989   329.451996   307.056000   320.884003   320.884003   \n",
              "1      320.670990   324.717987   294.541992   299.252991   299.252991   \n",
              "2      298.585999   319.453003   298.191986   314.681000   314.681000   \n",
              "3      314.690002   319.153015   298.513000   307.907990   307.907990   \n",
              "4      307.024994   328.415009   307.024994   316.716003   316.716003   \n",
              "...           ...          ...          ...          ...          ...   \n",
              "2066  1847.512573  1876.963257  1832.025391  1870.602539  1870.602539   \n",
              "2067  1871.002075  1872.501587  1844.641724  1865.539551  1865.539551   \n",
              "2068  1865.594971  1878.668945  1857.748291  1863.009766  1863.009766   \n",
              "2069  1863.240234  1905.460815  1848.777222  1880.556396  1880.556396   \n",
              "2070  1880.654907  1889.381714  1863.218628  1878.336060  1878.336060   \n",
              "\n",
              "          Volume        Date  Month  Year  day  \n",
              "0      893249984  2017-11-09     11  2017    9  \n",
              "1      885985984  2017-11-10     11  2017   10  \n",
              "2      842300992  2017-11-11     11  2017   11  \n",
              "3     1613479936  2017-11-12     11  2017   12  \n",
              "4     1041889984  2017-11-13     11  2017   13  \n",
              "...          ...         ...    ...   ...  ...  \n",
              "2066  6468885150  2023-07-07      7  2023    7  \n",
              "2067  4299007854  2023-07-08      7  2023    8  \n",
              "2068  4392863807  2023-07-09      7  2023    9  \n",
              "2069  6336468234  2023-07-10      7  2023   10  \n",
              "2070  4905225892  2023-07-11      7  2023   11  \n",
              "\n",
              "[2071 rows x 10 columns]"
            ],
            "text/html": [
              "\n",
              "\n",
              "  <div id=\"df-c741112c-8107-47a1-95a6-cf50862af26b\">\n",
              "    <div class=\"colab-df-container\">\n",
              "      <div>\n",
              "<style scoped>\n",
              "    .dataframe tbody tr th:only-of-type {\n",
              "        vertical-align: middle;\n",
              "    }\n",
              "\n",
              "    .dataframe tbody tr th {\n",
              "        vertical-align: top;\n",
              "    }\n",
              "\n",
              "    .dataframe thead th {\n",
              "        text-align: right;\n",
              "    }\n",
              "</style>\n",
              "<table border=\"1\" class=\"dataframe\">\n",
              "  <thead>\n",
              "    <tr style=\"text-align: right;\">\n",
              "      <th></th>\n",
              "      <th>Open</th>\n",
              "      <th>High</th>\n",
              "      <th>Low</th>\n",
              "      <th>Close</th>\n",
              "      <th>Adj Close</th>\n",
              "      <th>Volume</th>\n",
              "      <th>Date</th>\n",
              "      <th>Month</th>\n",
              "      <th>Year</th>\n",
              "      <th>day</th>\n",
              "    </tr>\n",
              "  </thead>\n",
              "  <tbody>\n",
              "    <tr>\n",
              "      <th>0</th>\n",
              "      <td>308.644989</td>\n",
              "      <td>329.451996</td>\n",
              "      <td>307.056000</td>\n",
              "      <td>320.884003</td>\n",
              "      <td>320.884003</td>\n",
              "      <td>893249984</td>\n",
              "      <td>2017-11-09</td>\n",
              "      <td>11</td>\n",
              "      <td>2017</td>\n",
              "      <td>9</td>\n",
              "    </tr>\n",
              "    <tr>\n",
              "      <th>1</th>\n",
              "      <td>320.670990</td>\n",
              "      <td>324.717987</td>\n",
              "      <td>294.541992</td>\n",
              "      <td>299.252991</td>\n",
              "      <td>299.252991</td>\n",
              "      <td>885985984</td>\n",
              "      <td>2017-11-10</td>\n",
              "      <td>11</td>\n",
              "      <td>2017</td>\n",
              "      <td>10</td>\n",
              "    </tr>\n",
              "    <tr>\n",
              "      <th>2</th>\n",
              "      <td>298.585999</td>\n",
              "      <td>319.453003</td>\n",
              "      <td>298.191986</td>\n",
              "      <td>314.681000</td>\n",
              "      <td>314.681000</td>\n",
              "      <td>842300992</td>\n",
              "      <td>2017-11-11</td>\n",
              "      <td>11</td>\n",
              "      <td>2017</td>\n",
              "      <td>11</td>\n",
              "    </tr>\n",
              "    <tr>\n",
              "      <th>3</th>\n",
              "      <td>314.690002</td>\n",
              "      <td>319.153015</td>\n",
              "      <td>298.513000</td>\n",
              "      <td>307.907990</td>\n",
              "      <td>307.907990</td>\n",
              "      <td>1613479936</td>\n",
              "      <td>2017-11-12</td>\n",
              "      <td>11</td>\n",
              "      <td>2017</td>\n",
              "      <td>12</td>\n",
              "    </tr>\n",
              "    <tr>\n",
              "      <th>4</th>\n",
              "      <td>307.024994</td>\n",
              "      <td>328.415009</td>\n",
              "      <td>307.024994</td>\n",
              "      <td>316.716003</td>\n",
              "      <td>316.716003</td>\n",
              "      <td>1041889984</td>\n",
              "      <td>2017-11-13</td>\n",
              "      <td>11</td>\n",
              "      <td>2017</td>\n",
              "      <td>13</td>\n",
              "    </tr>\n",
              "    <tr>\n",
              "      <th>...</th>\n",
              "      <td>...</td>\n",
              "      <td>...</td>\n",
              "      <td>...</td>\n",
              "      <td>...</td>\n",
              "      <td>...</td>\n",
              "      <td>...</td>\n",
              "      <td>...</td>\n",
              "      <td>...</td>\n",
              "      <td>...</td>\n",
              "      <td>...</td>\n",
              "    </tr>\n",
              "    <tr>\n",
              "      <th>2066</th>\n",
              "      <td>1847.512573</td>\n",
              "      <td>1876.963257</td>\n",
              "      <td>1832.025391</td>\n",
              "      <td>1870.602539</td>\n",
              "      <td>1870.602539</td>\n",
              "      <td>6468885150</td>\n",
              "      <td>2023-07-07</td>\n",
              "      <td>7</td>\n",
              "      <td>2023</td>\n",
              "      <td>7</td>\n",
              "    </tr>\n",
              "    <tr>\n",
              "      <th>2067</th>\n",
              "      <td>1871.002075</td>\n",
              "      <td>1872.501587</td>\n",
              "      <td>1844.641724</td>\n",
              "      <td>1865.539551</td>\n",
              "      <td>1865.539551</td>\n",
              "      <td>4299007854</td>\n",
              "      <td>2023-07-08</td>\n",
              "      <td>7</td>\n",
              "      <td>2023</td>\n",
              "      <td>8</td>\n",
              "    </tr>\n",
              "    <tr>\n",
              "      <th>2068</th>\n",
              "      <td>1865.594971</td>\n",
              "      <td>1878.668945</td>\n",
              "      <td>1857.748291</td>\n",
              "      <td>1863.009766</td>\n",
              "      <td>1863.009766</td>\n",
              "      <td>4392863807</td>\n",
              "      <td>2023-07-09</td>\n",
              "      <td>7</td>\n",
              "      <td>2023</td>\n",
              "      <td>9</td>\n",
              "    </tr>\n",
              "    <tr>\n",
              "      <th>2069</th>\n",
              "      <td>1863.240234</td>\n",
              "      <td>1905.460815</td>\n",
              "      <td>1848.777222</td>\n",
              "      <td>1880.556396</td>\n",
              "      <td>1880.556396</td>\n",
              "      <td>6336468234</td>\n",
              "      <td>2023-07-10</td>\n",
              "      <td>7</td>\n",
              "      <td>2023</td>\n",
              "      <td>10</td>\n",
              "    </tr>\n",
              "    <tr>\n",
              "      <th>2070</th>\n",
              "      <td>1880.654907</td>\n",
              "      <td>1889.381714</td>\n",
              "      <td>1863.218628</td>\n",
              "      <td>1878.336060</td>\n",
              "      <td>1878.336060</td>\n",
              "      <td>4905225892</td>\n",
              "      <td>2023-07-11</td>\n",
              "      <td>7</td>\n",
              "      <td>2023</td>\n",
              "      <td>11</td>\n",
              "    </tr>\n",
              "  </tbody>\n",
              "</table>\n",
              "<p>2071 rows × 10 columns</p>\n",
              "</div>\n",
              "      <button class=\"colab-df-convert\" onclick=\"convertToInteractive('df-c741112c-8107-47a1-95a6-cf50862af26b')\"\n",
              "              title=\"Convert this dataframe to an interactive table.\"\n",
              "              style=\"display:none;\">\n",
              "\n",
              "  <svg xmlns=\"http://www.w3.org/2000/svg\" height=\"24px\"viewBox=\"0 0 24 24\"\n",
              "       width=\"24px\">\n",
              "    <path d=\"M0 0h24v24H0V0z\" fill=\"none\"/>\n",
              "    <path d=\"M18.56 5.44l.94 2.06.94-2.06 2.06-.94-2.06-.94-.94-2.06-.94 2.06-2.06.94zm-11 1L8.5 8.5l.94-2.06 2.06-.94-2.06-.94L8.5 2.5l-.94 2.06-2.06.94zm10 10l.94 2.06.94-2.06 2.06-.94-2.06-.94-.94-2.06-.94 2.06-2.06.94z\"/><path d=\"M17.41 7.96l-1.37-1.37c-.4-.4-.92-.59-1.43-.59-.52 0-1.04.2-1.43.59L10.3 9.45l-7.72 7.72c-.78.78-.78 2.05 0 2.83L4 21.41c.39.39.9.59 1.41.59.51 0 1.02-.2 1.41-.59l7.78-7.78 2.81-2.81c.8-.78.8-2.07 0-2.86zM5.41 20L4 18.59l7.72-7.72 1.47 1.35L5.41 20z\"/>\n",
              "  </svg>\n",
              "      </button>\n",
              "\n",
              "\n",
              "\n",
              "    <div id=\"df-2644118f-4f9b-41d9-9b3e-0615b22f9e57\">\n",
              "      <button class=\"colab-df-quickchart\" onclick=\"quickchart('df-2644118f-4f9b-41d9-9b3e-0615b22f9e57')\"\n",
              "              title=\"Suggest charts.\"\n",
              "              style=\"display:none;\">\n",
              "\n",
              "<svg xmlns=\"http://www.w3.org/2000/svg\" height=\"24px\"viewBox=\"0 0 24 24\"\n",
              "     width=\"24px\">\n",
              "    <g>\n",
              "        <path d=\"M19 3H5c-1.1 0-2 .9-2 2v14c0 1.1.9 2 2 2h14c1.1 0 2-.9 2-2V5c0-1.1-.9-2-2-2zM9 17H7v-7h2v7zm4 0h-2V7h2v10zm4 0h-2v-4h2v4z\"/>\n",
              "    </g>\n",
              "</svg>\n",
              "      </button>\n",
              "    </div>\n",
              "\n",
              "<style>\n",
              "  .colab-df-quickchart {\n",
              "    background-color: #E8F0FE;\n",
              "    border: none;\n",
              "    border-radius: 50%;\n",
              "    cursor: pointer;\n",
              "    display: none;\n",
              "    fill: #1967D2;\n",
              "    height: 32px;\n",
              "    padding: 0 0 0 0;\n",
              "    width: 32px;\n",
              "  }\n",
              "\n",
              "  .colab-df-quickchart:hover {\n",
              "    background-color: #E2EBFA;\n",
              "    box-shadow: 0px 1px 2px rgba(60, 64, 67, 0.3), 0px 1px 3px 1px rgba(60, 64, 67, 0.15);\n",
              "    fill: #174EA6;\n",
              "  }\n",
              "\n",
              "  [theme=dark] .colab-df-quickchart {\n",
              "    background-color: #3B4455;\n",
              "    fill: #D2E3FC;\n",
              "  }\n",
              "\n",
              "  [theme=dark] .colab-df-quickchart:hover {\n",
              "    background-color: #434B5C;\n",
              "    box-shadow: 0px 1px 3px 1px rgba(0, 0, 0, 0.15);\n",
              "    filter: drop-shadow(0px 1px 2px rgba(0, 0, 0, 0.3));\n",
              "    fill: #FFFFFF;\n",
              "  }\n",
              "</style>\n",
              "\n",
              "    <script>\n",
              "      async function quickchart(key) {\n",
              "        const containerElement = document.querySelector('#' + key);\n",
              "        const charts = await google.colab.kernel.invokeFunction(\n",
              "            'suggestCharts', [key], {});\n",
              "      }\n",
              "    </script>\n",
              "\n",
              "      <script>\n",
              "\n",
              "function displayQuickchartButton(domScope) {\n",
              "  let quickchartButtonEl =\n",
              "    domScope.querySelector('#df-2644118f-4f9b-41d9-9b3e-0615b22f9e57 button.colab-df-quickchart');\n",
              "  quickchartButtonEl.style.display =\n",
              "    google.colab.kernel.accessAllowed ? 'block' : 'none';\n",
              "}\n",
              "\n",
              "        displayQuickchartButton(document);\n",
              "      </script>\n",
              "      <style>\n",
              "    .colab-df-container {\n",
              "      display:flex;\n",
              "      flex-wrap:wrap;\n",
              "      gap: 12px;\n",
              "    }\n",
              "\n",
              "    .colab-df-convert {\n",
              "      background-color: #E8F0FE;\n",
              "      border: none;\n",
              "      border-radius: 50%;\n",
              "      cursor: pointer;\n",
              "      display: none;\n",
              "      fill: #1967D2;\n",
              "      height: 32px;\n",
              "      padding: 0 0 0 0;\n",
              "      width: 32px;\n",
              "    }\n",
              "\n",
              "    .colab-df-convert:hover {\n",
              "      background-color: #E2EBFA;\n",
              "      box-shadow: 0px 1px 2px rgba(60, 64, 67, 0.3), 0px 1px 3px 1px rgba(60, 64, 67, 0.15);\n",
              "      fill: #174EA6;\n",
              "    }\n",
              "\n",
              "    [theme=dark] .colab-df-convert {\n",
              "      background-color: #3B4455;\n",
              "      fill: #D2E3FC;\n",
              "    }\n",
              "\n",
              "    [theme=dark] .colab-df-convert:hover {\n",
              "      background-color: #434B5C;\n",
              "      box-shadow: 0px 1px 3px 1px rgba(0, 0, 0, 0.15);\n",
              "      filter: drop-shadow(0px 1px 2px rgba(0, 0, 0, 0.3));\n",
              "      fill: #FFFFFF;\n",
              "    }\n",
              "  </style>\n",
              "\n",
              "      <script>\n",
              "        const buttonEl =\n",
              "          document.querySelector('#df-c741112c-8107-47a1-95a6-cf50862af26b button.colab-df-convert');\n",
              "        buttonEl.style.display =\n",
              "          google.colab.kernel.accessAllowed ? 'block' : 'none';\n",
              "\n",
              "        async function convertToInteractive(key) {\n",
              "          const element = document.querySelector('#df-c741112c-8107-47a1-95a6-cf50862af26b');\n",
              "          const dataTable =\n",
              "            await google.colab.kernel.invokeFunction('convertToInteractive',\n",
              "                                                     [key], {});\n",
              "          if (!dataTable) return;\n",
              "\n",
              "          const docLinkHtml = 'Like what you see? Visit the ' +\n",
              "            '<a target=\"_blank\" href=https://colab.research.google.com/notebooks/data_table.ipynb>data table notebook</a>'\n",
              "            + ' to learn more about interactive tables.';\n",
              "          element.innerHTML = '';\n",
              "          dataTable['output_type'] = 'display_data';\n",
              "          await google.colab.output.renderOutput(dataTable, element);\n",
              "          const docLink = document.createElement('div');\n",
              "          docLink.innerHTML = docLinkHtml;\n",
              "          element.appendChild(docLink);\n",
              "        }\n",
              "      </script>\n",
              "    </div>\n",
              "  </div>\n"
            ]
          },
          "metadata": {},
          "execution_count": 14
        }
      ]
    },
    {
      "cell_type": "markdown",
      "source": [
        "Using scatter plot to gain insight about closing value throughtout the dataset and analyzing pattern."
      ],
      "metadata": {
        "id": "9x1n7FpZ77NR"
      }
    },
    {
      "cell_type": "code",
      "source": [
        "px.scatter(data,x=data['Date'],y=data['Close'])"
      ],
      "metadata": {
        "colab": {
          "base_uri": "https://localhost:8080/",
          "height": 542
        },
        "id": "5XcWPm3GFwJ3",
        "outputId": "1eccdd79-1bfb-4b9f-d18b-ff15758705c1"
      },
      "execution_count": 15,
      "outputs": [
        {
          "output_type": "display_data",
          "data": {
            "text/html": [
              "<html>\n",
              "<head><meta charset=\"utf-8\" /></head>\n",
              "<body>\n",
              "    <div>            <script src=\"https://cdnjs.cloudflare.com/ajax/libs/mathjax/2.7.5/MathJax.js?config=TeX-AMS-MML_SVG\"></script><script type=\"text/javascript\">if (window.MathJax && window.MathJax.Hub && window.MathJax.Hub.Config) {window.MathJax.Hub.Config({SVG: {font: \"STIX-Web\"}});}</script>                <script type=\"text/javascript\">window.PlotlyConfig = {MathJaxConfig: 'local'};</script>\n",
              "        <script src=\"https://cdn.plot.ly/plotly-2.18.2.min.js\"></script>                <div id=\"5c54c2a4-97f5-478f-a0c2-47e16c471e7c\" class=\"plotly-graph-div\" style=\"height:525px; width:100%;\"></div>            <script type=\"text/javascript\">                                    window.PLOTLYENV=window.PLOTLYENV || {};                                    if (document.getElementById(\"5c54c2a4-97f5-478f-a0c2-47e16c471e7c\")) {                    Plotly.newPlot(                        \"5c54c2a4-97f5-478f-a0c2-47e16c471e7c\",                        [{\"hovertemplate\":\"Date=%{x}<br>Close=%{y}<extra></extra>\",\"legendgroup\":\"\",\"marker\":{\"color\":\"#636efa\",\"symbol\":\"circle\"},\"mode\":\"markers\",\"name\":\"\",\"showlegend\":false,\"x\":[\"2017-11-09\",\"2017-11-10\",\"2017-11-11\",\"2017-11-12\",\"2017-11-13\",\"2017-11-14\",\"2017-11-15\",\"2017-11-16\",\"2017-11-17\",\"2017-11-18\",\"2017-11-19\",\"2017-11-20\",\"2017-11-21\",\"2017-11-22\",\"2017-11-23\",\"2017-11-24\",\"2017-11-25\",\"2017-11-26\",\"2017-11-27\",\"2017-11-28\",\"2017-11-29\",\"2017-11-30\",\"2017-12-01\",\"2017-12-02\",\"2017-12-03\",\"2017-12-04\",\"2017-12-05\",\"2017-12-06\",\"2017-12-07\",\"2017-12-08\",\"2017-12-09\",\"2017-12-10\",\"2017-12-11\",\"2017-12-12\",\"2017-12-13\",\"2017-12-14\",\"2017-12-15\",\"2017-12-16\",\"2017-12-17\",\"2017-12-18\",\"2017-12-19\",\"2017-12-20\",\"2017-12-21\",\"2017-12-22\",\"2017-12-23\",\"2017-12-24\",\"2017-12-25\",\"2017-12-26\",\"2017-12-27\",\"2017-12-28\",\"2017-12-29\",\"2017-12-30\",\"2017-12-31\",\"2018-01-01\",\"2018-01-02\",\"2018-01-03\",\"2018-01-04\",\"2018-01-05\",\"2018-01-06\",\"2018-01-07\",\"2018-01-08\",\"2018-01-09\",\"2018-01-10\",\"2018-01-11\",\"2018-01-12\",\"2018-01-13\",\"2018-01-14\",\"2018-01-15\",\"2018-01-16\",\"2018-01-17\",\"2018-01-18\",\"2018-01-19\",\"2018-01-20\",\"2018-01-21\",\"2018-01-22\",\"2018-01-23\",\"2018-01-24\",\"2018-01-25\",\"2018-01-26\",\"2018-01-27\",\"2018-01-28\",\"2018-01-29\",\"2018-01-30\",\"2018-01-31\",\"2018-02-01\",\"2018-02-02\",\"2018-02-03\",\"2018-02-04\",\"2018-02-05\",\"2018-02-06\",\"2018-02-07\",\"2018-02-08\",\"2018-02-09\",\"2018-02-10\",\"2018-02-11\",\"2018-02-12\",\"2018-02-13\",\"2018-02-14\",\"2018-02-15\",\"2018-02-16\",\"2018-02-17\",\"2018-02-18\",\"2018-02-19\",\"2018-02-20\",\"2018-02-21\",\"2018-02-22\",\"2018-02-23\",\"2018-02-24\",\"2018-02-25\",\"2018-02-26\",\"2018-02-27\",\"2018-02-28\",\"2018-03-01\",\"2018-03-02\",\"2018-03-03\",\"2018-03-04\",\"2018-03-05\",\"2018-03-06\",\"2018-03-07\",\"2018-03-08\",\"2018-03-09\",\"2018-03-10\",\"2018-03-11\",\"2018-03-12\",\"2018-03-13\",\"2018-03-14\",\"2018-03-15\",\"2018-03-16\",\"2018-03-17\",\"2018-03-18\",\"2018-03-19\",\"2018-03-20\",\"2018-03-21\",\"2018-03-22\",\"2018-03-23\",\"2018-03-24\",\"2018-03-25\",\"2018-03-26\",\"2018-03-27\",\"2018-03-28\",\"2018-03-29\",\"2018-03-30\",\"2018-03-31\",\"2018-04-01\",\"2018-04-02\",\"2018-04-03\",\"2018-04-04\",\"2018-04-05\",\"2018-04-06\",\"2018-04-07\",\"2018-04-08\",\"2018-04-09\",\"2018-04-10\",\"2018-04-11\",\"2018-04-12\",\"2018-04-13\",\"2018-04-14\",\"2018-04-15\",\"2018-04-16\",\"2018-04-17\",\"2018-04-18\",\"2018-04-19\",\"2018-04-20\",\"2018-04-21\",\"2018-04-22\",\"2018-04-23\",\"2018-04-24\",\"2018-04-25\",\"2018-04-26\",\"2018-04-27\",\"2018-04-28\",\"2018-04-29\",\"2018-04-30\",\"2018-05-01\",\"2018-05-02\",\"2018-05-03\",\"2018-05-04\",\"2018-05-05\",\"2018-05-06\",\"2018-05-07\",\"2018-05-08\",\"2018-05-09\",\"2018-05-10\",\"2018-05-11\",\"2018-05-12\",\"2018-05-13\",\"2018-05-14\",\"2018-05-15\",\"2018-05-16\",\"2018-05-17\",\"2018-05-18\",\"2018-05-19\",\"2018-05-20\",\"2018-05-21\",\"2018-05-22\",\"2018-05-23\",\"2018-05-24\",\"2018-05-25\",\"2018-05-26\",\"2018-05-27\",\"2018-05-28\",\"2018-05-29\",\"2018-05-30\",\"2018-05-31\",\"2018-06-01\",\"2018-06-02\",\"2018-06-03\",\"2018-06-04\",\"2018-06-05\",\"2018-06-06\",\"2018-06-07\",\"2018-06-08\",\"2018-06-09\",\"2018-06-10\",\"2018-06-11\",\"2018-06-12\",\"2018-06-13\",\"2018-06-14\",\"2018-06-15\",\"2018-06-16\",\"2018-06-17\",\"2018-06-18\",\"2018-06-19\",\"2018-06-20\",\"2018-06-21\",\"2018-06-22\",\"2018-06-23\",\"2018-06-24\",\"2018-06-25\",\"2018-06-26\",\"2018-06-27\",\"2018-06-28\",\"2018-06-29\",\"2018-06-30\",\"2018-07-01\",\"2018-07-02\",\"2018-07-03\",\"2018-07-04\",\"2018-07-05\",\"2018-07-06\",\"2018-07-07\",\"2018-07-08\",\"2018-07-09\",\"2018-07-10\",\"2018-07-11\",\"2018-07-12\",\"2018-07-13\",\"2018-07-14\",\"2018-07-15\",\"2018-07-16\",\"2018-07-17\",\"2018-07-18\",\"2018-07-19\",\"2018-07-20\",\"2018-07-21\",\"2018-07-22\",\"2018-07-23\",\"2018-07-24\",\"2018-07-25\",\"2018-07-26\",\"2018-07-27\",\"2018-07-28\",\"2018-07-29\",\"2018-07-30\",\"2018-07-31\",\"2018-08-01\",\"2018-08-02\",\"2018-08-03\",\"2018-08-04\",\"2018-08-05\",\"2018-08-06\",\"2018-08-07\",\"2018-08-08\",\"2018-08-09\",\"2018-08-10\",\"2018-08-11\",\"2018-08-12\",\"2018-08-13\",\"2018-08-14\",\"2018-08-15\",\"2018-08-16\",\"2018-08-17\",\"2018-08-18\",\"2018-08-19\",\"2018-08-20\",\"2018-08-21\",\"2018-08-22\",\"2018-08-23\",\"2018-08-24\",\"2018-08-25\",\"2018-08-26\",\"2018-08-27\",\"2018-08-28\",\"2018-08-29\",\"2018-08-30\",\"2018-08-31\",\"2018-09-01\",\"2018-09-02\",\"2018-09-03\",\"2018-09-04\",\"2018-09-05\",\"2018-09-06\",\"2018-09-07\",\"2018-09-08\",\"2018-09-09\",\"2018-09-10\",\"2018-09-11\",\"2018-09-12\",\"2018-09-13\",\"2018-09-14\",\"2018-09-15\",\"2018-09-16\",\"2018-09-17\",\"2018-09-18\",\"2018-09-19\",\"2018-09-20\",\"2018-09-21\",\"2018-09-22\",\"2018-09-23\",\"2018-09-24\",\"2018-09-25\",\"2018-09-26\",\"2018-09-27\",\"2018-09-28\",\"2018-09-29\",\"2018-09-30\",\"2018-10-01\",\"2018-10-02\",\"2018-10-03\",\"2018-10-04\",\"2018-10-05\",\"2018-10-06\",\"2018-10-07\",\"2018-10-08\",\"2018-10-09\",\"2018-10-10\",\"2018-10-11\",\"2018-10-12\",\"2018-10-13\",\"2018-10-14\",\"2018-10-15\",\"2018-10-16\",\"2018-10-17\",\"2018-10-18\",\"2018-10-19\",\"2018-10-20\",\"2018-10-21\",\"2018-10-22\",\"2018-10-23\",\"2018-10-24\",\"2018-10-25\",\"2018-10-26\",\"2018-10-27\",\"2018-10-28\",\"2018-10-29\",\"2018-10-30\",\"2018-10-31\",\"2018-11-01\",\"2018-11-02\",\"2018-11-03\",\"2018-11-04\",\"2018-11-05\",\"2018-11-06\",\"2018-11-07\",\"2018-11-08\",\"2018-11-09\",\"2018-11-10\",\"2018-11-11\",\"2018-11-12\",\"2018-11-13\",\"2018-11-14\",\"2018-11-15\",\"2018-11-16\",\"2018-11-17\",\"2018-11-18\",\"2018-11-19\",\"2018-11-20\",\"2018-11-21\",\"2018-11-22\",\"2018-11-23\",\"2018-11-24\",\"2018-11-25\",\"2018-11-26\",\"2018-11-27\",\"2018-11-28\",\"2018-11-29\",\"2018-11-30\",\"2018-12-01\",\"2018-12-02\",\"2018-12-03\",\"2018-12-04\",\"2018-12-05\",\"2018-12-06\",\"2018-12-07\",\"2018-12-08\",\"2018-12-09\",\"2018-12-10\",\"2018-12-11\",\"2018-12-12\",\"2018-12-13\",\"2018-12-14\",\"2018-12-15\",\"2018-12-16\",\"2018-12-17\",\"2018-12-18\",\"2018-12-19\",\"2018-12-20\",\"2018-12-21\",\"2018-12-22\",\"2018-12-23\",\"2018-12-24\",\"2018-12-25\",\"2018-12-26\",\"2018-12-27\",\"2018-12-28\",\"2018-12-29\",\"2018-12-30\",\"2018-12-31\",\"2019-01-01\",\"2019-01-02\",\"2019-01-03\",\"2019-01-04\",\"2019-01-05\",\"2019-01-06\",\"2019-01-07\",\"2019-01-08\",\"2019-01-09\",\"2019-01-10\",\"2019-01-11\",\"2019-01-12\",\"2019-01-13\",\"2019-01-14\",\"2019-01-15\",\"2019-01-16\",\"2019-01-17\",\"2019-01-18\",\"2019-01-19\",\"2019-01-20\",\"2019-01-21\",\"2019-01-22\",\"2019-01-23\",\"2019-01-24\",\"2019-01-25\",\"2019-01-26\",\"2019-01-27\",\"2019-01-28\",\"2019-01-29\",\"2019-01-30\",\"2019-01-31\",\"2019-02-01\",\"2019-02-02\",\"2019-02-03\",\"2019-02-04\",\"2019-02-05\",\"2019-02-06\",\"2019-02-07\",\"2019-02-08\",\"2019-02-09\",\"2019-02-10\",\"2019-02-11\",\"2019-02-12\",\"2019-02-13\",\"2019-02-14\",\"2019-02-15\",\"2019-02-16\",\"2019-02-17\",\"2019-02-18\",\"2019-02-19\",\"2019-02-20\",\"2019-02-21\",\"2019-02-22\",\"2019-02-23\",\"2019-02-24\",\"2019-02-25\",\"2019-02-26\",\"2019-02-27\",\"2019-02-28\",\"2019-03-01\",\"2019-03-02\",\"2019-03-03\",\"2019-03-04\",\"2019-03-05\",\"2019-03-06\",\"2019-03-07\",\"2019-03-08\",\"2019-03-09\",\"2019-03-10\",\"2019-03-11\",\"2019-03-12\",\"2019-03-13\",\"2019-03-14\",\"2019-03-15\",\"2019-03-16\",\"2019-03-17\",\"2019-03-18\",\"2019-03-19\",\"2019-03-20\",\"2019-03-21\",\"2019-03-22\",\"2019-03-23\",\"2019-03-24\",\"2019-03-25\",\"2019-03-26\",\"2019-03-27\",\"2019-03-28\",\"2019-03-29\",\"2019-03-30\",\"2019-03-31\",\"2019-04-01\",\"2019-04-02\",\"2019-04-03\",\"2019-04-04\",\"2019-04-05\",\"2019-04-06\",\"2019-04-07\",\"2019-04-08\",\"2019-04-09\",\"2019-04-10\",\"2019-04-11\",\"2019-04-12\",\"2019-04-13\",\"2019-04-14\",\"2019-04-15\",\"2019-04-16\",\"2019-04-17\",\"2019-04-18\",\"2019-04-19\",\"2019-04-20\",\"2019-04-21\",\"2019-04-22\",\"2019-04-23\",\"2019-04-24\",\"2019-04-25\",\"2019-04-26\",\"2019-04-27\",\"2019-04-28\",\"2019-04-29\",\"2019-04-30\",\"2019-05-01\",\"2019-05-02\",\"2019-05-03\",\"2019-05-04\",\"2019-05-05\",\"2019-05-06\",\"2019-05-07\",\"2019-05-08\",\"2019-05-09\",\"2019-05-10\",\"2019-05-11\",\"2019-05-12\",\"2019-05-13\",\"2019-05-14\",\"2019-05-15\",\"2019-05-16\",\"2019-05-17\",\"2019-05-18\",\"2019-05-19\",\"2019-05-20\",\"2019-05-21\",\"2019-05-22\",\"2019-05-23\",\"2019-05-24\",\"2019-05-25\",\"2019-05-26\",\"2019-05-27\",\"2019-05-28\",\"2019-05-29\",\"2019-05-30\",\"2019-05-31\",\"2019-06-01\",\"2019-06-02\",\"2019-06-03\",\"2019-06-04\",\"2019-06-05\",\"2019-06-06\",\"2019-06-07\",\"2019-06-08\",\"2019-06-09\",\"2019-06-10\",\"2019-06-11\",\"2019-06-12\",\"2019-06-13\",\"2019-06-14\",\"2019-06-15\",\"2019-06-16\",\"2019-06-17\",\"2019-06-18\",\"2019-06-19\",\"2019-06-20\",\"2019-06-21\",\"2019-06-22\",\"2019-06-23\",\"2019-06-24\",\"2019-06-25\",\"2019-06-26\",\"2019-06-27\",\"2019-06-28\",\"2019-06-29\",\"2019-06-30\",\"2019-07-01\",\"2019-07-02\",\"2019-07-03\",\"2019-07-04\",\"2019-07-05\",\"2019-07-06\",\"2019-07-07\",\"2019-07-08\",\"2019-07-09\",\"2019-07-10\",\"2019-07-11\",\"2019-07-12\",\"2019-07-13\",\"2019-07-14\",\"2019-07-15\",\"2019-07-16\",\"2019-07-17\",\"2019-07-18\",\"2019-07-19\",\"2019-07-20\",\"2019-07-21\",\"2019-07-22\",\"2019-07-23\",\"2019-07-24\",\"2019-07-25\",\"2019-07-26\",\"2019-07-27\",\"2019-07-28\",\"2019-07-29\",\"2019-07-30\",\"2019-07-31\",\"2019-08-01\",\"2019-08-02\",\"2019-08-03\",\"2019-08-04\",\"2019-08-05\",\"2019-08-06\",\"2019-08-07\",\"2019-08-08\",\"2019-08-09\",\"2019-08-10\",\"2019-08-11\",\"2019-08-12\",\"2019-08-13\",\"2019-08-14\",\"2019-08-15\",\"2019-08-16\",\"2019-08-17\",\"2019-08-18\",\"2019-08-19\",\"2019-08-20\",\"2019-08-21\",\"2019-08-22\",\"2019-08-23\",\"2019-08-24\",\"2019-08-25\",\"2019-08-26\",\"2019-08-27\",\"2019-08-28\",\"2019-08-29\",\"2019-08-30\",\"2019-08-31\",\"2019-09-01\",\"2019-09-02\",\"2019-09-03\",\"2019-09-04\",\"2019-09-05\",\"2019-09-06\",\"2019-09-07\",\"2019-09-08\",\"2019-09-09\",\"2019-09-10\",\"2019-09-11\",\"2019-09-12\",\"2019-09-13\",\"2019-09-14\",\"2019-09-15\",\"2019-09-16\",\"2019-09-17\",\"2019-09-18\",\"2019-09-19\",\"2019-09-20\",\"2019-09-21\",\"2019-09-22\",\"2019-09-23\",\"2019-09-24\",\"2019-09-25\",\"2019-09-26\",\"2019-09-27\",\"2019-09-28\",\"2019-09-29\",\"2019-09-30\",\"2019-10-01\",\"2019-10-02\",\"2019-10-03\",\"2019-10-04\",\"2019-10-05\",\"2019-10-06\",\"2019-10-07\",\"2019-10-08\",\"2019-10-09\",\"2019-10-10\",\"2019-10-11\",\"2019-10-12\",\"2019-10-13\",\"2019-10-14\",\"2019-10-15\",\"2019-10-16\",\"2019-10-17\",\"2019-10-18\",\"2019-10-19\",\"2019-10-20\",\"2019-10-21\",\"2019-10-22\",\"2019-10-23\",\"2019-10-24\",\"2019-10-25\",\"2019-10-26\",\"2019-10-27\",\"2019-10-28\",\"2019-10-29\",\"2019-10-30\",\"2019-10-31\",\"2019-11-01\",\"2019-11-02\",\"2019-11-03\",\"2019-11-04\",\"2019-11-05\",\"2019-11-06\",\"2019-11-07\",\"2019-11-08\",\"2019-11-09\",\"2019-11-10\",\"2019-11-11\",\"2019-11-12\",\"2019-11-13\",\"2019-11-14\",\"2019-11-15\",\"2019-11-16\",\"2019-11-17\",\"2019-11-18\",\"2019-11-19\",\"2019-11-20\",\"2019-11-21\",\"2019-11-22\",\"2019-11-23\",\"2019-11-24\",\"2019-11-25\",\"2019-11-26\",\"2019-11-27\",\"2019-11-28\",\"2019-11-29\",\"2019-11-30\",\"2019-12-01\",\"2019-12-02\",\"2019-12-03\",\"2019-12-04\",\"2019-12-05\",\"2019-12-06\",\"2019-12-07\",\"2019-12-08\",\"2019-12-09\",\"2019-12-10\",\"2019-12-11\",\"2019-12-12\",\"2019-12-13\",\"2019-12-14\",\"2019-12-15\",\"2019-12-16\",\"2019-12-17\",\"2019-12-18\",\"2019-12-19\",\"2019-12-20\",\"2019-12-21\",\"2019-12-22\",\"2019-12-23\",\"2019-12-24\",\"2019-12-25\",\"2019-12-26\",\"2019-12-27\",\"2019-12-28\",\"2019-12-29\",\"2019-12-30\",\"2019-12-31\",\"2020-01-01\",\"2020-01-02\",\"2020-01-03\",\"2020-01-04\",\"2020-01-05\",\"2020-01-06\",\"2020-01-07\",\"2020-01-08\",\"2020-01-09\",\"2020-01-10\",\"2020-01-11\",\"2020-01-12\",\"2020-01-13\",\"2020-01-14\",\"2020-01-15\",\"2020-01-16\",\"2020-01-17\",\"2020-01-18\",\"2020-01-19\",\"2020-01-20\",\"2020-01-21\",\"2020-01-22\",\"2020-01-23\",\"2020-01-24\",\"2020-01-25\",\"2020-01-26\",\"2020-01-27\",\"2020-01-28\",\"2020-01-29\",\"2020-01-30\",\"2020-01-31\",\"2020-02-01\",\"2020-02-02\",\"2020-02-03\",\"2020-02-04\",\"2020-02-05\",\"2020-02-06\",\"2020-02-07\",\"2020-02-08\",\"2020-02-09\",\"2020-02-10\",\"2020-02-11\",\"2020-02-12\",\"2020-02-13\",\"2020-02-14\",\"2020-02-15\",\"2020-02-16\",\"2020-02-17\",\"2020-02-18\",\"2020-02-19\",\"2020-02-20\",\"2020-02-21\",\"2020-02-22\",\"2020-02-23\",\"2020-02-24\",\"2020-02-25\",\"2020-02-26\",\"2020-02-27\",\"2020-02-28\",\"2020-02-29\",\"2020-03-01\",\"2020-03-02\",\"2020-03-03\",\"2020-03-04\",\"2020-03-05\",\"2020-03-06\",\"2020-03-07\",\"2020-03-08\",\"2020-03-09\",\"2020-03-10\",\"2020-03-11\",\"2020-03-12\",\"2020-03-13\",\"2020-03-14\",\"2020-03-15\",\"2020-03-16\",\"2020-03-17\",\"2020-03-18\",\"2020-03-19\",\"2020-03-20\",\"2020-03-21\",\"2020-03-22\",\"2020-03-23\",\"2020-03-24\",\"2020-03-25\",\"2020-03-26\",\"2020-03-27\",\"2020-03-28\",\"2020-03-29\",\"2020-03-30\",\"2020-03-31\",\"2020-04-01\",\"2020-04-02\",\"2020-04-03\",\"2020-04-04\",\"2020-04-05\",\"2020-04-06\",\"2020-04-07\",\"2020-04-08\",\"2020-04-09\",\"2020-04-10\",\"2020-04-11\",\"2020-04-12\",\"2020-04-13\",\"2020-04-14\",\"2020-04-15\",\"2020-04-16\",\"2020-04-17\",\"2020-04-18\",\"2020-04-19\",\"2020-04-20\",\"2020-04-21\",\"2020-04-22\",\"2020-04-23\",\"2020-04-24\",\"2020-04-25\",\"2020-04-26\",\"2020-04-27\",\"2020-04-28\",\"2020-04-29\",\"2020-04-30\",\"2020-05-01\",\"2020-05-02\",\"2020-05-03\",\"2020-05-04\",\"2020-05-05\",\"2020-05-06\",\"2020-05-07\",\"2020-05-08\",\"2020-05-09\",\"2020-05-10\",\"2020-05-11\",\"2020-05-12\",\"2020-05-13\",\"2020-05-14\",\"2020-05-15\",\"2020-05-16\",\"2020-05-17\",\"2020-05-18\",\"2020-05-19\",\"2020-05-20\",\"2020-05-21\",\"2020-05-22\",\"2020-05-23\",\"2020-05-24\",\"2020-05-25\",\"2020-05-26\",\"2020-05-27\",\"2020-05-28\",\"2020-05-29\",\"2020-05-30\",\"2020-05-31\",\"2020-06-01\",\"2020-06-02\",\"2020-06-03\",\"2020-06-04\",\"2020-06-05\",\"2020-06-06\",\"2020-06-07\",\"2020-06-08\",\"2020-06-09\",\"2020-06-10\",\"2020-06-11\",\"2020-06-12\",\"2020-06-13\",\"2020-06-14\",\"2020-06-15\",\"2020-06-16\",\"2020-06-17\",\"2020-06-18\",\"2020-06-19\",\"2020-06-20\",\"2020-06-21\",\"2020-06-22\",\"2020-06-23\",\"2020-06-24\",\"2020-06-25\",\"2020-06-26\",\"2020-06-27\",\"2020-06-28\",\"2020-06-29\",\"2020-06-30\",\"2020-07-01\",\"2020-07-02\",\"2020-07-03\",\"2020-07-04\",\"2020-07-05\",\"2020-07-06\",\"2020-07-07\",\"2020-07-08\",\"2020-07-09\",\"2020-07-10\",\"2020-07-11\",\"2020-07-12\",\"2020-07-13\",\"2020-07-14\",\"2020-07-15\",\"2020-07-16\",\"2020-07-17\",\"2020-07-18\",\"2020-07-19\",\"2020-07-20\",\"2020-07-21\",\"2020-07-22\",\"2020-07-23\",\"2020-07-24\",\"2020-07-25\",\"2020-07-26\",\"2020-07-27\",\"2020-07-28\",\"2020-07-29\",\"2020-07-30\",\"2020-07-31\",\"2020-08-01\",\"2020-08-02\",\"2020-08-03\",\"2020-08-04\",\"2020-08-05\",\"2020-08-06\",\"2020-08-07\",\"2020-08-08\",\"2020-08-09\",\"2020-08-10\",\"2020-08-11\",\"2020-08-12\",\"2020-08-13\",\"2020-08-14\",\"2020-08-15\",\"2020-08-16\",\"2020-08-17\",\"2020-08-18\",\"2020-08-19\",\"2020-08-20\",\"2020-08-21\",\"2020-08-22\",\"2020-08-23\",\"2020-08-24\",\"2020-08-25\",\"2020-08-26\",\"2020-08-27\",\"2020-08-28\",\"2020-08-29\",\"2020-08-30\",\"2020-08-31\",\"2020-09-01\",\"2020-09-02\",\"2020-09-03\",\"2020-09-04\",\"2020-09-05\",\"2020-09-06\",\"2020-09-07\",\"2020-09-08\",\"2020-09-09\",\"2020-09-10\",\"2020-09-11\",\"2020-09-12\",\"2020-09-13\",\"2020-09-14\",\"2020-09-15\",\"2020-09-16\",\"2020-09-17\",\"2020-09-18\",\"2020-09-19\",\"2020-09-20\",\"2020-09-21\",\"2020-09-22\",\"2020-09-23\",\"2020-09-24\",\"2020-09-25\",\"2020-09-26\",\"2020-09-27\",\"2020-09-28\",\"2020-09-29\",\"2020-09-30\",\"2020-10-01\",\"2020-10-02\",\"2020-10-03\",\"2020-10-04\",\"2020-10-05\",\"2020-10-06\",\"2020-10-07\",\"2020-10-08\",\"2020-10-09\",\"2020-10-10\",\"2020-10-11\",\"2020-10-12\",\"2020-10-13\",\"2020-10-14\",\"2020-10-15\",\"2020-10-16\",\"2020-10-17\",\"2020-10-18\",\"2020-10-19\",\"2020-10-20\",\"2020-10-21\",\"2020-10-22\",\"2020-10-23\",\"2020-10-24\",\"2020-10-25\",\"2020-10-26\",\"2020-10-27\",\"2020-10-28\",\"2020-10-29\",\"2020-10-30\",\"2020-10-31\",\"2020-11-01\",\"2020-11-02\",\"2020-11-03\",\"2020-11-04\",\"2020-11-05\",\"2020-11-06\",\"2020-11-07\",\"2020-11-08\",\"2020-11-09\",\"2020-11-10\",\"2020-11-11\",\"2020-11-12\",\"2020-11-13\",\"2020-11-14\",\"2020-11-15\",\"2020-11-16\",\"2020-11-17\",\"2020-11-18\",\"2020-11-19\",\"2020-11-20\",\"2020-11-21\",\"2020-11-22\",\"2020-11-23\",\"2020-11-24\",\"2020-11-25\",\"2020-11-26\",\"2020-11-27\",\"2020-11-28\",\"2020-11-29\",\"2020-11-30\",\"2020-12-01\",\"2020-12-02\",\"2020-12-03\",\"2020-12-04\",\"2020-12-05\",\"2020-12-06\",\"2020-12-07\",\"2020-12-08\",\"2020-12-09\",\"2020-12-10\",\"2020-12-11\",\"2020-12-12\",\"2020-12-13\",\"2020-12-14\",\"2020-12-15\",\"2020-12-16\",\"2020-12-17\",\"2020-12-18\",\"2020-12-19\",\"2020-12-20\",\"2020-12-21\",\"2020-12-22\",\"2020-12-23\",\"2020-12-24\",\"2020-12-25\",\"2020-12-26\",\"2020-12-27\",\"2020-12-28\",\"2020-12-29\",\"2020-12-30\",\"2020-12-31\",\"2021-01-01\",\"2021-01-02\",\"2021-01-03\",\"2021-01-04\",\"2021-01-05\",\"2021-01-06\",\"2021-01-07\",\"2021-01-08\",\"2021-01-09\",\"2021-01-10\",\"2021-01-11\",\"2021-01-12\",\"2021-01-13\",\"2021-01-14\",\"2021-01-15\",\"2021-01-16\",\"2021-01-17\",\"2021-01-18\",\"2021-01-19\",\"2021-01-20\",\"2021-01-21\",\"2021-01-22\",\"2021-01-23\",\"2021-01-24\",\"2021-01-25\",\"2021-01-26\",\"2021-01-27\",\"2021-01-28\",\"2021-01-29\",\"2021-01-30\",\"2021-01-31\",\"2021-02-01\",\"2021-02-02\",\"2021-02-03\",\"2021-02-04\",\"2021-02-05\",\"2021-02-06\",\"2021-02-07\",\"2021-02-08\",\"2021-02-09\",\"2021-02-10\",\"2021-02-11\",\"2021-02-12\",\"2021-02-13\",\"2021-02-14\",\"2021-02-15\",\"2021-02-16\",\"2021-02-17\",\"2021-02-18\",\"2021-02-19\",\"2021-02-20\",\"2021-02-21\",\"2021-02-22\",\"2021-02-23\",\"2021-02-24\",\"2021-02-25\",\"2021-02-26\",\"2021-02-27\",\"2021-02-28\",\"2021-03-01\",\"2021-03-02\",\"2021-03-03\",\"2021-03-04\",\"2021-03-05\",\"2021-03-06\",\"2021-03-07\",\"2021-03-08\",\"2021-03-09\",\"2021-03-10\",\"2021-03-11\",\"2021-03-12\",\"2021-03-13\",\"2021-03-14\",\"2021-03-15\",\"2021-03-16\",\"2021-03-17\",\"2021-03-18\",\"2021-03-19\",\"2021-03-20\",\"2021-03-21\",\"2021-03-22\",\"2021-03-23\",\"2021-03-24\",\"2021-03-25\",\"2021-03-26\",\"2021-03-27\",\"2021-03-28\",\"2021-03-29\",\"2021-03-30\",\"2021-03-31\",\"2021-04-01\",\"2021-04-02\",\"2021-04-03\",\"2021-04-04\",\"2021-04-05\",\"2021-04-06\",\"2021-04-07\",\"2021-04-08\",\"2021-04-09\",\"2021-04-10\",\"2021-04-11\",\"2021-04-12\",\"2021-04-13\",\"2021-04-14\",\"2021-04-15\",\"2021-04-16\",\"2021-04-17\",\"2021-04-18\",\"2021-04-19\",\"2021-04-20\",\"2021-04-21\",\"2021-04-22\",\"2021-04-23\",\"2021-04-24\",\"2021-04-25\",\"2021-04-26\",\"2021-04-27\",\"2021-04-28\",\"2021-04-29\",\"2021-04-30\",\"2021-05-01\",\"2021-05-02\",\"2021-05-03\",\"2021-05-04\",\"2021-05-05\",\"2021-05-06\",\"2021-05-07\",\"2021-05-08\",\"2021-05-09\",\"2021-05-10\",\"2021-05-11\",\"2021-05-12\",\"2021-05-13\",\"2021-05-14\",\"2021-05-15\",\"2021-05-16\",\"2021-05-17\",\"2021-05-18\",\"2021-05-19\",\"2021-05-20\",\"2021-05-21\",\"2021-05-22\",\"2021-05-23\",\"2021-05-24\",\"2021-05-25\",\"2021-05-26\",\"2021-05-27\",\"2021-05-28\",\"2021-05-29\",\"2021-05-30\",\"2021-05-31\",\"2021-06-01\",\"2021-06-02\",\"2021-06-03\",\"2021-06-04\",\"2021-06-05\",\"2021-06-06\",\"2021-06-07\",\"2021-06-08\",\"2021-06-09\",\"2021-06-10\",\"2021-06-11\",\"2021-06-12\",\"2021-06-13\",\"2021-06-14\",\"2021-06-15\",\"2021-06-16\",\"2021-06-17\",\"2021-06-18\",\"2021-06-19\",\"2021-06-20\",\"2021-06-21\",\"2021-06-22\",\"2021-06-23\",\"2021-06-24\",\"2021-06-25\",\"2021-06-26\",\"2021-06-27\",\"2021-06-28\",\"2021-06-29\",\"2021-06-30\",\"2021-07-01\",\"2021-07-02\",\"2021-07-03\",\"2021-07-04\",\"2021-07-05\",\"2021-07-06\",\"2021-07-07\",\"2021-07-08\",\"2021-07-09\",\"2021-07-10\",\"2021-07-11\",\"2021-07-12\",\"2021-07-13\",\"2021-07-14\",\"2021-07-15\",\"2021-07-16\",\"2021-07-17\",\"2021-07-18\",\"2021-07-19\",\"2021-07-20\",\"2021-07-21\",\"2021-07-22\",\"2021-07-23\",\"2021-07-24\",\"2021-07-25\",\"2021-07-26\",\"2021-07-27\",\"2021-07-28\",\"2021-07-29\",\"2021-07-30\",\"2021-07-31\",\"2021-08-01\",\"2021-08-02\",\"2021-08-03\",\"2021-08-04\",\"2021-08-05\",\"2021-08-06\",\"2021-08-07\",\"2021-08-08\",\"2021-08-09\",\"2021-08-10\",\"2021-08-11\",\"2021-08-12\",\"2021-08-13\",\"2021-08-14\",\"2021-08-15\",\"2021-08-16\",\"2021-08-17\",\"2021-08-18\",\"2021-08-19\",\"2021-08-20\",\"2021-08-21\",\"2021-08-22\",\"2021-08-23\",\"2021-08-24\",\"2021-08-25\",\"2021-08-26\",\"2021-08-27\",\"2021-08-28\",\"2021-08-29\",\"2021-08-30\",\"2021-08-31\",\"2021-09-01\",\"2021-09-02\",\"2021-09-03\",\"2021-09-04\",\"2021-09-05\",\"2021-09-06\",\"2021-09-07\",\"2021-09-08\",\"2021-09-09\",\"2021-09-10\",\"2021-09-11\",\"2021-09-12\",\"2021-09-13\",\"2021-09-14\",\"2021-09-15\",\"2021-09-16\",\"2021-09-17\",\"2021-09-18\",\"2021-09-19\",\"2021-09-20\",\"2021-09-21\",\"2021-09-22\",\"2021-09-23\",\"2021-09-24\",\"2021-09-25\",\"2021-09-26\",\"2021-09-27\",\"2021-09-28\",\"2021-09-29\",\"2021-09-30\",\"2021-10-01\",\"2021-10-02\",\"2021-10-03\",\"2021-10-04\",\"2021-10-05\",\"2021-10-06\",\"2021-10-07\",\"2021-10-08\",\"2021-10-09\",\"2021-10-10\",\"2021-10-11\",\"2021-10-12\",\"2021-10-13\",\"2021-10-14\",\"2021-10-15\",\"2021-10-16\",\"2021-10-17\",\"2021-10-18\",\"2021-10-19\",\"2021-10-20\",\"2021-10-21\",\"2021-10-22\",\"2021-10-23\",\"2021-10-24\",\"2021-10-25\",\"2021-10-26\",\"2021-10-27\",\"2021-10-28\",\"2021-10-29\",\"2021-10-30\",\"2021-10-31\",\"2021-11-01\",\"2021-11-02\",\"2021-11-03\",\"2021-11-04\",\"2021-11-05\",\"2021-11-06\",\"2021-11-07\",\"2021-11-08\",\"2021-11-09\",\"2021-11-10\",\"2021-11-11\",\"2021-11-12\",\"2021-11-13\",\"2021-11-14\",\"2021-11-15\",\"2021-11-16\",\"2021-11-17\",\"2021-11-18\",\"2021-11-19\",\"2021-11-20\",\"2021-11-21\",\"2021-11-22\",\"2021-11-23\",\"2021-11-24\",\"2021-11-25\",\"2021-11-26\",\"2021-11-27\",\"2021-11-28\",\"2021-11-29\",\"2021-11-30\",\"2021-12-01\",\"2021-12-02\",\"2021-12-03\",\"2021-12-04\",\"2021-12-05\",\"2021-12-06\",\"2021-12-07\",\"2021-12-08\",\"2021-12-09\",\"2021-12-10\",\"2021-12-11\",\"2021-12-12\",\"2021-12-13\",\"2021-12-14\",\"2021-12-15\",\"2021-12-16\",\"2021-12-17\",\"2021-12-18\",\"2021-12-19\",\"2021-12-20\",\"2021-12-21\",\"2021-12-22\",\"2021-12-23\",\"2021-12-24\",\"2021-12-25\",\"2021-12-26\",\"2021-12-27\",\"2021-12-28\",\"2021-12-29\",\"2021-12-30\",\"2021-12-31\",\"2022-01-01\",\"2022-01-02\",\"2022-01-03\",\"2022-01-04\",\"2022-01-05\",\"2022-01-06\",\"2022-01-07\",\"2022-01-08\",\"2022-01-09\",\"2022-01-10\",\"2022-01-11\",\"2022-01-12\",\"2022-01-13\",\"2022-01-14\",\"2022-01-15\",\"2022-01-16\",\"2022-01-17\",\"2022-01-18\",\"2022-01-19\",\"2022-01-20\",\"2022-01-21\",\"2022-01-22\",\"2022-01-23\",\"2022-01-24\",\"2022-01-25\",\"2022-01-26\",\"2022-01-27\",\"2022-01-28\",\"2022-01-29\",\"2022-01-30\",\"2022-01-31\",\"2022-02-01\",\"2022-02-02\",\"2022-02-03\",\"2022-02-04\",\"2022-02-05\",\"2022-02-06\",\"2022-02-07\",\"2022-02-08\",\"2022-02-09\",\"2022-02-10\",\"2022-02-11\",\"2022-02-12\",\"2022-02-13\",\"2022-02-14\",\"2022-02-15\",\"2022-02-16\",\"2022-02-17\",\"2022-02-18\",\"2022-02-19\",\"2022-02-20\",\"2022-02-21\",\"2022-02-22\",\"2022-02-23\",\"2022-02-24\",\"2022-02-25\",\"2022-02-26\",\"2022-02-27\",\"2022-02-28\",\"2022-03-01\",\"2022-03-02\",\"2022-03-03\",\"2022-03-04\",\"2022-03-05\",\"2022-03-06\",\"2022-03-07\",\"2022-03-08\",\"2022-03-09\",\"2022-03-10\",\"2022-03-11\",\"2022-03-12\",\"2022-03-13\",\"2022-03-14\",\"2022-03-15\",\"2022-03-16\",\"2022-03-17\",\"2022-03-18\",\"2022-03-19\",\"2022-03-20\",\"2022-03-21\",\"2022-03-22\",\"2022-03-23\",\"2022-03-24\",\"2022-03-25\",\"2022-03-26\",\"2022-03-27\",\"2022-03-28\",\"2022-03-29\",\"2022-03-30\",\"2022-03-31\",\"2022-04-01\",\"2022-04-02\",\"2022-04-03\",\"2022-04-04\",\"2022-04-05\",\"2022-04-06\",\"2022-04-07\",\"2022-04-08\",\"2022-04-09\",\"2022-04-10\",\"2022-04-11\",\"2022-04-12\",\"2022-04-13\",\"2022-04-14\",\"2022-04-15\",\"2022-04-16\",\"2022-04-17\",\"2022-04-18\",\"2022-04-19\",\"2022-04-20\",\"2022-04-21\",\"2022-04-22\",\"2022-04-23\",\"2022-04-24\",\"2022-04-25\",\"2022-04-26\",\"2022-04-27\",\"2022-04-28\",\"2022-04-29\",\"2022-04-30\",\"2022-05-01\",\"2022-05-02\",\"2022-05-03\",\"2022-05-04\",\"2022-05-05\",\"2022-05-06\",\"2022-05-07\",\"2022-05-08\",\"2022-05-09\",\"2022-05-10\",\"2022-05-11\",\"2022-05-12\",\"2022-05-13\",\"2022-05-14\",\"2022-05-15\",\"2022-05-16\",\"2022-05-17\",\"2022-05-18\",\"2022-05-19\",\"2022-05-20\",\"2022-05-21\",\"2022-05-22\",\"2022-05-23\",\"2022-05-24\",\"2022-05-25\",\"2022-05-26\",\"2022-05-27\",\"2022-05-28\",\"2022-05-29\",\"2022-05-30\",\"2022-05-31\",\"2022-06-01\",\"2022-06-02\",\"2022-06-03\",\"2022-06-04\",\"2022-06-05\",\"2022-06-06\",\"2022-06-07\",\"2022-06-08\",\"2022-06-09\",\"2022-06-10\",\"2022-06-11\",\"2022-06-12\",\"2022-06-13\",\"2022-06-14\",\"2022-06-15\",\"2022-06-16\",\"2022-06-17\",\"2022-06-18\",\"2022-06-19\",\"2022-06-20\",\"2022-06-21\",\"2022-06-22\",\"2022-06-23\",\"2022-06-24\",\"2022-06-25\",\"2022-06-26\",\"2022-06-27\",\"2022-06-28\",\"2022-06-29\",\"2022-06-30\",\"2022-07-01\",\"2022-07-02\",\"2022-07-03\",\"2022-07-04\",\"2022-07-05\",\"2022-07-06\",\"2022-07-07\",\"2022-07-08\",\"2022-07-09\",\"2022-07-10\",\"2022-07-11\",\"2022-07-12\",\"2022-07-13\",\"2022-07-14\",\"2022-07-15\",\"2022-07-16\",\"2022-07-17\",\"2022-07-18\",\"2022-07-19\",\"2022-07-20\",\"2022-07-21\",\"2022-07-22\",\"2022-07-23\",\"2022-07-24\",\"2022-07-25\",\"2022-07-26\",\"2022-07-27\",\"2022-07-28\",\"2022-07-29\",\"2022-07-30\",\"2022-07-31\",\"2022-08-01\",\"2022-08-02\",\"2022-08-03\",\"2022-08-04\",\"2022-08-05\",\"2022-08-06\",\"2022-08-07\",\"2022-08-08\",\"2022-08-09\",\"2022-08-10\",\"2022-08-11\",\"2022-08-12\",\"2022-08-13\",\"2022-08-14\",\"2022-08-15\",\"2022-08-16\",\"2022-08-17\",\"2022-08-18\",\"2022-08-19\",\"2022-08-20\",\"2022-08-21\",\"2022-08-22\",\"2022-08-23\",\"2022-08-24\",\"2022-08-25\",\"2022-08-26\",\"2022-08-27\",\"2022-08-28\",\"2022-08-29\",\"2022-08-30\",\"2022-08-31\",\"2022-09-01\",\"2022-09-02\",\"2022-09-03\",\"2022-09-04\",\"2022-09-05\",\"2022-09-06\",\"2022-09-07\",\"2022-09-08\",\"2022-09-09\",\"2022-09-10\",\"2022-09-11\",\"2022-09-12\",\"2022-09-13\",\"2022-09-14\",\"2022-09-15\",\"2022-09-16\",\"2022-09-17\",\"2022-09-18\",\"2022-09-19\",\"2022-09-20\",\"2022-09-21\",\"2022-09-22\",\"2022-09-23\",\"2022-09-24\",\"2022-09-25\",\"2022-09-26\",\"2022-09-27\",\"2022-09-28\",\"2022-09-29\",\"2022-09-30\",\"2022-10-01\",\"2022-10-02\",\"2022-10-03\",\"2022-10-04\",\"2022-10-05\",\"2022-10-06\",\"2022-10-07\",\"2022-10-08\",\"2022-10-09\",\"2022-10-10\",\"2022-10-11\",\"2022-10-12\",\"2022-10-13\",\"2022-10-14\",\"2022-10-15\",\"2022-10-16\",\"2022-10-17\",\"2022-10-18\",\"2022-10-19\",\"2022-10-20\",\"2022-10-21\",\"2022-10-22\",\"2022-10-23\",\"2022-10-24\",\"2022-10-25\",\"2022-10-26\",\"2022-10-27\",\"2022-10-28\",\"2022-10-29\",\"2022-10-30\",\"2022-10-31\",\"2022-11-01\",\"2022-11-02\",\"2022-11-03\",\"2022-11-04\",\"2022-11-05\",\"2022-11-06\",\"2022-11-07\",\"2022-11-08\",\"2022-11-09\",\"2022-11-10\",\"2022-11-11\",\"2022-11-12\",\"2022-11-13\",\"2022-11-14\",\"2022-11-15\",\"2022-11-16\",\"2022-11-17\",\"2022-11-18\",\"2022-11-19\",\"2022-11-20\",\"2022-11-21\",\"2022-11-22\",\"2022-11-23\",\"2022-11-24\",\"2022-11-25\",\"2022-11-26\",\"2022-11-27\",\"2022-11-28\",\"2022-11-29\",\"2022-11-30\",\"2022-12-01\",\"2022-12-02\",\"2022-12-03\",\"2022-12-04\",\"2022-12-05\",\"2022-12-06\",\"2022-12-07\",\"2022-12-08\",\"2022-12-09\",\"2022-12-10\",\"2022-12-11\",\"2022-12-12\",\"2022-12-13\",\"2022-12-14\",\"2022-12-15\",\"2022-12-16\",\"2022-12-17\",\"2022-12-18\",\"2022-12-19\",\"2022-12-20\",\"2022-12-21\",\"2022-12-22\",\"2022-12-23\",\"2022-12-24\",\"2022-12-25\",\"2022-12-26\",\"2022-12-27\",\"2022-12-28\",\"2022-12-29\",\"2022-12-30\",\"2022-12-31\",\"2023-01-01\",\"2023-01-02\",\"2023-01-03\",\"2023-01-04\",\"2023-01-05\",\"2023-01-06\",\"2023-01-07\",\"2023-01-08\",\"2023-01-09\",\"2023-01-10\",\"2023-01-11\",\"2023-01-12\",\"2023-01-13\",\"2023-01-14\",\"2023-01-15\",\"2023-01-16\",\"2023-01-17\",\"2023-01-18\",\"2023-01-19\",\"2023-01-20\",\"2023-01-21\",\"2023-01-22\",\"2023-01-23\",\"2023-01-24\",\"2023-01-25\",\"2023-01-26\",\"2023-01-27\",\"2023-01-28\",\"2023-01-29\",\"2023-01-30\",\"2023-01-31\",\"2023-02-01\",\"2023-02-02\",\"2023-02-03\",\"2023-02-04\",\"2023-02-05\",\"2023-02-06\",\"2023-02-07\",\"2023-02-08\",\"2023-02-09\",\"2023-02-10\",\"2023-02-11\",\"2023-02-12\",\"2023-02-13\",\"2023-02-14\",\"2023-02-15\",\"2023-02-16\",\"2023-02-17\",\"2023-02-18\",\"2023-02-19\",\"2023-02-20\",\"2023-02-21\",\"2023-02-22\",\"2023-02-23\",\"2023-02-24\",\"2023-02-25\",\"2023-02-26\",\"2023-02-27\",\"2023-02-28\",\"2023-03-01\",\"2023-03-02\",\"2023-03-03\",\"2023-03-04\",\"2023-03-05\",\"2023-03-06\",\"2023-03-07\",\"2023-03-08\",\"2023-03-09\",\"2023-03-10\",\"2023-03-11\",\"2023-03-12\",\"2023-03-13\",\"2023-03-14\",\"2023-03-15\",\"2023-03-16\",\"2023-03-17\",\"2023-03-18\",\"2023-03-19\",\"2023-03-20\",\"2023-03-21\",\"2023-03-22\",\"2023-03-23\",\"2023-03-24\",\"2023-03-25\",\"2023-03-26\",\"2023-03-27\",\"2023-03-28\",\"2023-03-29\",\"2023-03-30\",\"2023-03-31\",\"2023-04-01\",\"2023-04-02\",\"2023-04-03\",\"2023-04-04\",\"2023-04-05\",\"2023-04-06\",\"2023-04-07\",\"2023-04-08\",\"2023-04-09\",\"2023-04-10\",\"2023-04-11\",\"2023-04-12\",\"2023-04-13\",\"2023-04-14\",\"2023-04-15\",\"2023-04-16\",\"2023-04-17\",\"2023-04-18\",\"2023-04-19\",\"2023-04-20\",\"2023-04-21\",\"2023-04-22\",\"2023-04-23\",\"2023-04-24\",\"2023-04-25\",\"2023-04-26\",\"2023-04-27\",\"2023-04-28\",\"2023-04-29\",\"2023-04-30\",\"2023-05-01\",\"2023-05-02\",\"2023-05-03\",\"2023-05-04\",\"2023-05-05\",\"2023-05-06\",\"2023-05-07\",\"2023-05-08\",\"2023-05-09\",\"2023-05-10\",\"2023-05-11\",\"2023-05-12\",\"2023-05-13\",\"2023-05-14\",\"2023-05-15\",\"2023-05-16\",\"2023-05-17\",\"2023-05-18\",\"2023-05-19\",\"2023-05-20\",\"2023-05-21\",\"2023-05-22\",\"2023-05-23\",\"2023-05-24\",\"2023-05-25\",\"2023-05-26\",\"2023-05-27\",\"2023-05-28\",\"2023-05-29\",\"2023-05-30\",\"2023-05-31\",\"2023-06-01\",\"2023-06-02\",\"2023-06-03\",\"2023-06-04\",\"2023-06-05\",\"2023-06-06\",\"2023-06-07\",\"2023-06-08\",\"2023-06-09\",\"2023-06-10\",\"2023-06-11\",\"2023-06-12\",\"2023-06-13\",\"2023-06-14\",\"2023-06-15\",\"2023-06-16\",\"2023-06-17\",\"2023-06-18\",\"2023-06-19\",\"2023-06-20\",\"2023-06-21\",\"2023-06-22\",\"2023-06-23\",\"2023-06-24\",\"2023-06-25\",\"2023-06-26\",\"2023-06-27\",\"2023-06-28\",\"2023-06-29\",\"2023-06-30\",\"2023-07-01\",\"2023-07-02\",\"2023-07-03\",\"2023-07-04\",\"2023-07-05\",\"2023-07-06\",\"2023-07-07\",\"2023-07-08\",\"2023-07-09\",\"2023-07-10\",\"2023-07-11\"],\"xaxis\":\"x\",\"y\":[320.8840026855469,299.25299072265625,314.6809997558594,307.9079895019531,316.71600341796875,337.6310119628906,333.35699462890625,330.92401123046875,332.3940124511719,347.61199951171875,354.385986328125,366.7300109863281,360.4010009765625,380.6520080566406,410.1659851074219,474.9110107421875,466.2760009765625,471.3299865722656,480.3550109863281,472.9020080566406,427.52301025390625,447.114013671875,466.5400085449219,463.4490051269531,465.8529968261719,470.2040100097656,463.281005859375,428.5880126953125,434.4079895019531,456.031005859375,473.50201416015625,441.72100830078125,515.135986328125,651.4310302734375,702.7670288085938,695.8159790039062,684.447998046875,696.208984375,719.9749755859375,794.64501953125,826.822998046875,819.0859985351562,821.06298828125,674.8599853515625,719.3870239257812,694.1480102539062,765.833984375,773.8359985351562,762.8419799804688,737.0230102539062,753.5919799804688,717.2570190429688,756.7329711914062,772.6409912109375,884.4439697265625,962.719970703125,980.9219970703125,997.719970703125,1041.6800537109375,1153.1700439453125,1148.530029296875,1299.739990234375,1255.8199462890625,1154.9300537109375,1273.199951171875,1396.4200439453125,1366.77001953125,1291.9200439453125,1053.68994140625,1014.25,1036.280029296875,1039.0999755859375,1155.1500244140625,1049.5799560546875,1003.260009765625,986.22900390625,1058.780029296875,1056.030029296875,1055.1700439453125,1107.0699462890625,1246.010009765625,1182.3599853515625,1071.1300048828125,1118.31005859375,1036.7900390625,915.7849731445312,964.0189819335938,834.6820068359375,697.9509887695312,793.1220092773438,757.0679931640625,817.8070068359375,883.864990234375,860.4149780273438,814.6599731445312,868.7069702148438,845.2579956054688,923.5609741210938,936.9760131835938,944.2100219726562,974.114990234375,923.9210205078125,943.864990234375,895.3709716796875,849.9710083007812,812.844970703125,864.1890258789062,840.5150146484375,844.8099975585938,869.3150024414062,878.2650146484375,855.198974609375,872.2000122070312,856.85302734375,857.2249755859375,866.677978515625,853.6840209960938,816.9509887695312,752.8309936523438,704.5960083007812,728.916015625,686.8900146484375,723.3389892578125,699.8309936523438,690.8270263671875,614.291015625,611.3040161132812,601.666015625,552.7789916992188,538.6439819335938,556.7260131835938,557.1749877929688,561.7319946289062,539.7020263671875,539.6190185546875,526.4390258789062,524.2869873046875,489.95098876953125,450.1159973144531,446.27899169921875,385.9679870605469,394.6449890136719,396.4570007324219,379.60699462890625,386.42498779296875,416.89300537109375,380.5429992675781,383.23199462890625,370.2850036621094,385.3139953613281,400.50799560546875,398.5260009765625,414.2430114746094,430.5400085449219,492.9410095214844,492.7349853515625,501.4779968261719,531.7020263671875,511.1470031738281,502.8940124511719,524.7890014648438,567.8889770507812,615.718017578125,605.39501953125,621.8599853515625,642.5479736328125,708.1580200195312,615.416015625,662.8090209960938,647.031982421875,683.677978515625,688.8809814453125,669.9240112304688,673.6129760742188,687.1489868164062,779.5430297851562,785.6240234375,816.1199951171875,792.3109741210938,753.7249755859375,752.8569946289062,752.2750244140625,727.2769775390625,679.5859985351562,686.0479736328125,733.4959716796875,730.5490112304688,708.8709716796875,707.0499877929688,672.656982421875,694.3670043945312,696.530029296875,715.3690185546875,699.2219848632812,647.7410278320312,583.5850219726562,601.7550048828125,586.7340087890625,587.280029296875,572.6680297851562,516.0360107421875,565.3880004882812,559.5900268554688,577.64501953125,580.0430297851562,591.8079833984375,618.3289794921875,592.9849853515625,609.302978515625,607.1240234375,605.18701171875,601.0770263671875,597.56201171875,526.47900390625,533.2839965820312,496.8429870605469,477.4939880371094,519.7420043945312,491.0039978027344,499.6419982910156,500.447998046875,518.8909912109375,537.9569702148438,536.2680053710938,527.3670043945312,465.8169860839844,474.5199890136719,457.6719970703125,460.30999755859375,432.7720031738281,442.364990234375,422.364990234375,436.0090026855469,455.17999267578125,453.9179992675781,475.34698486328125,464.19500732421875,467.3179931640625,474.4119873046875,474.0119934082031,491.6600036621094,489.1189880371094,476.6820068359375,434.42401123046875,446.51800537109375,430.0740051269531,434.0270080566406,436.08599853515625,449.8500061035156,480.6579895019531,501.00201416015625,480.51300048828125,469.6189880371094,450.697998046875,462.4360046386719,459.6570129394531,450.8529968261719,479.37298583984375,472.4930114746094,464.0369873046875,469.6659851074219,466.89801025390625,466.6650085449219,457.08099365234375,433.86700439453125,420.74700927734375,412.6210021972656,418.2619934082031,407.25201416015625,410.5159912109375,406.6579895019531,380.2149963378906,356.6130065917969,365.5880126953125,334.1759948730469,322.11199951171875,319.57000732421875,286.4949951171875,278.9320068359375,282.364013671875,288.0459899902344,315.72900390625,295.81201171875,300.8340148925781,274.31500244140625,281.9440002441406,271.34100341796875,277.10400390625,282.9670104980469,279.64599609375,275.1969909667969,285.6029968261719,296.4989929199219,289.31201171875,284.1050109863281,283.0039978027344,295.34100341796875,294.3710021972656,289.2590026855469,285.7229919433594,232.33099365234375,230.21499633789062,217.2030029296875,197.9510040283203,196.9239959716797,197.07899475097656,185.0659942626953,183.33099365234375,211.35400390625,211.74899291992188,223.07400512695312,220.58900451660156,197.875,209.97500610351562,209.968994140625,224.59100341796875,246.58399963378906,240.47999572753906,244.3300018310547,228.72999572753906,218.5050048828125,215.8470001220703,228.49400329589844,222.40199279785156,231.63499450683594,232.84800720214844,230.76800537109375,227.18099975585938,220.48899841308594,222.21800231933594,227.6009979248047,225.1199951171875,226.11900329589844,229.2550048828125,227.98199462890625,225.7689971923828,189.49899291992188,196.7270050048828,199.84100341796875,195.71499633789062,209.70399475097656,210.1199951171875,207.08299255371094,203.3520050048828,203.7270050048828,205.42999267578125,205.14199829101562,204.04400634765625,204.33599853515625,203.8520050048828,202.718994140625,203.32899475097656,204.2100067138672,205.36599731445312,197.2469940185547,197.55599975585938,197.38099670410156,198.8719940185547,200.63499450683594,200.18600463867188,207.48599243164062,209.09100341796875,218.45199584960938,217.18299865722656,212.2310028076172,210.07400512695312,212.5330047607422,211.33999633789062,210.41799926757812,206.8260040283203,181.39700317382812,180.80599975585938,175.177001953125,174.00100708007812,177.06700134277344,149.1750030517578,130.33900451660156,136.7010040283203,126.70600128173828,123.2959976196289,113.49400329589844,116.44999694824219,108.33499908447266,110.01000213623047,122.43800354003906,117.54264831542969,113.17141723632812,118.63555908203125,116.38890075683594,108.92501831054688,110.21418762207031,102.47555541992188,91.76105499267578,93.29456329345703,92.15963745117188,95.14205932617188,91.68565368652344,88.94530487060547,90.59329986572266,86.53931427001953,84.30829620361328,84.44081115722656,85.26210021972656,95.13382720947266,101.11245727539062,101.2685775756836,116.21687316894531,109.49623107910156,116.7594985961914,130.7652587890625,140.23800659179688,129.84434509277344,131.86563110351562,116.57591247558594,137.6470184326172,138.01834106445312,139.8594512939453,133.36825561523438,140.8194122314453,155.0476837158203,149.135009765625,154.58193969726562,155.6385955810547,157.74620056152344,151.69921875,150.35963439941406,150.80311584472656,128.62518310546875,127.54832458496094,125.9665298461914,116.8978042602539,129.0687255859375,122.03271484375,123.54706573486328,123.7419204711914,121.01026153564453,124.5190200805664,119.4748306274414,117.15785217285156,118.74755096435547,117.45260620117188,117.36288452148438,116.37834167480469,116.48873901367188,113.40528869628906,106.58997344970703,105.59821319580078,108.90753936767578,107.0610122680664,107.60978698730469,110.43025970458984,107.49266815185547,107.82160186767578,107.44351959228516,104.9192886352539,104.5353012084961,119.26774597167969,119.4308853149414,124.80648803710938,121.29839324951172,122.5722885131836,122.55360412597656,121.39020538330078,122.10038757324219,123.26021575927734,133.598876953125,146.09837341308594,145.34619140625,149.55433654785156,146.13084411621094,149.0924530029297,158.79542541503906,135.8526611328125,139.82286071777344,138.0896759033203,136.12596130371094,136.74624633789062,136.44361877441406,134.2069549560547,132.24942016601562,127.77412414550781,137.8223876953125,138.7893524169922,138.0345001220703,135.1270751953125,137.96533203125,136.75868225097656,133.8340301513672,134.44288635253906,133.26307678222656,133.7115936279297,137.69178771972656,142.39817810058594,140.00054931640625,139.37460327148438,140.51919555664062,140.6863555908203,136.6360626220703,137.1814422607422,138.2398681640625,136.98692321777344,135.03102111816406,135.46035766601562,140.9881591796875,139.41647338867188,142.49742126464844,142.09268188476562,141.51409912109375,141.830322265625,163.9617462158203,161.45880126953125,158.0525360107422,165.5148468017578,165.94720458984375,174.53164672851562,180.25881958007812,176.1145782470703,177.3374786376953,165.4970245361328,164.736328125,164.5133514404297,167.83851623535156,161.5741729736328,167.62344360351562,166.9507598876953,173.81402587890625,173.70843505859375,173.7512664794922,170.04652404785156,171.87466430664062,171.4477996826172,165.8260955810547,154.4593963623047,156.3470916748047,158.4349365234375,157.29507446289062,155.20199584960938,162.16603088378906,160.81834411621094,162.12278747558594,167.95240783691406,164.02658081054688,163.45069885253906,172.65321350097656,169.7986602783203,170.9481658935547,170.289306640625,173.1427459716797,194.30433654785156,187.3253173828125,196.84628295898438,217.14857482910156,247.15306091308594,264.010009765625,243.76458740234375,234.59523010253906,261.2922058105469,251.86441040039062,255.21588134765625,244.69891357421875,245.96566772460938,249.4849853515625,251.75987243652344,267.06964111328125,272.8626403808594,271.7687072753906,269.4556884765625,255.85894775390625,268.1135559082031,265.3912658691406,270.22552490234375,252.60792541503906,241.3387908935547,247.05101013183594,249.47433471679688,250.93035888671875,245.73809814453125,233.08670043945312,247.52012634277344,245.78182983398438,260.9032897949219,256.1687927246094,264.08746337890625,269.0193176269531,269.22320556640625,274.3511047363281,265.0518493652344,269.4317932128906,271.69500732421875,294.9102783203125,309.38031005859375,307.8277893066406,310.4246826171875,318.1263122558594,336.753173828125,294.26763916015625,311.2261047363281,320.05889892578125,290.69598388671875,293.64111328125,291.596435546875,303.0999755859375,284.5232238769531,287.9975280761719,287.547119140625,305.7005615234375,313.25140380859375,308.8810119628906,290.0023193359375,268.70404052734375,276.2767028808594,269.45880126953125,227.57806396484375,229.7760009765625,199.1886749267578,211.48497009277344,226.566162109375,221.3334197998047,229.1192169189453,225.63076782226562,217.5600128173828,212.728515625,217.04637145996094,219.6179962158203,219.62960815429688,207.40830993652344,211.18655395507812,211.26805114746094,210.52259826660156,218.65414428710938,217.80844116210938,217.87156677246094,222.49034118652344,222.6697235107422,234.21502685546875,226.02064514160156,226.39100646972656,220.94186401367188,210.48890686035156,206.73353576660156,216.09286499023438,211.28807067871094,208.70904541015625,186.6077423095703,188.50205993652344,185.44007873535156,185.68768310546875,194.4935302734375,203.09193420410156,196.56541442871094,186.89163208007812,191.33291625976562,194.70620727539062,191.28956604003906,186.84239196777344,188.92938232421875,187.51666259765625,173.8899688720703,169.51673889160156,168.83486938476562,172.46978759765625,171.62942504882812,178.34735107421875,179.49932861328125,175.99288940429688,174.21713256835938,169.9561767578125,178.2626190185547,181.35552978515625,181.1494598388672,179.78717041015625,178.72549438476562,181.01609802246094,181.10972595214844,188.1055145263672,189.78912353515625,197.11317443847656,208.60874938964844,211.39303588867188,221.28085327148438,218.050048828125,215.51620483398438,211.54537963867188,201.9213104248047,168.11073303222656,170.8927001953125,166.7271270751953,174.71099853515625,174.57289123535156,170.50347900390625,179.87220764160156,177.34042358398438,180.71051025390625,175.1993408203125,176.98500061035156,176.3515167236328,173.05914306640625,181.18634033203125,182.0215606689453,193.2932586669922,191.65966796875,182.56968688964844,180.82664489746094,182.0751495361328,186.96090698242188,181.40606689453125,176.0135040283203,178.02835083007812,173.621337890625,172.91302490234375,175.5343780517578,174.92098999023438,172.3008575439453,162.4027862548828,162.16854858398438,181.52320861816406,179.83547973632812,184.24221801757812,182.66281127929688,190.3425750732422,184.69216918945312,183.9669189453125,183.9698944091797,183.92572021484375,182.42501831054688,186.35519409179688,189.30416870117188,191.59384155273438,187.97654724121094,184.2114715576172,185.02871704101562,189.47727966308594,185.48963928222656,186.84341430664062,188.2587432861328,185.9996337890625,180.52117919921875,183.34835815429688,185.11923217773438,180.55960083007812,177.45555114746094,175.69834899902344,161.4627227783203,150.26817321777344,153.41778564453125,142.83470153808594,146.47653198242188,148.96507263183594,153.01055908203125,151.7175750732422,155.3041534423828,152.53968811035156,151.18572998046875,149.0591583251953,147.9564208984375,146.74774169921875,149.24899291992188,149.19444274902344,148.76815795898438,151.2647247314453,148.2251739501953,146.2670440673828,143.60800170898438,145.60400390625,144.9447479248047,142.86923217773438,143.114990234375,133.61402893066406,122.60388946533203,133.09219360351562,129.32113647460938,129.06605529785156,128.13095092773438,132.3725128173828,128.6140899658203,129.0638885498047,126.45463562011719,126.36122131347656,127.21460723876953,128.3227081298828,134.7579803466797,132.63348388671875,129.61085510253906,130.802001953125,127.4101791381836,134.1717071533203,135.06936645507812,136.2767791748047,144.3041534423828,143.5439910888672,141.2581329345703,138.9792022705078,143.96377563476562,142.92710876464844,145.87393188476562,144.22659301757812,165.95535278320312,166.23068237304688,164.39100646972656,170.7799530029297,175.3656768798828,166.9698486328125,167.12051391601562,169.69715881347656,168.29415893554688,162.92855834960938,163.05117797851562,161.283935546875,168.0771026611328,170.93089294433594,176.3703155517578,175.0503387451172,184.6904754638672,180.16017150878906,183.6739501953125,188.61753845214844,189.8650665283203,189.25059509277344,204.23023986816406,212.33908081054688,222.72605895996094,223.14651489257812,228.5785675048828,223.522705078125,235.8511962890625,265.4061279296875,268.0992431640625,284.2174987792969,264.72857666015625,259.89471435546875,266.3634338378906,281.944580078125,259.76397705078125,257.949462890625,265.6006164550781,262.33172607421875,273.754150390625,265.2164306640625,247.81759643554688,225.68026733398438,226.75338745117188,226.760498046875,219.8485107421875,218.97059631347656,230.5697784423828,224.47962951660156,224.51797485351562,229.2681884765625,243.52529907226562,237.85308837890625,200.68905639648438,201.986328125,200.76724243164062,194.8685302734375,112.34712219238281,133.20181274414062,123.30602264404297,125.21430206298828,110.60587310791016,113.9427490234375,114.84226989746094,136.59385681152344,132.73716735839844,132.81871032714844,123.32115173339844,134.91160583496094,138.76144409179688,136.19589233398438,138.36155700683594,133.9379425048828,130.9864959716797,125.58373260498047,132.904541015625,133.59356689453125,135.63455200195312,142.02914428710938,142.09130859375,145.21939086914062,143.54664611816406,169.13587951660156,165.10194396972656,172.64173889160156,170.80714416503906,158.41244506835938,158.2160186767578,161.14242553710938,156.27955627441406,157.5963897705078,153.28689575195312,172.15737915039062,171.63858032226562,186.91400146484375,181.61495971679688,172.2971649169922,172.73770141601562,182.59957885742188,185.02867126464844,189.2369384765625,195.5153045654297,197.31753540039062,197.22471618652344,198.41539001464844,216.96823120117188,207.60205078125,214.21910095214844,215.32537841796875,210.9331512451172,208.17401123046875,206.77439880371094,204.0557861328125,212.28941345214844,212.9915771484375,211.60012817382812,188.5995635986328,185.912841796875,189.3125,199.1932830810547,202.9490966796875,195.62266540527344,200.6771240234375,207.15869140625,214.52505493164062,213.45111083984375,210.09674072265625,199.88360595703125,207.169189453125,208.69439697265625,202.37034606933594,205.3197479248047,201.90231323242188,208.86343383789062,219.84042358398438,220.6751251220703,242.34559631347656,230.9757080078125,246.99176025390625,237.21905517578125,244.1793212890625,244.4263916015625,241.22198486328125,241.9313201904297,245.16725158691406,246.30990600585938,244.9114532470703,247.4449462890625,231.70266723632812,237.4932098388672,238.90884399414062,234.1147003173828,229.9289093017578,234.41616821289062,233.0282745361328,232.10116577148438,227.13829040527344,229.27426147460938,228.9898223876953,242.53318786621094,244.14215087890625,235.7724609375,232.94448852539062,229.6680450439453,222.9597930908203,225.34716796875,228.1948699951172,226.31500244140625,231.11341857910156,229.39219665527344,225.38706970214844,229.07411193847656,227.6645965576172,241.51022338867188,239.07553100585938,246.67001342773438,243.01596069335938,240.9849853515625,239.4581756591797,242.13169860839844,239.60458374023438,240.21148681640625,238.42352294921875,233.64088439941406,232.77308654785156,235.4838104248047,238.48751831054688,236.15316772460938,245.0167236328125,262.1906433105469,274.6890563964844,279.2154235839844,304.0567626953125,309.64361572265625,321.51409912109375,316.6572570800781,318.1908874511719,334.5866394042969,345.5546569824219,385.19970703125,370.6717224121094,386.295166015625,389.87548828125,401.590576171875,394.9619445800781,379.5128479003906,393.98736572265625,391.1204528808594,395.8875732421875,380.3840637207031,391.024169921875,428.7417907714844,437.3978271484375,433.35491943359375,433.78662109375,429.53125,423.6693115234375,406.4637756347656,416.4397888183594,389.1263427734375,395.83514404296875,391.3844909667969,408.1441955566406,384.00103759765625,386.46612548828125,382.63262939453125,395.8746643066406,399.9214782714844,428.3957214355469,435.0797424316406,477.0519104003906,440.0404968261719,385.67193603515625,388.24114990234375,335.26007080078125,353.3622741699219,352.6734924316406,337.60211181640625,351.1100158691406,368.1018981933594,374.6955871582031,387.18310546875,365.57000732421875,377.26885986328125,364.8392028808594,365.8122863769531,389.01922607421875,384.3645324707031,385.54437255859375,371.0528259277344,341.78607177734375,344.503173828125,321.1163024902344,349.3555908203125,352.1832580566406,355.48809814453125,357.4385070800781,355.159423828125,359.75738525390625,359.9378662109375,353.2059020996094,346.2389221191406,346.5220947265625,352.5790100097656,353.956787109375,340.81585693359375,341.80865478515625,350.7661437988281,365.5904846191406,370.96759033203125,375.1420593261719,387.73126220703125,381.1907653808594,379.4840393066406,377.44183349609375,366.22900390625,368.8559265136719,378.21368408203125,379.93560791015625,369.13690185546875,392.1899719238281,413.7729797363281,409.7666931152344,412.4576110839844,406.2177734375,393.8883056640625,403.9970397949219,388.6507568359375,386.7301025390625,382.8199768066406,386.59033203125,396.3581848144531,383.15673828125,387.6021728515625,402.1419982910156,414.0673522949219,454.71929931640625,435.713134765625,453.5547790527344,444.1630554199219,449.67962646484375,462.9605407714844,461.0052795410156,474.6264343261719,460.14984130859375,447.55908203125,459.9403076171875,480.3600769042969,479.48406982421875,471.63043212890625,509.74456787109375,549.4866333007812,558.068115234375,608.4540405273438,603.8977661132812,570.6866455078125,518.8011474609375,517.4937133789062,538.2297973632812,575.758056640625,614.842529296875,587.3241577148438,598.3523559570312,616.708740234375,569.3541870117188,596.595458984375,601.9089965820312,591.8433837890625,554.8277587890625,573.4791259765625,559.6785278320312,545.79736328125,568.5673217773438,589.6632080078125,586.0111694335938,589.3555908203125,636.1818237304688,642.8689575195312,654.8119506835938,659.2979125976562,638.2908325195312,609.81787109375,634.8541870117188,583.714599609375,611.607177734375,626.4107055664062,635.8358154296875,682.642333984375,730.3973388671875,731.5201416015625,751.6189575195312,737.8034057617188,730.3675537109375,774.5349731445312,975.5076904296875,1040.2330322265625,1100.006103515625,1207.1121826171875,1225.6781005859375,1224.1971435546875,1281.0772705078125,1262.2467041015625,1090.1453857421875,1043.4345703125,1130.7393798828125,1218.4530029296875,1171.8345947265625,1233.53759765625,1230.1722412109375,1257.279541015625,1377.2958984375,1382.2740478515625,1121.5709228515625,1236.51220703125,1230.9906005859375,1391.609375,1324.414794921875,1357.05810546875,1253.1871337890625,1332.4921875,1382.5228271484375,1376.115478515625,1314.9862060546875,1369.04052734375,1515.1937255859375,1660.9095458984375,1594.7626953125,1718.65087890625,1677.8468017578125,1614.227783203125,1746.6168212890625,1768.0350341796875,1744.243408203125,1783.7979736328125,1843.5325927734375,1814.10986328125,1805.0841064453125,1779.791015625,1781.0675048828125,1848.458251953125,1937.44921875,1960.164794921875,1919.5340576171875,1935.60107421875,1781.992919921875,1570.2039794921875,1626.57568359375,1475.7037353515625,1446.03369140625,1459.97314453125,1416.0489501953125,1564.7076416015625,1492.6087646484375,1575.8531494140625,1541.914306640625,1533.2750244140625,1654.7415771484375,1723.15380859375,1834.7279052734375,1868.048828125,1799.166259765625,1826.1949462890625,1772.1024169921875,1924.6854248046875,1854.5643310546875,1791.7022705078125,1806.9718017578125,1823.4493408203125,1782.8551025390625,1817.6241455078125,1812.6346435546875,1788.217041015625,1691.333984375,1678.650146484375,1593.4134521484375,1595.3592529296875,1702.842041015625,1716.49462890625,1691.35595703125,1819.6849365234375,1846.03369140625,1918.362060546875,1977.27685546875,2143.2255859375,2028.4224853515625,2093.122802734375,2107.88720703125,2118.37890625,1971.0772705078125,2088.57373046875,2072.10888671875,2135.942138671875,2157.656982421875,2139.353271484375,2299.187744140625,2435.10498046875,2519.1162109375,2431.946533203125,2344.89501953125,2237.136962890625,2166.188720703125,2330.2109375,2364.751708984375,2403.53515625,2363.586181640625,2211.625732421875,2316.0595703125,2534.481689453125,2662.865234375,2746.380126953125,2756.876953125,2773.20703125,2945.892822265625,2952.05615234375,3431.086181640625,3253.62939453125,3522.783203125,3490.88037109375,3484.72900390625,3902.647705078125,3928.8447265625,3952.2939453125,4168.701171875,3785.8486328125,3715.1484375,4079.057373046875,3638.1220703125,3587.506103515625,3282.397705078125,3380.070068359375,2460.67919921875,2784.294189453125,2430.621337890625,2295.70556640625,2109.579833984375,2643.591064453125,2706.62890625,2888.69873046875,2736.488525390625,2419.90625,2279.51416015625,2390.305419921875,2714.9453125,2633.518310546875,2706.125,2855.12646484375,2688.195068359375,2630.576904296875,2715.0927734375,2590.26318359375,2517.438720703125,2608.26708984375,2471.5185546875,2353.768798828125,2372.484375,2508.3916015625,2537.89111328125,2610.936767578125,2367.66357421875,2372.001953125,2231.733154296875,2178.4990234375,2246.364501953125,1888.447509765625,1874.9500732421875,1989.736328125,1988.456298828125,1813.21728515625,1829.2392578125,1978.8946533203125,2079.657470703125,2160.768310546875,2274.547607421875,2113.60546875,2150.040283203125,2226.1142578125,2321.72412109375,2198.58251953125,2324.679443359375,2315.161865234375,2120.0263671875,2146.6923828125,2111.403564453125,2139.664794921875,2036.7210693359375,1940.083984375,1994.331298828125,1911.1756591796875,1880.3829345703125,1898.8251953125,1895.5521240234375,1817.296630859375,1787.5107421875,1990.9708251953125,2025.2027587890625,2124.776611328125,2189.21875,2191.373779296875,2233.36669921875,2298.33349609375,2296.54541015625,2380.956787109375,2466.96142578125,2536.2099609375,2561.85205078125,2610.1533203125,2502.349609375,2724.619873046875,2827.328857421875,2890.941650390625,3157.23876953125,3013.732666015625,3167.856201171875,3141.691162109375,3164.2451171875,3043.414306640625,3322.211669921875,3265.443359375,3310.504150390625,3156.509521484375,3014.845947265625,3020.08984375,3182.7021484375,3286.935302734375,3226.083984375,3242.115478515625,3319.25732421875,3172.456298828125,3224.915283203125,3100.325439453125,3270.600830078125,3244.4033203125,3227.002685546875,3224.374267578125,3433.732666015625,3834.828125,3790.989990234375,3940.61474609375,3887.828369140625,3952.133544921875,3928.37939453125,3426.394287109375,3497.315185546875,3427.340087890625,3211.505859375,3270.278076171875,3410.134521484375,3285.51171875,3429.169677734375,3615.28271484375,3571.294921875,3398.538818359375,3432.018310546875,3329.447998046875,2958.993408203125,2764.43115234375,3077.867919921875,3155.523681640625,2931.669189453125,2925.565673828125,3062.265380859375,2934.138916015625,2807.296630859375,2853.143310546875,3001.678955078125,3307.51611328125,3391.6943359375,3418.358642578125,3380.089111328125,3518.5185546875,3580.56201171875,3587.974853515625,3563.75927734375,3575.716796875,3425.852783203125,3545.35400390625,3492.5732421875,3606.20166015625,3786.01416015625,3862.634765625,3830.382080078125,3847.1044921875,3748.76025390625,3877.65087890625,4155.9921875,4054.32275390625,3970.181884765625,4171.66357421875,4087.903076171875,4217.876953125,4131.10205078125,3930.25732421875,4287.31884765625,4414.74658203125,4325.650390625,4288.07421875,4324.626953125,4584.798828125,4607.19384765625,4537.32421875,4486.2431640625,4521.5810546875,4620.5546875,4812.08740234375,4735.06884765625,4636.17431640625,4730.38427734375,4667.115234375,4651.46044921875,4626.35888671875,4557.50390625,4216.365234375,4287.59375,4000.65087890625,4298.306640625,4409.93115234375,4269.73291015625,4088.457763671875,4340.763671875,4239.9814453125,4274.7431640625,4030.908935546875,4096.912109375,4294.45361328125,4445.10498046875,4631.47900390625,4586.990234375,4511.30224609375,4220.7060546875,4119.58740234375,4198.32275390625,4358.7373046875,4315.0615234375,4439.35791015625,4119.81591796875,3908.49609375,4084.452392578125,4134.453125,3784.226806640625,3745.4404296875,4018.388671875,3962.4697265625,3879.486572265625,3960.860107421875,3922.592529296875,3933.844482421875,4020.260009765625,3982.099609375,4108.015625,4047.98291015625,4093.281005859375,4067.328125,4037.547607421875,3800.89306640625,3628.53173828125,3713.85205078125,3682.6328125,3769.697021484375,3829.56494140625,3761.38037109375,3794.056640625,3550.386962890625,3418.408203125,3193.21044921875,3091.97265625,3157.75146484375,3083.097900390625,3238.111572265625,3372.25830078125,3248.28857421875,3310.00146484375,3330.53076171875,3350.921875,3212.304931640625,3164.025146484375,3095.825927734375,3001.1201171875,2557.931640625,2405.18115234375,2535.0390625,2440.352294921875,2455.93505859375,2468.0302734375,2423.001220703125,2547.092041015625,2597.084716796875,2603.466552734375,2688.27880859375,2792.1171875,2682.85400390625,2679.16259765625,2983.5869140625,3014.648193359375,3057.47607421875,3142.470703125,3122.608642578125,3239.45703125,3077.482177734375,2927.383544921875,2917.36279296875,2883.46337890625,2933.47900390625,3179.877197265625,3127.830078125,2881.48193359375,2785.7275390625,2763.701171875,2628.6484375,2573.816162109375,2639.29931640625,2590.359619140625,2598.067138671875,2764.53564453125,2781.11181640625,2621.8017578125,2919.201171875,2972.485107421875,2950.118408203125,2834.468994140625,2617.156005859375,2664.8310546875,2555.037353515625,2497.771240234375,2576.74755859375,2729.783447265625,2608.048583984375,2559.56298828125,2574.754150390625,2518.944580078125,2590.696044921875,2620.149658203125,2772.0556640625,2814.8544921875,2945.343017578125,2946.257080078125,2860.459228515625,2897.9765625,2973.131103515625,3031.067138671875,3108.06201171875,3106.67138671875,3143.178955078125,3291.57763671875,3336.634521484375,3401.98779296875,3385.157958984375,3281.642822265625,3449.55224609375,3445.059326171875,3522.83349609375,3521.2412109375,3411.79248046875,3171.69189453125,3233.274658203125,3192.073974609375,3261.916259765625,3211.866943359375,2981.05224609375,3030.37646484375,3118.34423828125,3019.909423828125,3040.91650390625,3062.310302734375,2993.4033203125,3057.606689453125,3104.1064453125,3077.745849609375,2987.480712890625,2964.835693359375,2938.114013671875,2922.732666015625,3009.3935546875,2808.29833984375,2888.9296875,2936.94091796875,2815.601806640625,2730.186767578125,2827.756103515625,2857.410400390625,2783.476318359375,2940.644775390625,2749.213134765625,2694.979736328125,2636.093017578125,2517.4599609375,2245.430419921875,2343.510986328125,2072.108642578125,1961.7015380859375,2014.418212890625,2056.27392578125,2145.706787109375,2022.7259521484375,2090.4091796875,1916.6561279296875,2018.336181640625,1961.315673828125,1974.518310546875,2043.170166015625,1972.181884765625,1978.9827880859375,1944.827880859375,1803.913330078125,1724.9228515625,1757.9417724609375,1812.031005859375,1996.4412841796875,1942.3280029296875,1823.5693359375,1834.1505126953125,1775.07861328125,1801.6094970703125,1805.2049560546875,1859.2896728515625,1814.04833984375,1793.572265625,1789.8260498046875,1665.042236328125,1529.6634521484375,1445.216552734375,1204.582763671875,1211.662841796875,1233.2064208984375,1067.730712890625,1086.519287109375,993.6367797851562,1127.656494140625,1127.6424560546875,1124.8245849609375,1051.421875,1143.38671875,1226.8447265625,1243.4468994140625,1199.8316650390625,1193.6806640625,1144.5792236328125,1098.94384765625,1067.298828125,1059.767333984375,1066.5128173828125,1073.7669677734375,1151.05908203125,1134.541015625,1186.9739990234375,1237.5933837890625,1222.5062255859375,1216.978271484375,1168.401611328125,1097.236572265625,1038.191650390625,1113.587158203125,1191.5262451171875,1233.129150390625,1352.62646484375,1338.6357421875,1578.7178955078125,1542.9752197265625,1520.20068359375,1576.74951171875,1537.4051513671875,1549.2974853515625,1599.4766845703125,1445.3834228515625,1441.8067626953125,1636.232666015625,1725.4681396484375,1727.406982421875,1695.969482421875,1681.517333984375,1635.19580078125,1632.9454345703125,1618.87451171875,1608.205810546875,1732.254638671875,1691.6580810546875,1699.350830078125,1775.51611328125,1703.0250244140625,1851.74267578125,1881.22412109375,1957.2464599609375,1981.3365478515625,1936.802001953125,1904.2281494140625,1878.139404296875,1832.9996337890625,1847.0078125,1612.9873046875,1577.0037841796875,1619.3189697265625,1622.505859375,1662.7698974609375,1657.0592041015625,1696.45703125,1507.7828369140625,1491.39501953125,1430.54736328125,1553.037353515625,1523.8388671875,1553.6849365234375,1586.1767578125,1577.220458984375,1556.8726806640625,1577.6416015625,1617.1832275390625,1561.74853515625,1629.9063720703125,1635.34765625,1719.08544921875,1776.2037353515625,1761.800048828125,1713.7652587890625,1580.7879638671875,1634.7550048828125,1471.6934814453125,1432.44775390625,1469.74169921875,1335.3291015625,1377.5413818359375,1324.38818359375,1252.6077880859375,1327.68017578125,1328.259521484375,1317.9932861328125,1294.216796875,1335.3201904296875,1330.127685546875,1337.410888671875,1335.65234375,1327.9786376953125,1311.6444091796875,1276.093505859375,1323.439208984375,1362.1265869140625,1352.837158203125,1351.70947265625,1332.5169677734375,1315.50048828125,1322.604248046875,1291.337646484375,1279.57568359375,1294.9063720703125,1288.1239013671875,1297.422119140625,1274.8717041015625,1306.296630859375,1331.713623046875,1310.447021484375,1285.7442626953125,1283.200927734375,1299.9464111328125,1314.2991943359375,1363.447021484375,1344.99853515625,1461.6654052734375,1566.566650390625,1514.3748779296875,1555.4779052734375,1619.698486328125,1590.7833251953125,1572.7144775390625,1579.70458984375,1519.7117919921875,1531.541748046875,1645.0933837890625,1627.968017578125,1572.2347412109375,1568.59130859375,1332.8355712890625,1100.1697998046875,1299.464599609375,1287.2210693359375,1255.268310546875,1221.8192138671875,1241.604248046875,1251.7362060546875,1215.6025390625,1200.80859375,1212.30029296875,1218.4267578125,1142.4666748046875,1108.35302734375,1135.1734619140625,1183.1995849609375,1203.983154296875,1198.9259033203125,1205.89794921875,1195.126953125,1170.086181640625,1216.9012451171875,1295.6885986328125,1276.27392578125,1294.3033447265625,1243.3348388671875,1280.256591796875,1259.6767578125,1271.65380859375,1232.4375,1281.1163330078125,1264.2847900390625,1266.3841552734375,1263.8685302734375,1274.6190185546875,1320.5491943359375,1309.3287353515625,1266.3538818359375,1168.2593994140625,1188.1495361328125,1184.7152099609375,1167.60986328125,1217.70361328125,1213.5999755859375,1218.18212890625,1220.159423828125,1221.1485595703125,1218.9620361328125,1226.974365234375,1212.7916259765625,1189.986083984375,1201.5953369140625,1199.2327880859375,1196.771240234375,1200.96484375,1214.6566162109375,1214.77880859375,1256.526611328125,1250.4385986328125,1269.3790283203125,1264.2703857421875,1287.3594970703125,1321.5389404296875,1336.5860595703125,1387.9327392578125,1417.9384765625,1451.6148681640625,1550.7069091796875,1552.4794921875,1576.83349609375,1567.8460693359375,1515.5069580078125,1552.5565185546875,1659.754150390625,1627.1181640625,1628.382080078125,1628.2510986328125,1556.604248046875,1611.7110595703125,1603.10595703125,1598.156494140625,1572.43505859375,1646.1556396484375,1567.3265380859375,1586.535400390625,1641.792724609375,1643.2415771484375,1664.74560546875,1667.0592041015625,1631.6458740234375,1616.2470703125,1672.0035400390625,1650.716796875,1546.438232421875,1514.869140625,1539.9267578125,1515.03369140625,1507.1658935546875,1556.8751220703125,1673.7459716796875,1640.067626953125,1694.7833251953125,1691.8194580078125,1681.4361572265625,1702.6751708984375,1658.036376953125,1643.231689453125,1651.0738525390625,1608.3731689453125,1594.9149169921875,1640.817138671875,1634.326416015625,1605.8951416015625,1663.4337158203125,1647.3193359375,1569.1676025390625,1566.9239501953125,1564.46875,1567.398681640625,1561.93310546875,1534.0882568359375,1438.6607666015625,1429.1580810546875,1482.61669921875,1590.29296875,1680.3089599609375,1703.507080078125,1656.1805419921875,1677.2154541015625,1792.485107421875,1761.65966796875,1785.5765380859375,1735.3212890625,1806.7607421875,1737.717041015625,1816.4051513671875,1752.0447998046875,1743.7647705078125,1775.6767578125,1715.4608154296875,1772.78564453125,1793.0018310546875,1792.7371826171875,1822.0220947265625,1813.860595703125,1795.7081298828125,1810.297119140625,1871.005126953125,1909.114013671875,1872.922607421875,1865.6361083984375,1849.4981689453125,1859.3878173828125,1911.20751953125,1892.189697265625,1920.68212890625,2012.6346435546875,2101.635498046875,2092.466796875,2120.005859375,2076.242919921875,2104.537353515625,1936.4034423828125,1943.09765625,1849.9998779296875,1874.2286376953125,1862.06201171875,1842.7574462890625,1866.753662109375,1866.564208984375,1908.786376953125,1892.5128173828125,1908.9169921875,1876.92431640625,1831.954833984375,1870.789306640625,1904.65185546875,1877.7041015625,1995.0609130859375,1900.2218017578125,1873.076416015625,1849.042724609375,1848.6031494140625,1842.4014892578125,1796.4906005859375,1808.019775390625,1796.1148681640625,1800.5009765625,1817.5499267578125,1824.1214599609375,1821.859619140625,1801.728515625,1812.5894775390625,1820.47802734375,1804.5313720703125,1817.5347900390625,1854.380615234375,1800.0999755859375,1805.9537353515625,1828.689697265625,1831.1182861328125,1910.9141845703125,1893.078125,1901.026611328125,1874.1304931640625,1862.201416015625,1907.256591796875,1892.4124755859375,1890.5135498046875,1811.828369140625,1884.494873046875,1832.39599609375,1846.3018798828125,1840.2252197265625,1752.384765625,1753.415283203125,1742.5286865234375,1739.03759765625,1650.519287109375,1665.519775390625,1716.6688232421875,1727.2041015625,1720.5775146484375,1737.659423828125,1792.1199951171875,1891.0072021484375,1872.9429931640625,1892.862060546875,1876.0596923828125,1900.506103515625,1859.432861328125,1889.703369140625,1827.97119140625,1852.227294921875,1933.18896484375,1924.56591796875,1937.4383544921875,1955.38916015625,1936.633544921875,1910.5880126953125,1848.636474609375,1870.6025390625,1865.53955078125,1863.009765625,1880.556396484375,1878.3360595703125],\"yaxis\":\"y\",\"type\":\"scattergl\"}],                        {\"template\":{\"data\":{\"histogram2dcontour\":[{\"type\":\"histogram2dcontour\",\"colorbar\":{\"outlinewidth\":0,\"ticks\":\"\"},\"colorscale\":[[0.0,\"#0d0887\"],[0.1111111111111111,\"#46039f\"],[0.2222222222222222,\"#7201a8\"],[0.3333333333333333,\"#9c179e\"],[0.4444444444444444,\"#bd3786\"],[0.5555555555555556,\"#d8576b\"],[0.6666666666666666,\"#ed7953\"],[0.7777777777777778,\"#fb9f3a\"],[0.8888888888888888,\"#fdca26\"],[1.0,\"#f0f921\"]]}],\"choropleth\":[{\"type\":\"choropleth\",\"colorbar\":{\"outlinewidth\":0,\"ticks\":\"\"}}],\"histogram2d\":[{\"type\":\"histogram2d\",\"colorbar\":{\"outlinewidth\":0,\"ticks\":\"\"},\"colorscale\":[[0.0,\"#0d0887\"],[0.1111111111111111,\"#46039f\"],[0.2222222222222222,\"#7201a8\"],[0.3333333333333333,\"#9c179e\"],[0.4444444444444444,\"#bd3786\"],[0.5555555555555556,\"#d8576b\"],[0.6666666666666666,\"#ed7953\"],[0.7777777777777778,\"#fb9f3a\"],[0.8888888888888888,\"#fdca26\"],[1.0,\"#f0f921\"]]}],\"heatmap\":[{\"type\":\"heatmap\",\"colorbar\":{\"outlinewidth\":0,\"ticks\":\"\"},\"colorscale\":[[0.0,\"#0d0887\"],[0.1111111111111111,\"#46039f\"],[0.2222222222222222,\"#7201a8\"],[0.3333333333333333,\"#9c179e\"],[0.4444444444444444,\"#bd3786\"],[0.5555555555555556,\"#d8576b\"],[0.6666666666666666,\"#ed7953\"],[0.7777777777777778,\"#fb9f3a\"],[0.8888888888888888,\"#fdca26\"],[1.0,\"#f0f921\"]]}],\"heatmapgl\":[{\"type\":\"heatmapgl\",\"colorbar\":{\"outlinewidth\":0,\"ticks\":\"\"},\"colorscale\":[[0.0,\"#0d0887\"],[0.1111111111111111,\"#46039f\"],[0.2222222222222222,\"#7201a8\"],[0.3333333333333333,\"#9c179e\"],[0.4444444444444444,\"#bd3786\"],[0.5555555555555556,\"#d8576b\"],[0.6666666666666666,\"#ed7953\"],[0.7777777777777778,\"#fb9f3a\"],[0.8888888888888888,\"#fdca26\"],[1.0,\"#f0f921\"]]}],\"contourcarpet\":[{\"type\":\"contourcarpet\",\"colorbar\":{\"outlinewidth\":0,\"ticks\":\"\"}}],\"contour\":[{\"type\":\"contour\",\"colorbar\":{\"outlinewidth\":0,\"ticks\":\"\"},\"colorscale\":[[0.0,\"#0d0887\"],[0.1111111111111111,\"#46039f\"],[0.2222222222222222,\"#7201a8\"],[0.3333333333333333,\"#9c179e\"],[0.4444444444444444,\"#bd3786\"],[0.5555555555555556,\"#d8576b\"],[0.6666666666666666,\"#ed7953\"],[0.7777777777777778,\"#fb9f3a\"],[0.8888888888888888,\"#fdca26\"],[1.0,\"#f0f921\"]]}],\"surface\":[{\"type\":\"surface\",\"colorbar\":{\"outlinewidth\":0,\"ticks\":\"\"},\"colorscale\":[[0.0,\"#0d0887\"],[0.1111111111111111,\"#46039f\"],[0.2222222222222222,\"#7201a8\"],[0.3333333333333333,\"#9c179e\"],[0.4444444444444444,\"#bd3786\"],[0.5555555555555556,\"#d8576b\"],[0.6666666666666666,\"#ed7953\"],[0.7777777777777778,\"#fb9f3a\"],[0.8888888888888888,\"#fdca26\"],[1.0,\"#f0f921\"]]}],\"mesh3d\":[{\"type\":\"mesh3d\",\"colorbar\":{\"outlinewidth\":0,\"ticks\":\"\"}}],\"scatter\":[{\"fillpattern\":{\"fillmode\":\"overlay\",\"size\":10,\"solidity\":0.2},\"type\":\"scatter\"}],\"parcoords\":[{\"type\":\"parcoords\",\"line\":{\"colorbar\":{\"outlinewidth\":0,\"ticks\":\"\"}}}],\"scatterpolargl\":[{\"type\":\"scatterpolargl\",\"marker\":{\"colorbar\":{\"outlinewidth\":0,\"ticks\":\"\"}}}],\"bar\":[{\"error_x\":{\"color\":\"#2a3f5f\"},\"error_y\":{\"color\":\"#2a3f5f\"},\"marker\":{\"line\":{\"color\":\"#E5ECF6\",\"width\":0.5},\"pattern\":{\"fillmode\":\"overlay\",\"size\":10,\"solidity\":0.2}},\"type\":\"bar\"}],\"scattergeo\":[{\"type\":\"scattergeo\",\"marker\":{\"colorbar\":{\"outlinewidth\":0,\"ticks\":\"\"}}}],\"scatterpolar\":[{\"type\":\"scatterpolar\",\"marker\":{\"colorbar\":{\"outlinewidth\":0,\"ticks\":\"\"}}}],\"histogram\":[{\"marker\":{\"pattern\":{\"fillmode\":\"overlay\",\"size\":10,\"solidity\":0.2}},\"type\":\"histogram\"}],\"scattergl\":[{\"type\":\"scattergl\",\"marker\":{\"colorbar\":{\"outlinewidth\":0,\"ticks\":\"\"}}}],\"scatter3d\":[{\"type\":\"scatter3d\",\"line\":{\"colorbar\":{\"outlinewidth\":0,\"ticks\":\"\"}},\"marker\":{\"colorbar\":{\"outlinewidth\":0,\"ticks\":\"\"}}}],\"scattermapbox\":[{\"type\":\"scattermapbox\",\"marker\":{\"colorbar\":{\"outlinewidth\":0,\"ticks\":\"\"}}}],\"scatterternary\":[{\"type\":\"scatterternary\",\"marker\":{\"colorbar\":{\"outlinewidth\":0,\"ticks\":\"\"}}}],\"scattercarpet\":[{\"type\":\"scattercarpet\",\"marker\":{\"colorbar\":{\"outlinewidth\":0,\"ticks\":\"\"}}}],\"carpet\":[{\"aaxis\":{\"endlinecolor\":\"#2a3f5f\",\"gridcolor\":\"white\",\"linecolor\":\"white\",\"minorgridcolor\":\"white\",\"startlinecolor\":\"#2a3f5f\"},\"baxis\":{\"endlinecolor\":\"#2a3f5f\",\"gridcolor\":\"white\",\"linecolor\":\"white\",\"minorgridcolor\":\"white\",\"startlinecolor\":\"#2a3f5f\"},\"type\":\"carpet\"}],\"table\":[{\"cells\":{\"fill\":{\"color\":\"#EBF0F8\"},\"line\":{\"color\":\"white\"}},\"header\":{\"fill\":{\"color\":\"#C8D4E3\"},\"line\":{\"color\":\"white\"}},\"type\":\"table\"}],\"barpolar\":[{\"marker\":{\"line\":{\"color\":\"#E5ECF6\",\"width\":0.5},\"pattern\":{\"fillmode\":\"overlay\",\"size\":10,\"solidity\":0.2}},\"type\":\"barpolar\"}],\"pie\":[{\"automargin\":true,\"type\":\"pie\"}]},\"layout\":{\"autotypenumbers\":\"strict\",\"colorway\":[\"#636efa\",\"#EF553B\",\"#00cc96\",\"#ab63fa\",\"#FFA15A\",\"#19d3f3\",\"#FF6692\",\"#B6E880\",\"#FF97FF\",\"#FECB52\"],\"font\":{\"color\":\"#2a3f5f\"},\"hovermode\":\"closest\",\"hoverlabel\":{\"align\":\"left\"},\"paper_bgcolor\":\"white\",\"plot_bgcolor\":\"#E5ECF6\",\"polar\":{\"bgcolor\":\"#E5ECF6\",\"angularaxis\":{\"gridcolor\":\"white\",\"linecolor\":\"white\",\"ticks\":\"\"},\"radialaxis\":{\"gridcolor\":\"white\",\"linecolor\":\"white\",\"ticks\":\"\"}},\"ternary\":{\"bgcolor\":\"#E5ECF6\",\"aaxis\":{\"gridcolor\":\"white\",\"linecolor\":\"white\",\"ticks\":\"\"},\"baxis\":{\"gridcolor\":\"white\",\"linecolor\":\"white\",\"ticks\":\"\"},\"caxis\":{\"gridcolor\":\"white\",\"linecolor\":\"white\",\"ticks\":\"\"}},\"coloraxis\":{\"colorbar\":{\"outlinewidth\":0,\"ticks\":\"\"}},\"colorscale\":{\"sequential\":[[0.0,\"#0d0887\"],[0.1111111111111111,\"#46039f\"],[0.2222222222222222,\"#7201a8\"],[0.3333333333333333,\"#9c179e\"],[0.4444444444444444,\"#bd3786\"],[0.5555555555555556,\"#d8576b\"],[0.6666666666666666,\"#ed7953\"],[0.7777777777777778,\"#fb9f3a\"],[0.8888888888888888,\"#fdca26\"],[1.0,\"#f0f921\"]],\"sequentialminus\":[[0.0,\"#0d0887\"],[0.1111111111111111,\"#46039f\"],[0.2222222222222222,\"#7201a8\"],[0.3333333333333333,\"#9c179e\"],[0.4444444444444444,\"#bd3786\"],[0.5555555555555556,\"#d8576b\"],[0.6666666666666666,\"#ed7953\"],[0.7777777777777778,\"#fb9f3a\"],[0.8888888888888888,\"#fdca26\"],[1.0,\"#f0f921\"]],\"diverging\":[[0,\"#8e0152\"],[0.1,\"#c51b7d\"],[0.2,\"#de77ae\"],[0.3,\"#f1b6da\"],[0.4,\"#fde0ef\"],[0.5,\"#f7f7f7\"],[0.6,\"#e6f5d0\"],[0.7,\"#b8e186\"],[0.8,\"#7fbc41\"],[0.9,\"#4d9221\"],[1,\"#276419\"]]},\"xaxis\":{\"gridcolor\":\"white\",\"linecolor\":\"white\",\"ticks\":\"\",\"title\":{\"standoff\":15},\"zerolinecolor\":\"white\",\"automargin\":true,\"zerolinewidth\":2},\"yaxis\":{\"gridcolor\":\"white\",\"linecolor\":\"white\",\"ticks\":\"\",\"title\":{\"standoff\":15},\"zerolinecolor\":\"white\",\"automargin\":true,\"zerolinewidth\":2},\"scene\":{\"xaxis\":{\"backgroundcolor\":\"#E5ECF6\",\"gridcolor\":\"white\",\"linecolor\":\"white\",\"showbackground\":true,\"ticks\":\"\",\"zerolinecolor\":\"white\",\"gridwidth\":2},\"yaxis\":{\"backgroundcolor\":\"#E5ECF6\",\"gridcolor\":\"white\",\"linecolor\":\"white\",\"showbackground\":true,\"ticks\":\"\",\"zerolinecolor\":\"white\",\"gridwidth\":2},\"zaxis\":{\"backgroundcolor\":\"#E5ECF6\",\"gridcolor\":\"white\",\"linecolor\":\"white\",\"showbackground\":true,\"ticks\":\"\",\"zerolinecolor\":\"white\",\"gridwidth\":2}},\"shapedefaults\":{\"line\":{\"color\":\"#2a3f5f\"}},\"annotationdefaults\":{\"arrowcolor\":\"#2a3f5f\",\"arrowhead\":0,\"arrowwidth\":1},\"geo\":{\"bgcolor\":\"white\",\"landcolor\":\"#E5ECF6\",\"subunitcolor\":\"white\",\"showland\":true,\"showlakes\":true,\"lakecolor\":\"white\"},\"title\":{\"x\":0.05},\"mapbox\":{\"style\":\"light\"}}},\"xaxis\":{\"anchor\":\"y\",\"domain\":[0.0,1.0],\"title\":{\"text\":\"Date\"}},\"yaxis\":{\"anchor\":\"x\",\"domain\":[0.0,1.0],\"title\":{\"text\":\"Close\"}},\"legend\":{\"tracegroupgap\":0},\"margin\":{\"t\":60}},                        {\"responsive\": true}                    ).then(function(){\n",
              "                            \n",
              "var gd = document.getElementById('5c54c2a4-97f5-478f-a0c2-47e16c471e7c');\n",
              "var x = new MutationObserver(function (mutations, observer) {{\n",
              "        var display = window.getComputedStyle(gd).display;\n",
              "        if (!display || display === 'none') {{\n",
              "            console.log([gd, 'removed!']);\n",
              "            Plotly.purge(gd);\n",
              "            observer.disconnect();\n",
              "        }}\n",
              "}});\n",
              "\n",
              "// Listen for the removal of the full notebook cells\n",
              "var notebookContainer = gd.closest('#notebook-container');\n",
              "if (notebookContainer) {{\n",
              "    x.observe(notebookContainer, {childList: true});\n",
              "}}\n",
              "\n",
              "// Listen for the clearing of the current output cell\n",
              "var outputEl = gd.closest('.output');\n",
              "if (outputEl) {{\n",
              "    x.observe(outputEl, {childList: true});\n",
              "}}\n",
              "\n",
              "                        })                };                            </script>        </div>\n",
              "</body>\n",
              "</html>"
            ]
          },
          "metadata": {}
        }
      ]
    },
    {
      "cell_type": "markdown",
      "source": [
        "Using color coding for different Years."
      ],
      "metadata": {
        "id": "BKzMJinE8lnn"
      }
    },
    {
      "cell_type": "code",
      "source": [
        "px.scatter(data,x=data['Date'],y=data['Close'],color = 'Year')"
      ],
      "metadata": {
        "colab": {
          "base_uri": "https://localhost:8080/",
          "height": 542
        },
        "id": "rn-113lEHkIf",
        "outputId": "59eec16f-9ae9-4567-be2b-e9f525d115dd"
      },
      "execution_count": 16,
      "outputs": [
        {
          "output_type": "display_data",
          "data": {
            "text/html": [
              "<html>\n",
              "<head><meta charset=\"utf-8\" /></head>\n",
              "<body>\n",
              "    <div>            <script src=\"https://cdnjs.cloudflare.com/ajax/libs/mathjax/2.7.5/MathJax.js?config=TeX-AMS-MML_SVG\"></script><script type=\"text/javascript\">if (window.MathJax && window.MathJax.Hub && window.MathJax.Hub.Config) {window.MathJax.Hub.Config({SVG: {font: \"STIX-Web\"}});}</script>                <script type=\"text/javascript\">window.PlotlyConfig = {MathJaxConfig: 'local'};</script>\n",
              "        <script src=\"https://cdn.plot.ly/plotly-2.18.2.min.js\"></script>                <div id=\"8d6eb92b-cace-4126-b1be-615e83555e72\" class=\"plotly-graph-div\" style=\"height:525px; width:100%;\"></div>            <script type=\"text/javascript\">                                    window.PLOTLYENV=window.PLOTLYENV || {};                                    if (document.getElementById(\"8d6eb92b-cace-4126-b1be-615e83555e72\")) {                    Plotly.newPlot(                        \"8d6eb92b-cace-4126-b1be-615e83555e72\",                        [{\"hovertemplate\":\"Date=%{x}<br>Close=%{y}<br>Year=%{marker.color}<extra></extra>\",\"legendgroup\":\"\",\"marker\":{\"color\":[2017,2017,2017,2017,2017,2017,2017,2017,2017,2017,2017,2017,2017,2017,2017,2017,2017,2017,2017,2017,2017,2017,2017,2017,2017,2017,2017,2017,2017,2017,2017,2017,2017,2017,2017,2017,2017,2017,2017,2017,2017,2017,2017,2017,2017,2017,2017,2017,2017,2017,2017,2017,2017,2018,2018,2018,2018,2018,2018,2018,2018,2018,2018,2018,2018,2018,2018,2018,2018,2018,2018,2018,2018,2018,2018,2018,2018,2018,2018,2018,2018,2018,2018,2018,2018,2018,2018,2018,2018,2018,2018,2018,2018,2018,2018,2018,2018,2018,2018,2018,2018,2018,2018,2018,2018,2018,2018,2018,2018,2018,2018,2018,2018,2018,2018,2018,2018,2018,2018,2018,2018,2018,2018,2018,2018,2018,2018,2018,2018,2018,2018,2018,2018,2018,2018,2018,2018,2018,2018,2018,2018,2018,2018,2018,2018,2018,2018,2018,2018,2018,2018,2018,2018,2018,2018,2018,2018,2018,2018,2018,2018,2018,2018,2018,2018,2018,2018,2018,2018,2018,2018,2018,2018,2018,2018,2018,2018,2018,2018,2018,2018,2018,2018,2018,2018,2018,2018,2018,2018,2018,2018,2018,2018,2018,2018,2018,2018,2018,2018,2018,2018,2018,2018,2018,2018,2018,2018,2018,2018,2018,2018,2018,2018,2018,2018,2018,2018,2018,2018,2018,2018,2018,2018,2018,2018,2018,2018,2018,2018,2018,2018,2018,2018,2018,2018,2018,2018,2018,2018,2018,2018,2018,2018,2018,2018,2018,2018,2018,2018,2018,2018,2018,2018,2018,2018,2018,2018,2018,2018,2018,2018,2018,2018,2018,2018,2018,2018,2018,2018,2018,2018,2018,2018,2018,2018,2018,2018,2018,2018,2018,2018,2018,2018,2018,2018,2018,2018,2018,2018,2018,2018,2018,2018,2018,2018,2018,2018,2018,2018,2018,2018,2018,2018,2018,2018,2018,2018,2018,2018,2018,2018,2018,2018,2018,2018,2018,2018,2018,2018,2018,2018,2018,2018,2018,2018,2018,2018,2018,2018,2018,2018,2018,2018,2018,2018,2018,2018,2018,2018,2018,2018,2018,2018,2018,2018,2018,2018,2018,2018,2018,2018,2018,2018,2018,2018,2018,2018,2018,2018,2018,2018,2018,2018,2018,2018,2018,2018,2018,2018,2018,2018,2018,2018,2018,2018,2018,2018,2018,2018,2018,2018,2018,2018,2018,2018,2018,2018,2018,2018,2018,2018,2018,2018,2018,2018,2018,2018,2018,2018,2018,2018,2018,2018,2018,2018,2018,2018,2018,2018,2018,2018,2018,2018,2018,2018,2018,2018,2018,2019,2019,2019,2019,2019,2019,2019,2019,2019,2019,2019,2019,2019,2019,2019,2019,2019,2019,2019,2019,2019,2019,2019,2019,2019,2019,2019,2019,2019,2019,2019,2019,2019,2019,2019,2019,2019,2019,2019,2019,2019,2019,2019,2019,2019,2019,2019,2019,2019,2019,2019,2019,2019,2019,2019,2019,2019,2019,2019,2019,2019,2019,2019,2019,2019,2019,2019,2019,2019,2019,2019,2019,2019,2019,2019,2019,2019,2019,2019,2019,2019,2019,2019,2019,2019,2019,2019,2019,2019,2019,2019,2019,2019,2019,2019,2019,2019,2019,2019,2019,2019,2019,2019,2019,2019,2019,2019,2019,2019,2019,2019,2019,2019,2019,2019,2019,2019,2019,2019,2019,2019,2019,2019,2019,2019,2019,2019,2019,2019,2019,2019,2019,2019,2019,2019,2019,2019,2019,2019,2019,2019,2019,2019,2019,2019,2019,2019,2019,2019,2019,2019,2019,2019,2019,2019,2019,2019,2019,2019,2019,2019,2019,2019,2019,2019,2019,2019,2019,2019,2019,2019,2019,2019,2019,2019,2019,2019,2019,2019,2019,2019,2019,2019,2019,2019,2019,2019,2019,2019,2019,2019,2019,2019,2019,2019,2019,2019,2019,2019,2019,2019,2019,2019,2019,2019,2019,2019,2019,2019,2019,2019,2019,2019,2019,2019,2019,2019,2019,2019,2019,2019,2019,2019,2019,2019,2019,2019,2019,2019,2019,2019,2019,2019,2019,2019,2019,2019,2019,2019,2019,2019,2019,2019,2019,2019,2019,2019,2019,2019,2019,2019,2019,2019,2019,2019,2019,2019,2019,2019,2019,2019,2019,2019,2019,2019,2019,2019,2019,2019,2019,2019,2019,2019,2019,2019,2019,2019,2019,2019,2019,2019,2019,2019,2019,2019,2019,2019,2019,2019,2019,2019,2019,2019,2019,2019,2019,2019,2019,2019,2019,2019,2019,2019,2019,2019,2019,2019,2019,2019,2019,2019,2019,2019,2019,2019,2019,2019,2019,2019,2019,2019,2019,2019,2019,2019,2019,2019,2019,2019,2019,2019,2019,2019,2019,2019,2019,2019,2019,2019,2019,2019,2019,2019,2019,2019,2019,2019,2019,2019,2019,2019,2019,2019,2019,2019,2019,2019,2019,2019,2019,2019,2019,2019,2019,2019,2020,2020,2020,2020,2020,2020,2020,2020,2020,2020,2020,2020,2020,2020,2020,2020,2020,2020,2020,2020,2020,2020,2020,2020,2020,2020,2020,2020,2020,2020,2020,2020,2020,2020,2020,2020,2020,2020,2020,2020,2020,2020,2020,2020,2020,2020,2020,2020,2020,2020,2020,2020,2020,2020,2020,2020,2020,2020,2020,2020,2020,2020,2020,2020,2020,2020,2020,2020,2020,2020,2020,2020,2020,2020,2020,2020,2020,2020,2020,2020,2020,2020,2020,2020,2020,2020,2020,2020,2020,2020,2020,2020,2020,2020,2020,2020,2020,2020,2020,2020,2020,2020,2020,2020,2020,2020,2020,2020,2020,2020,2020,2020,2020,2020,2020,2020,2020,2020,2020,2020,2020,2020,2020,2020,2020,2020,2020,2020,2020,2020,2020,2020,2020,2020,2020,2020,2020,2020,2020,2020,2020,2020,2020,2020,2020,2020,2020,2020,2020,2020,2020,2020,2020,2020,2020,2020,2020,2020,2020,2020,2020,2020,2020,2020,2020,2020,2020,2020,2020,2020,2020,2020,2020,2020,2020,2020,2020,2020,2020,2020,2020,2020,2020,2020,2020,2020,2020,2020,2020,2020,2020,2020,2020,2020,2020,2020,2020,2020,2020,2020,2020,2020,2020,2020,2020,2020,2020,2020,2020,2020,2020,2020,2020,2020,2020,2020,2020,2020,2020,2020,2020,2020,2020,2020,2020,2020,2020,2020,2020,2020,2020,2020,2020,2020,2020,2020,2020,2020,2020,2020,2020,2020,2020,2020,2020,2020,2020,2020,2020,2020,2020,2020,2020,2020,2020,2020,2020,2020,2020,2020,2020,2020,2020,2020,2020,2020,2020,2020,2020,2020,2020,2020,2020,2020,2020,2020,2020,2020,2020,2020,2020,2020,2020,2020,2020,2020,2020,2020,2020,2020,2020,2020,2020,2020,2020,2020,2020,2020,2020,2020,2020,2020,2020,2020,2020,2020,2020,2020,2020,2020,2020,2020,2020,2020,2020,2020,2020,2020,2020,2020,2020,2020,2020,2020,2020,2020,2020,2020,2020,2020,2020,2020,2020,2020,2020,2020,2020,2020,2020,2020,2020,2020,2020,2020,2020,2020,2020,2020,2020,2020,2020,2020,2020,2020,2020,2020,2020,2020,2020,2020,2020,2020,2020,2020,2020,2020,2021,2021,2021,2021,2021,2021,2021,2021,2021,2021,2021,2021,2021,2021,2021,2021,2021,2021,2021,2021,2021,2021,2021,2021,2021,2021,2021,2021,2021,2021,2021,2021,2021,2021,2021,2021,2021,2021,2021,2021,2021,2021,2021,2021,2021,2021,2021,2021,2021,2021,2021,2021,2021,2021,2021,2021,2021,2021,2021,2021,2021,2021,2021,2021,2021,2021,2021,2021,2021,2021,2021,2021,2021,2021,2021,2021,2021,2021,2021,2021,2021,2021,2021,2021,2021,2021,2021,2021,2021,2021,2021,2021,2021,2021,2021,2021,2021,2021,2021,2021,2021,2021,2021,2021,2021,2021,2021,2021,2021,2021,2021,2021,2021,2021,2021,2021,2021,2021,2021,2021,2021,2021,2021,2021,2021,2021,2021,2021,2021,2021,2021,2021,2021,2021,2021,2021,2021,2021,2021,2021,2021,2021,2021,2021,2021,2021,2021,2021,2021,2021,2021,2021,2021,2021,2021,2021,2021,2021,2021,2021,2021,2021,2021,2021,2021,2021,2021,2021,2021,2021,2021,2021,2021,2021,2021,2021,2021,2021,2021,2021,2021,2021,2021,2021,2021,2021,2021,2021,2021,2021,2021,2021,2021,2021,2021,2021,2021,2021,2021,2021,2021,2021,2021,2021,2021,2021,2021,2021,2021,2021,2021,2021,2021,2021,2021,2021,2021,2021,2021,2021,2021,2021,2021,2021,2021,2021,2021,2021,2021,2021,2021,2021,2021,2021,2021,2021,2021,2021,2021,2021,2021,2021,2021,2021,2021,2021,2021,2021,2021,2021,2021,2021,2021,2021,2021,2021,2021,2021,2021,2021,2021,2021,2021,2021,2021,2021,2021,2021,2021,2021,2021,2021,2021,2021,2021,2021,2021,2021,2021,2021,2021,2021,2021,2021,2021,2021,2021,2021,2021,2021,2021,2021,2021,2021,2021,2021,2021,2021,2021,2021,2021,2021,2021,2021,2021,2021,2021,2021,2021,2021,2021,2021,2021,2021,2021,2021,2021,2021,2021,2021,2021,2021,2021,2021,2021,2021,2021,2021,2021,2021,2021,2021,2021,2021,2021,2021,2021,2021,2021,2021,2021,2021,2021,2021,2021,2021,2021,2021,2021,2021,2021,2021,2021,2021,2021,2021,2021,2021,2021,2021,2021,2021,2021,2021,2021,2022,2022,2022,2022,2022,2022,2022,2022,2022,2022,2022,2022,2022,2022,2022,2022,2022,2022,2022,2022,2022,2022,2022,2022,2022,2022,2022,2022,2022,2022,2022,2022,2022,2022,2022,2022,2022,2022,2022,2022,2022,2022,2022,2022,2022,2022,2022,2022,2022,2022,2022,2022,2022,2022,2022,2022,2022,2022,2022,2022,2022,2022,2022,2022,2022,2022,2022,2022,2022,2022,2022,2022,2022,2022,2022,2022,2022,2022,2022,2022,2022,2022,2022,2022,2022,2022,2022,2022,2022,2022,2022,2022,2022,2022,2022,2022,2022,2022,2022,2022,2022,2022,2022,2022,2022,2022,2022,2022,2022,2022,2022,2022,2022,2022,2022,2022,2022,2022,2022,2022,2022,2022,2022,2022,2022,2022,2022,2022,2022,2022,2022,2022,2022,2022,2022,2022,2022,2022,2022,2022,2022,2022,2022,2022,2022,2022,2022,2022,2022,2022,2022,2022,2022,2022,2022,2022,2022,2022,2022,2022,2022,2022,2022,2022,2022,2022,2022,2022,2022,2022,2022,2022,2022,2022,2022,2022,2022,2022,2022,2022,2022,2022,2022,2022,2022,2022,2022,2022,2022,2022,2022,2022,2022,2022,2022,2022,2022,2022,2022,2022,2022,2022,2022,2022,2022,2022,2022,2022,2022,2022,2022,2022,2022,2022,2022,2022,2022,2022,2022,2022,2022,2022,2022,2022,2022,2022,2022,2022,2022,2022,2022,2022,2022,2022,2022,2022,2022,2022,2022,2022,2022,2022,2022,2022,2022,2022,2022,2022,2022,2022,2022,2022,2022,2022,2022,2022,2022,2022,2022,2022,2022,2022,2022,2022,2022,2022,2022,2022,2022,2022,2022,2022,2022,2022,2022,2022,2022,2022,2022,2022,2022,2022,2022,2022,2022,2022,2022,2022,2022,2022,2022,2022,2022,2022,2022,2022,2022,2022,2022,2022,2022,2022,2022,2022,2022,2022,2022,2022,2022,2022,2022,2022,2022,2022,2022,2022,2022,2022,2022,2022,2022,2022,2022,2022,2022,2022,2022,2022,2022,2022,2022,2022,2022,2022,2022,2022,2022,2022,2022,2022,2022,2022,2022,2022,2022,2022,2022,2022,2022,2022,2022,2022,2022,2022,2022,2022,2022,2022,2022,2022,2022,2022,2022,2022,2022,2023,2023,2023,2023,2023,2023,2023,2023,2023,2023,2023,2023,2023,2023,2023,2023,2023,2023,2023,2023,2023,2023,2023,2023,2023,2023,2023,2023,2023,2023,2023,2023,2023,2023,2023,2023,2023,2023,2023,2023,2023,2023,2023,2023,2023,2023,2023,2023,2023,2023,2023,2023,2023,2023,2023,2023,2023,2023,2023,2023,2023,2023,2023,2023,2023,2023,2023,2023,2023,2023,2023,2023,2023,2023,2023,2023,2023,2023,2023,2023,2023,2023,2023,2023,2023,2023,2023,2023,2023,2023,2023,2023,2023,2023,2023,2023,2023,2023,2023,2023,2023,2023,2023,2023,2023,2023,2023,2023,2023,2023,2023,2023,2023,2023,2023,2023,2023,2023,2023,2023,2023,2023,2023,2023,2023,2023,2023,2023,2023,2023,2023,2023,2023,2023,2023,2023,2023,2023,2023,2023,2023,2023,2023,2023,2023,2023,2023,2023,2023,2023,2023,2023,2023,2023,2023,2023,2023,2023,2023,2023,2023,2023,2023,2023,2023,2023,2023,2023,2023,2023,2023,2023,2023,2023,2023,2023,2023,2023,2023,2023,2023,2023,2023,2023,2023,2023,2023,2023,2023,2023,2023,2023],\"coloraxis\":\"coloraxis\",\"symbol\":\"circle\"},\"mode\":\"markers\",\"name\":\"\",\"showlegend\":false,\"x\":[\"2017-11-09\",\"2017-11-10\",\"2017-11-11\",\"2017-11-12\",\"2017-11-13\",\"2017-11-14\",\"2017-11-15\",\"2017-11-16\",\"2017-11-17\",\"2017-11-18\",\"2017-11-19\",\"2017-11-20\",\"2017-11-21\",\"2017-11-22\",\"2017-11-23\",\"2017-11-24\",\"2017-11-25\",\"2017-11-26\",\"2017-11-27\",\"2017-11-28\",\"2017-11-29\",\"2017-11-30\",\"2017-12-01\",\"2017-12-02\",\"2017-12-03\",\"2017-12-04\",\"2017-12-05\",\"2017-12-06\",\"2017-12-07\",\"2017-12-08\",\"2017-12-09\",\"2017-12-10\",\"2017-12-11\",\"2017-12-12\",\"2017-12-13\",\"2017-12-14\",\"2017-12-15\",\"2017-12-16\",\"2017-12-17\",\"2017-12-18\",\"2017-12-19\",\"2017-12-20\",\"2017-12-21\",\"2017-12-22\",\"2017-12-23\",\"2017-12-24\",\"2017-12-25\",\"2017-12-26\",\"2017-12-27\",\"2017-12-28\",\"2017-12-29\",\"2017-12-30\",\"2017-12-31\",\"2018-01-01\",\"2018-01-02\",\"2018-01-03\",\"2018-01-04\",\"2018-01-05\",\"2018-01-06\",\"2018-01-07\",\"2018-01-08\",\"2018-01-09\",\"2018-01-10\",\"2018-01-11\",\"2018-01-12\",\"2018-01-13\",\"2018-01-14\",\"2018-01-15\",\"2018-01-16\",\"2018-01-17\",\"2018-01-18\",\"2018-01-19\",\"2018-01-20\",\"2018-01-21\",\"2018-01-22\",\"2018-01-23\",\"2018-01-24\",\"2018-01-25\",\"2018-01-26\",\"2018-01-27\",\"2018-01-28\",\"2018-01-29\",\"2018-01-30\",\"2018-01-31\",\"2018-02-01\",\"2018-02-02\",\"2018-02-03\",\"2018-02-04\",\"2018-02-05\",\"2018-02-06\",\"2018-02-07\",\"2018-02-08\",\"2018-02-09\",\"2018-02-10\",\"2018-02-11\",\"2018-02-12\",\"2018-02-13\",\"2018-02-14\",\"2018-02-15\",\"2018-02-16\",\"2018-02-17\",\"2018-02-18\",\"2018-02-19\",\"2018-02-20\",\"2018-02-21\",\"2018-02-22\",\"2018-02-23\",\"2018-02-24\",\"2018-02-25\",\"2018-02-26\",\"2018-02-27\",\"2018-02-28\",\"2018-03-01\",\"2018-03-02\",\"2018-03-03\",\"2018-03-04\",\"2018-03-05\",\"2018-03-06\",\"2018-03-07\",\"2018-03-08\",\"2018-03-09\",\"2018-03-10\",\"2018-03-11\",\"2018-03-12\",\"2018-03-13\",\"2018-03-14\",\"2018-03-15\",\"2018-03-16\",\"2018-03-17\",\"2018-03-18\",\"2018-03-19\",\"2018-03-20\",\"2018-03-21\",\"2018-03-22\",\"2018-03-23\",\"2018-03-24\",\"2018-03-25\",\"2018-03-26\",\"2018-03-27\",\"2018-03-28\",\"2018-03-29\",\"2018-03-30\",\"2018-03-31\",\"2018-04-01\",\"2018-04-02\",\"2018-04-03\",\"2018-04-04\",\"2018-04-05\",\"2018-04-06\",\"2018-04-07\",\"2018-04-08\",\"2018-04-09\",\"2018-04-10\",\"2018-04-11\",\"2018-04-12\",\"2018-04-13\",\"2018-04-14\",\"2018-04-15\",\"2018-04-16\",\"2018-04-17\",\"2018-04-18\",\"2018-04-19\",\"2018-04-20\",\"2018-04-21\",\"2018-04-22\",\"2018-04-23\",\"2018-04-24\",\"2018-04-25\",\"2018-04-26\",\"2018-04-27\",\"2018-04-28\",\"2018-04-29\",\"2018-04-30\",\"2018-05-01\",\"2018-05-02\",\"2018-05-03\",\"2018-05-04\",\"2018-05-05\",\"2018-05-06\",\"2018-05-07\",\"2018-05-08\",\"2018-05-09\",\"2018-05-10\",\"2018-05-11\",\"2018-05-12\",\"2018-05-13\",\"2018-05-14\",\"2018-05-15\",\"2018-05-16\",\"2018-05-17\",\"2018-05-18\",\"2018-05-19\",\"2018-05-20\",\"2018-05-21\",\"2018-05-22\",\"2018-05-23\",\"2018-05-24\",\"2018-05-25\",\"2018-05-26\",\"2018-05-27\",\"2018-05-28\",\"2018-05-29\",\"2018-05-30\",\"2018-05-31\",\"2018-06-01\",\"2018-06-02\",\"2018-06-03\",\"2018-06-04\",\"2018-06-05\",\"2018-06-06\",\"2018-06-07\",\"2018-06-08\",\"2018-06-09\",\"2018-06-10\",\"2018-06-11\",\"2018-06-12\",\"2018-06-13\",\"2018-06-14\",\"2018-06-15\",\"2018-06-16\",\"2018-06-17\",\"2018-06-18\",\"2018-06-19\",\"2018-06-20\",\"2018-06-21\",\"2018-06-22\",\"2018-06-23\",\"2018-06-24\",\"2018-06-25\",\"2018-06-26\",\"2018-06-27\",\"2018-06-28\",\"2018-06-29\",\"2018-06-30\",\"2018-07-01\",\"2018-07-02\",\"2018-07-03\",\"2018-07-04\",\"2018-07-05\",\"2018-07-06\",\"2018-07-07\",\"2018-07-08\",\"2018-07-09\",\"2018-07-10\",\"2018-07-11\",\"2018-07-12\",\"2018-07-13\",\"2018-07-14\",\"2018-07-15\",\"2018-07-16\",\"2018-07-17\",\"2018-07-18\",\"2018-07-19\",\"2018-07-20\",\"2018-07-21\",\"2018-07-22\",\"2018-07-23\",\"2018-07-24\",\"2018-07-25\",\"2018-07-26\",\"2018-07-27\",\"2018-07-28\",\"2018-07-29\",\"2018-07-30\",\"2018-07-31\",\"2018-08-01\",\"2018-08-02\",\"2018-08-03\",\"2018-08-04\",\"2018-08-05\",\"2018-08-06\",\"2018-08-07\",\"2018-08-08\",\"2018-08-09\",\"2018-08-10\",\"2018-08-11\",\"2018-08-12\",\"2018-08-13\",\"2018-08-14\",\"2018-08-15\",\"2018-08-16\",\"2018-08-17\",\"2018-08-18\",\"2018-08-19\",\"2018-08-20\",\"2018-08-21\",\"2018-08-22\",\"2018-08-23\",\"2018-08-24\",\"2018-08-25\",\"2018-08-26\",\"2018-08-27\",\"2018-08-28\",\"2018-08-29\",\"2018-08-30\",\"2018-08-31\",\"2018-09-01\",\"2018-09-02\",\"2018-09-03\",\"2018-09-04\",\"2018-09-05\",\"2018-09-06\",\"2018-09-07\",\"2018-09-08\",\"2018-09-09\",\"2018-09-10\",\"2018-09-11\",\"2018-09-12\",\"2018-09-13\",\"2018-09-14\",\"2018-09-15\",\"2018-09-16\",\"2018-09-17\",\"2018-09-18\",\"2018-09-19\",\"2018-09-20\",\"2018-09-21\",\"2018-09-22\",\"2018-09-23\",\"2018-09-24\",\"2018-09-25\",\"2018-09-26\",\"2018-09-27\",\"2018-09-28\",\"2018-09-29\",\"2018-09-30\",\"2018-10-01\",\"2018-10-02\",\"2018-10-03\",\"2018-10-04\",\"2018-10-05\",\"2018-10-06\",\"2018-10-07\",\"2018-10-08\",\"2018-10-09\",\"2018-10-10\",\"2018-10-11\",\"2018-10-12\",\"2018-10-13\",\"2018-10-14\",\"2018-10-15\",\"2018-10-16\",\"2018-10-17\",\"2018-10-18\",\"2018-10-19\",\"2018-10-20\",\"2018-10-21\",\"2018-10-22\",\"2018-10-23\",\"2018-10-24\",\"2018-10-25\",\"2018-10-26\",\"2018-10-27\",\"2018-10-28\",\"2018-10-29\",\"2018-10-30\",\"2018-10-31\",\"2018-11-01\",\"2018-11-02\",\"2018-11-03\",\"2018-11-04\",\"2018-11-05\",\"2018-11-06\",\"2018-11-07\",\"2018-11-08\",\"2018-11-09\",\"2018-11-10\",\"2018-11-11\",\"2018-11-12\",\"2018-11-13\",\"2018-11-14\",\"2018-11-15\",\"2018-11-16\",\"2018-11-17\",\"2018-11-18\",\"2018-11-19\",\"2018-11-20\",\"2018-11-21\",\"2018-11-22\",\"2018-11-23\",\"2018-11-24\",\"2018-11-25\",\"2018-11-26\",\"2018-11-27\",\"2018-11-28\",\"2018-11-29\",\"2018-11-30\",\"2018-12-01\",\"2018-12-02\",\"2018-12-03\",\"2018-12-04\",\"2018-12-05\",\"2018-12-06\",\"2018-12-07\",\"2018-12-08\",\"2018-12-09\",\"2018-12-10\",\"2018-12-11\",\"2018-12-12\",\"2018-12-13\",\"2018-12-14\",\"2018-12-15\",\"2018-12-16\",\"2018-12-17\",\"2018-12-18\",\"2018-12-19\",\"2018-12-20\",\"2018-12-21\",\"2018-12-22\",\"2018-12-23\",\"2018-12-24\",\"2018-12-25\",\"2018-12-26\",\"2018-12-27\",\"2018-12-28\",\"2018-12-29\",\"2018-12-30\",\"2018-12-31\",\"2019-01-01\",\"2019-01-02\",\"2019-01-03\",\"2019-01-04\",\"2019-01-05\",\"2019-01-06\",\"2019-01-07\",\"2019-01-08\",\"2019-01-09\",\"2019-01-10\",\"2019-01-11\",\"2019-01-12\",\"2019-01-13\",\"2019-01-14\",\"2019-01-15\",\"2019-01-16\",\"2019-01-17\",\"2019-01-18\",\"2019-01-19\",\"2019-01-20\",\"2019-01-21\",\"2019-01-22\",\"2019-01-23\",\"2019-01-24\",\"2019-01-25\",\"2019-01-26\",\"2019-01-27\",\"2019-01-28\",\"2019-01-29\",\"2019-01-30\",\"2019-01-31\",\"2019-02-01\",\"2019-02-02\",\"2019-02-03\",\"2019-02-04\",\"2019-02-05\",\"2019-02-06\",\"2019-02-07\",\"2019-02-08\",\"2019-02-09\",\"2019-02-10\",\"2019-02-11\",\"2019-02-12\",\"2019-02-13\",\"2019-02-14\",\"2019-02-15\",\"2019-02-16\",\"2019-02-17\",\"2019-02-18\",\"2019-02-19\",\"2019-02-20\",\"2019-02-21\",\"2019-02-22\",\"2019-02-23\",\"2019-02-24\",\"2019-02-25\",\"2019-02-26\",\"2019-02-27\",\"2019-02-28\",\"2019-03-01\",\"2019-03-02\",\"2019-03-03\",\"2019-03-04\",\"2019-03-05\",\"2019-03-06\",\"2019-03-07\",\"2019-03-08\",\"2019-03-09\",\"2019-03-10\",\"2019-03-11\",\"2019-03-12\",\"2019-03-13\",\"2019-03-14\",\"2019-03-15\",\"2019-03-16\",\"2019-03-17\",\"2019-03-18\",\"2019-03-19\",\"2019-03-20\",\"2019-03-21\",\"2019-03-22\",\"2019-03-23\",\"2019-03-24\",\"2019-03-25\",\"2019-03-26\",\"2019-03-27\",\"2019-03-28\",\"2019-03-29\",\"2019-03-30\",\"2019-03-31\",\"2019-04-01\",\"2019-04-02\",\"2019-04-03\",\"2019-04-04\",\"2019-04-05\",\"2019-04-06\",\"2019-04-07\",\"2019-04-08\",\"2019-04-09\",\"2019-04-10\",\"2019-04-11\",\"2019-04-12\",\"2019-04-13\",\"2019-04-14\",\"2019-04-15\",\"2019-04-16\",\"2019-04-17\",\"2019-04-18\",\"2019-04-19\",\"2019-04-20\",\"2019-04-21\",\"2019-04-22\",\"2019-04-23\",\"2019-04-24\",\"2019-04-25\",\"2019-04-26\",\"2019-04-27\",\"2019-04-28\",\"2019-04-29\",\"2019-04-30\",\"2019-05-01\",\"2019-05-02\",\"2019-05-03\",\"2019-05-04\",\"2019-05-05\",\"2019-05-06\",\"2019-05-07\",\"2019-05-08\",\"2019-05-09\",\"2019-05-10\",\"2019-05-11\",\"2019-05-12\",\"2019-05-13\",\"2019-05-14\",\"2019-05-15\",\"2019-05-16\",\"2019-05-17\",\"2019-05-18\",\"2019-05-19\",\"2019-05-20\",\"2019-05-21\",\"2019-05-22\",\"2019-05-23\",\"2019-05-24\",\"2019-05-25\",\"2019-05-26\",\"2019-05-27\",\"2019-05-28\",\"2019-05-29\",\"2019-05-30\",\"2019-05-31\",\"2019-06-01\",\"2019-06-02\",\"2019-06-03\",\"2019-06-04\",\"2019-06-05\",\"2019-06-06\",\"2019-06-07\",\"2019-06-08\",\"2019-06-09\",\"2019-06-10\",\"2019-06-11\",\"2019-06-12\",\"2019-06-13\",\"2019-06-14\",\"2019-06-15\",\"2019-06-16\",\"2019-06-17\",\"2019-06-18\",\"2019-06-19\",\"2019-06-20\",\"2019-06-21\",\"2019-06-22\",\"2019-06-23\",\"2019-06-24\",\"2019-06-25\",\"2019-06-26\",\"2019-06-27\",\"2019-06-28\",\"2019-06-29\",\"2019-06-30\",\"2019-07-01\",\"2019-07-02\",\"2019-07-03\",\"2019-07-04\",\"2019-07-05\",\"2019-07-06\",\"2019-07-07\",\"2019-07-08\",\"2019-07-09\",\"2019-07-10\",\"2019-07-11\",\"2019-07-12\",\"2019-07-13\",\"2019-07-14\",\"2019-07-15\",\"2019-07-16\",\"2019-07-17\",\"2019-07-18\",\"2019-07-19\",\"2019-07-20\",\"2019-07-21\",\"2019-07-22\",\"2019-07-23\",\"2019-07-24\",\"2019-07-25\",\"2019-07-26\",\"2019-07-27\",\"2019-07-28\",\"2019-07-29\",\"2019-07-30\",\"2019-07-31\",\"2019-08-01\",\"2019-08-02\",\"2019-08-03\",\"2019-08-04\",\"2019-08-05\",\"2019-08-06\",\"2019-08-07\",\"2019-08-08\",\"2019-08-09\",\"2019-08-10\",\"2019-08-11\",\"2019-08-12\",\"2019-08-13\",\"2019-08-14\",\"2019-08-15\",\"2019-08-16\",\"2019-08-17\",\"2019-08-18\",\"2019-08-19\",\"2019-08-20\",\"2019-08-21\",\"2019-08-22\",\"2019-08-23\",\"2019-08-24\",\"2019-08-25\",\"2019-08-26\",\"2019-08-27\",\"2019-08-28\",\"2019-08-29\",\"2019-08-30\",\"2019-08-31\",\"2019-09-01\",\"2019-09-02\",\"2019-09-03\",\"2019-09-04\",\"2019-09-05\",\"2019-09-06\",\"2019-09-07\",\"2019-09-08\",\"2019-09-09\",\"2019-09-10\",\"2019-09-11\",\"2019-09-12\",\"2019-09-13\",\"2019-09-14\",\"2019-09-15\",\"2019-09-16\",\"2019-09-17\",\"2019-09-18\",\"2019-09-19\",\"2019-09-20\",\"2019-09-21\",\"2019-09-22\",\"2019-09-23\",\"2019-09-24\",\"2019-09-25\",\"2019-09-26\",\"2019-09-27\",\"2019-09-28\",\"2019-09-29\",\"2019-09-30\",\"2019-10-01\",\"2019-10-02\",\"2019-10-03\",\"2019-10-04\",\"2019-10-05\",\"2019-10-06\",\"2019-10-07\",\"2019-10-08\",\"2019-10-09\",\"2019-10-10\",\"2019-10-11\",\"2019-10-12\",\"2019-10-13\",\"2019-10-14\",\"2019-10-15\",\"2019-10-16\",\"2019-10-17\",\"2019-10-18\",\"2019-10-19\",\"2019-10-20\",\"2019-10-21\",\"2019-10-22\",\"2019-10-23\",\"2019-10-24\",\"2019-10-25\",\"2019-10-26\",\"2019-10-27\",\"2019-10-28\",\"2019-10-29\",\"2019-10-30\",\"2019-10-31\",\"2019-11-01\",\"2019-11-02\",\"2019-11-03\",\"2019-11-04\",\"2019-11-05\",\"2019-11-06\",\"2019-11-07\",\"2019-11-08\",\"2019-11-09\",\"2019-11-10\",\"2019-11-11\",\"2019-11-12\",\"2019-11-13\",\"2019-11-14\",\"2019-11-15\",\"2019-11-16\",\"2019-11-17\",\"2019-11-18\",\"2019-11-19\",\"2019-11-20\",\"2019-11-21\",\"2019-11-22\",\"2019-11-23\",\"2019-11-24\",\"2019-11-25\",\"2019-11-26\",\"2019-11-27\",\"2019-11-28\",\"2019-11-29\",\"2019-11-30\",\"2019-12-01\",\"2019-12-02\",\"2019-12-03\",\"2019-12-04\",\"2019-12-05\",\"2019-12-06\",\"2019-12-07\",\"2019-12-08\",\"2019-12-09\",\"2019-12-10\",\"2019-12-11\",\"2019-12-12\",\"2019-12-13\",\"2019-12-14\",\"2019-12-15\",\"2019-12-16\",\"2019-12-17\",\"2019-12-18\",\"2019-12-19\",\"2019-12-20\",\"2019-12-21\",\"2019-12-22\",\"2019-12-23\",\"2019-12-24\",\"2019-12-25\",\"2019-12-26\",\"2019-12-27\",\"2019-12-28\",\"2019-12-29\",\"2019-12-30\",\"2019-12-31\",\"2020-01-01\",\"2020-01-02\",\"2020-01-03\",\"2020-01-04\",\"2020-01-05\",\"2020-01-06\",\"2020-01-07\",\"2020-01-08\",\"2020-01-09\",\"2020-01-10\",\"2020-01-11\",\"2020-01-12\",\"2020-01-13\",\"2020-01-14\",\"2020-01-15\",\"2020-01-16\",\"2020-01-17\",\"2020-01-18\",\"2020-01-19\",\"2020-01-20\",\"2020-01-21\",\"2020-01-22\",\"2020-01-23\",\"2020-01-24\",\"2020-01-25\",\"2020-01-26\",\"2020-01-27\",\"2020-01-28\",\"2020-01-29\",\"2020-01-30\",\"2020-01-31\",\"2020-02-01\",\"2020-02-02\",\"2020-02-03\",\"2020-02-04\",\"2020-02-05\",\"2020-02-06\",\"2020-02-07\",\"2020-02-08\",\"2020-02-09\",\"2020-02-10\",\"2020-02-11\",\"2020-02-12\",\"2020-02-13\",\"2020-02-14\",\"2020-02-15\",\"2020-02-16\",\"2020-02-17\",\"2020-02-18\",\"2020-02-19\",\"2020-02-20\",\"2020-02-21\",\"2020-02-22\",\"2020-02-23\",\"2020-02-24\",\"2020-02-25\",\"2020-02-26\",\"2020-02-27\",\"2020-02-28\",\"2020-02-29\",\"2020-03-01\",\"2020-03-02\",\"2020-03-03\",\"2020-03-04\",\"2020-03-05\",\"2020-03-06\",\"2020-03-07\",\"2020-03-08\",\"2020-03-09\",\"2020-03-10\",\"2020-03-11\",\"2020-03-12\",\"2020-03-13\",\"2020-03-14\",\"2020-03-15\",\"2020-03-16\",\"2020-03-17\",\"2020-03-18\",\"2020-03-19\",\"2020-03-20\",\"2020-03-21\",\"2020-03-22\",\"2020-03-23\",\"2020-03-24\",\"2020-03-25\",\"2020-03-26\",\"2020-03-27\",\"2020-03-28\",\"2020-03-29\",\"2020-03-30\",\"2020-03-31\",\"2020-04-01\",\"2020-04-02\",\"2020-04-03\",\"2020-04-04\",\"2020-04-05\",\"2020-04-06\",\"2020-04-07\",\"2020-04-08\",\"2020-04-09\",\"2020-04-10\",\"2020-04-11\",\"2020-04-12\",\"2020-04-13\",\"2020-04-14\",\"2020-04-15\",\"2020-04-16\",\"2020-04-17\",\"2020-04-18\",\"2020-04-19\",\"2020-04-20\",\"2020-04-21\",\"2020-04-22\",\"2020-04-23\",\"2020-04-24\",\"2020-04-25\",\"2020-04-26\",\"2020-04-27\",\"2020-04-28\",\"2020-04-29\",\"2020-04-30\",\"2020-05-01\",\"2020-05-02\",\"2020-05-03\",\"2020-05-04\",\"2020-05-05\",\"2020-05-06\",\"2020-05-07\",\"2020-05-08\",\"2020-05-09\",\"2020-05-10\",\"2020-05-11\",\"2020-05-12\",\"2020-05-13\",\"2020-05-14\",\"2020-05-15\",\"2020-05-16\",\"2020-05-17\",\"2020-05-18\",\"2020-05-19\",\"2020-05-20\",\"2020-05-21\",\"2020-05-22\",\"2020-05-23\",\"2020-05-24\",\"2020-05-25\",\"2020-05-26\",\"2020-05-27\",\"2020-05-28\",\"2020-05-29\",\"2020-05-30\",\"2020-05-31\",\"2020-06-01\",\"2020-06-02\",\"2020-06-03\",\"2020-06-04\",\"2020-06-05\",\"2020-06-06\",\"2020-06-07\",\"2020-06-08\",\"2020-06-09\",\"2020-06-10\",\"2020-06-11\",\"2020-06-12\",\"2020-06-13\",\"2020-06-14\",\"2020-06-15\",\"2020-06-16\",\"2020-06-17\",\"2020-06-18\",\"2020-06-19\",\"2020-06-20\",\"2020-06-21\",\"2020-06-22\",\"2020-06-23\",\"2020-06-24\",\"2020-06-25\",\"2020-06-26\",\"2020-06-27\",\"2020-06-28\",\"2020-06-29\",\"2020-06-30\",\"2020-07-01\",\"2020-07-02\",\"2020-07-03\",\"2020-07-04\",\"2020-07-05\",\"2020-07-06\",\"2020-07-07\",\"2020-07-08\",\"2020-07-09\",\"2020-07-10\",\"2020-07-11\",\"2020-07-12\",\"2020-07-13\",\"2020-07-14\",\"2020-07-15\",\"2020-07-16\",\"2020-07-17\",\"2020-07-18\",\"2020-07-19\",\"2020-07-20\",\"2020-07-21\",\"2020-07-22\",\"2020-07-23\",\"2020-07-24\",\"2020-07-25\",\"2020-07-26\",\"2020-07-27\",\"2020-07-28\",\"2020-07-29\",\"2020-07-30\",\"2020-07-31\",\"2020-08-01\",\"2020-08-02\",\"2020-08-03\",\"2020-08-04\",\"2020-08-05\",\"2020-08-06\",\"2020-08-07\",\"2020-08-08\",\"2020-08-09\",\"2020-08-10\",\"2020-08-11\",\"2020-08-12\",\"2020-08-13\",\"2020-08-14\",\"2020-08-15\",\"2020-08-16\",\"2020-08-17\",\"2020-08-18\",\"2020-08-19\",\"2020-08-20\",\"2020-08-21\",\"2020-08-22\",\"2020-08-23\",\"2020-08-24\",\"2020-08-25\",\"2020-08-26\",\"2020-08-27\",\"2020-08-28\",\"2020-08-29\",\"2020-08-30\",\"2020-08-31\",\"2020-09-01\",\"2020-09-02\",\"2020-09-03\",\"2020-09-04\",\"2020-09-05\",\"2020-09-06\",\"2020-09-07\",\"2020-09-08\",\"2020-09-09\",\"2020-09-10\",\"2020-09-11\",\"2020-09-12\",\"2020-09-13\",\"2020-09-14\",\"2020-09-15\",\"2020-09-16\",\"2020-09-17\",\"2020-09-18\",\"2020-09-19\",\"2020-09-20\",\"2020-09-21\",\"2020-09-22\",\"2020-09-23\",\"2020-09-24\",\"2020-09-25\",\"2020-09-26\",\"2020-09-27\",\"2020-09-28\",\"2020-09-29\",\"2020-09-30\",\"2020-10-01\",\"2020-10-02\",\"2020-10-03\",\"2020-10-04\",\"2020-10-05\",\"2020-10-06\",\"2020-10-07\",\"2020-10-08\",\"2020-10-09\",\"2020-10-10\",\"2020-10-11\",\"2020-10-12\",\"2020-10-13\",\"2020-10-14\",\"2020-10-15\",\"2020-10-16\",\"2020-10-17\",\"2020-10-18\",\"2020-10-19\",\"2020-10-20\",\"2020-10-21\",\"2020-10-22\",\"2020-10-23\",\"2020-10-24\",\"2020-10-25\",\"2020-10-26\",\"2020-10-27\",\"2020-10-28\",\"2020-10-29\",\"2020-10-30\",\"2020-10-31\",\"2020-11-01\",\"2020-11-02\",\"2020-11-03\",\"2020-11-04\",\"2020-11-05\",\"2020-11-06\",\"2020-11-07\",\"2020-11-08\",\"2020-11-09\",\"2020-11-10\",\"2020-11-11\",\"2020-11-12\",\"2020-11-13\",\"2020-11-14\",\"2020-11-15\",\"2020-11-16\",\"2020-11-17\",\"2020-11-18\",\"2020-11-19\",\"2020-11-20\",\"2020-11-21\",\"2020-11-22\",\"2020-11-23\",\"2020-11-24\",\"2020-11-25\",\"2020-11-26\",\"2020-11-27\",\"2020-11-28\",\"2020-11-29\",\"2020-11-30\",\"2020-12-01\",\"2020-12-02\",\"2020-12-03\",\"2020-12-04\",\"2020-12-05\",\"2020-12-06\",\"2020-12-07\",\"2020-12-08\",\"2020-12-09\",\"2020-12-10\",\"2020-12-11\",\"2020-12-12\",\"2020-12-13\",\"2020-12-14\",\"2020-12-15\",\"2020-12-16\",\"2020-12-17\",\"2020-12-18\",\"2020-12-19\",\"2020-12-20\",\"2020-12-21\",\"2020-12-22\",\"2020-12-23\",\"2020-12-24\",\"2020-12-25\",\"2020-12-26\",\"2020-12-27\",\"2020-12-28\",\"2020-12-29\",\"2020-12-30\",\"2020-12-31\",\"2021-01-01\",\"2021-01-02\",\"2021-01-03\",\"2021-01-04\",\"2021-01-05\",\"2021-01-06\",\"2021-01-07\",\"2021-01-08\",\"2021-01-09\",\"2021-01-10\",\"2021-01-11\",\"2021-01-12\",\"2021-01-13\",\"2021-01-14\",\"2021-01-15\",\"2021-01-16\",\"2021-01-17\",\"2021-01-18\",\"2021-01-19\",\"2021-01-20\",\"2021-01-21\",\"2021-01-22\",\"2021-01-23\",\"2021-01-24\",\"2021-01-25\",\"2021-01-26\",\"2021-01-27\",\"2021-01-28\",\"2021-01-29\",\"2021-01-30\",\"2021-01-31\",\"2021-02-01\",\"2021-02-02\",\"2021-02-03\",\"2021-02-04\",\"2021-02-05\",\"2021-02-06\",\"2021-02-07\",\"2021-02-08\",\"2021-02-09\",\"2021-02-10\",\"2021-02-11\",\"2021-02-12\",\"2021-02-13\",\"2021-02-14\",\"2021-02-15\",\"2021-02-16\",\"2021-02-17\",\"2021-02-18\",\"2021-02-19\",\"2021-02-20\",\"2021-02-21\",\"2021-02-22\",\"2021-02-23\",\"2021-02-24\",\"2021-02-25\",\"2021-02-26\",\"2021-02-27\",\"2021-02-28\",\"2021-03-01\",\"2021-03-02\",\"2021-03-03\",\"2021-03-04\",\"2021-03-05\",\"2021-03-06\",\"2021-03-07\",\"2021-03-08\",\"2021-03-09\",\"2021-03-10\",\"2021-03-11\",\"2021-03-12\",\"2021-03-13\",\"2021-03-14\",\"2021-03-15\",\"2021-03-16\",\"2021-03-17\",\"2021-03-18\",\"2021-03-19\",\"2021-03-20\",\"2021-03-21\",\"2021-03-22\",\"2021-03-23\",\"2021-03-24\",\"2021-03-25\",\"2021-03-26\",\"2021-03-27\",\"2021-03-28\",\"2021-03-29\",\"2021-03-30\",\"2021-03-31\",\"2021-04-01\",\"2021-04-02\",\"2021-04-03\",\"2021-04-04\",\"2021-04-05\",\"2021-04-06\",\"2021-04-07\",\"2021-04-08\",\"2021-04-09\",\"2021-04-10\",\"2021-04-11\",\"2021-04-12\",\"2021-04-13\",\"2021-04-14\",\"2021-04-15\",\"2021-04-16\",\"2021-04-17\",\"2021-04-18\",\"2021-04-19\",\"2021-04-20\",\"2021-04-21\",\"2021-04-22\",\"2021-04-23\",\"2021-04-24\",\"2021-04-25\",\"2021-04-26\",\"2021-04-27\",\"2021-04-28\",\"2021-04-29\",\"2021-04-30\",\"2021-05-01\",\"2021-05-02\",\"2021-05-03\",\"2021-05-04\",\"2021-05-05\",\"2021-05-06\",\"2021-05-07\",\"2021-05-08\",\"2021-05-09\",\"2021-05-10\",\"2021-05-11\",\"2021-05-12\",\"2021-05-13\",\"2021-05-14\",\"2021-05-15\",\"2021-05-16\",\"2021-05-17\",\"2021-05-18\",\"2021-05-19\",\"2021-05-20\",\"2021-05-21\",\"2021-05-22\",\"2021-05-23\",\"2021-05-24\",\"2021-05-25\",\"2021-05-26\",\"2021-05-27\",\"2021-05-28\",\"2021-05-29\",\"2021-05-30\",\"2021-05-31\",\"2021-06-01\",\"2021-06-02\",\"2021-06-03\",\"2021-06-04\",\"2021-06-05\",\"2021-06-06\",\"2021-06-07\",\"2021-06-08\",\"2021-06-09\",\"2021-06-10\",\"2021-06-11\",\"2021-06-12\",\"2021-06-13\",\"2021-06-14\",\"2021-06-15\",\"2021-06-16\",\"2021-06-17\",\"2021-06-18\",\"2021-06-19\",\"2021-06-20\",\"2021-06-21\",\"2021-06-22\",\"2021-06-23\",\"2021-06-24\",\"2021-06-25\",\"2021-06-26\",\"2021-06-27\",\"2021-06-28\",\"2021-06-29\",\"2021-06-30\",\"2021-07-01\",\"2021-07-02\",\"2021-07-03\",\"2021-07-04\",\"2021-07-05\",\"2021-07-06\",\"2021-07-07\",\"2021-07-08\",\"2021-07-09\",\"2021-07-10\",\"2021-07-11\",\"2021-07-12\",\"2021-07-13\",\"2021-07-14\",\"2021-07-15\",\"2021-07-16\",\"2021-07-17\",\"2021-07-18\",\"2021-07-19\",\"2021-07-20\",\"2021-07-21\",\"2021-07-22\",\"2021-07-23\",\"2021-07-24\",\"2021-07-25\",\"2021-07-26\",\"2021-07-27\",\"2021-07-28\",\"2021-07-29\",\"2021-07-30\",\"2021-07-31\",\"2021-08-01\",\"2021-08-02\",\"2021-08-03\",\"2021-08-04\",\"2021-08-05\",\"2021-08-06\",\"2021-08-07\",\"2021-08-08\",\"2021-08-09\",\"2021-08-10\",\"2021-08-11\",\"2021-08-12\",\"2021-08-13\",\"2021-08-14\",\"2021-08-15\",\"2021-08-16\",\"2021-08-17\",\"2021-08-18\",\"2021-08-19\",\"2021-08-20\",\"2021-08-21\",\"2021-08-22\",\"2021-08-23\",\"2021-08-24\",\"2021-08-25\",\"2021-08-26\",\"2021-08-27\",\"2021-08-28\",\"2021-08-29\",\"2021-08-30\",\"2021-08-31\",\"2021-09-01\",\"2021-09-02\",\"2021-09-03\",\"2021-09-04\",\"2021-09-05\",\"2021-09-06\",\"2021-09-07\",\"2021-09-08\",\"2021-09-09\",\"2021-09-10\",\"2021-09-11\",\"2021-09-12\",\"2021-09-13\",\"2021-09-14\",\"2021-09-15\",\"2021-09-16\",\"2021-09-17\",\"2021-09-18\",\"2021-09-19\",\"2021-09-20\",\"2021-09-21\",\"2021-09-22\",\"2021-09-23\",\"2021-09-24\",\"2021-09-25\",\"2021-09-26\",\"2021-09-27\",\"2021-09-28\",\"2021-09-29\",\"2021-09-30\",\"2021-10-01\",\"2021-10-02\",\"2021-10-03\",\"2021-10-04\",\"2021-10-05\",\"2021-10-06\",\"2021-10-07\",\"2021-10-08\",\"2021-10-09\",\"2021-10-10\",\"2021-10-11\",\"2021-10-12\",\"2021-10-13\",\"2021-10-14\",\"2021-10-15\",\"2021-10-16\",\"2021-10-17\",\"2021-10-18\",\"2021-10-19\",\"2021-10-20\",\"2021-10-21\",\"2021-10-22\",\"2021-10-23\",\"2021-10-24\",\"2021-10-25\",\"2021-10-26\",\"2021-10-27\",\"2021-10-28\",\"2021-10-29\",\"2021-10-30\",\"2021-10-31\",\"2021-11-01\",\"2021-11-02\",\"2021-11-03\",\"2021-11-04\",\"2021-11-05\",\"2021-11-06\",\"2021-11-07\",\"2021-11-08\",\"2021-11-09\",\"2021-11-10\",\"2021-11-11\",\"2021-11-12\",\"2021-11-13\",\"2021-11-14\",\"2021-11-15\",\"2021-11-16\",\"2021-11-17\",\"2021-11-18\",\"2021-11-19\",\"2021-11-20\",\"2021-11-21\",\"2021-11-22\",\"2021-11-23\",\"2021-11-24\",\"2021-11-25\",\"2021-11-26\",\"2021-11-27\",\"2021-11-28\",\"2021-11-29\",\"2021-11-30\",\"2021-12-01\",\"2021-12-02\",\"2021-12-03\",\"2021-12-04\",\"2021-12-05\",\"2021-12-06\",\"2021-12-07\",\"2021-12-08\",\"2021-12-09\",\"2021-12-10\",\"2021-12-11\",\"2021-12-12\",\"2021-12-13\",\"2021-12-14\",\"2021-12-15\",\"2021-12-16\",\"2021-12-17\",\"2021-12-18\",\"2021-12-19\",\"2021-12-20\",\"2021-12-21\",\"2021-12-22\",\"2021-12-23\",\"2021-12-24\",\"2021-12-25\",\"2021-12-26\",\"2021-12-27\",\"2021-12-28\",\"2021-12-29\",\"2021-12-30\",\"2021-12-31\",\"2022-01-01\",\"2022-01-02\",\"2022-01-03\",\"2022-01-04\",\"2022-01-05\",\"2022-01-06\",\"2022-01-07\",\"2022-01-08\",\"2022-01-09\",\"2022-01-10\",\"2022-01-11\",\"2022-01-12\",\"2022-01-13\",\"2022-01-14\",\"2022-01-15\",\"2022-01-16\",\"2022-01-17\",\"2022-01-18\",\"2022-01-19\",\"2022-01-20\",\"2022-01-21\",\"2022-01-22\",\"2022-01-23\",\"2022-01-24\",\"2022-01-25\",\"2022-01-26\",\"2022-01-27\",\"2022-01-28\",\"2022-01-29\",\"2022-01-30\",\"2022-01-31\",\"2022-02-01\",\"2022-02-02\",\"2022-02-03\",\"2022-02-04\",\"2022-02-05\",\"2022-02-06\",\"2022-02-07\",\"2022-02-08\",\"2022-02-09\",\"2022-02-10\",\"2022-02-11\",\"2022-02-12\",\"2022-02-13\",\"2022-02-14\",\"2022-02-15\",\"2022-02-16\",\"2022-02-17\",\"2022-02-18\",\"2022-02-19\",\"2022-02-20\",\"2022-02-21\",\"2022-02-22\",\"2022-02-23\",\"2022-02-24\",\"2022-02-25\",\"2022-02-26\",\"2022-02-27\",\"2022-02-28\",\"2022-03-01\",\"2022-03-02\",\"2022-03-03\",\"2022-03-04\",\"2022-03-05\",\"2022-03-06\",\"2022-03-07\",\"2022-03-08\",\"2022-03-09\",\"2022-03-10\",\"2022-03-11\",\"2022-03-12\",\"2022-03-13\",\"2022-03-14\",\"2022-03-15\",\"2022-03-16\",\"2022-03-17\",\"2022-03-18\",\"2022-03-19\",\"2022-03-20\",\"2022-03-21\",\"2022-03-22\",\"2022-03-23\",\"2022-03-24\",\"2022-03-25\",\"2022-03-26\",\"2022-03-27\",\"2022-03-28\",\"2022-03-29\",\"2022-03-30\",\"2022-03-31\",\"2022-04-01\",\"2022-04-02\",\"2022-04-03\",\"2022-04-04\",\"2022-04-05\",\"2022-04-06\",\"2022-04-07\",\"2022-04-08\",\"2022-04-09\",\"2022-04-10\",\"2022-04-11\",\"2022-04-12\",\"2022-04-13\",\"2022-04-14\",\"2022-04-15\",\"2022-04-16\",\"2022-04-17\",\"2022-04-18\",\"2022-04-19\",\"2022-04-20\",\"2022-04-21\",\"2022-04-22\",\"2022-04-23\",\"2022-04-24\",\"2022-04-25\",\"2022-04-26\",\"2022-04-27\",\"2022-04-28\",\"2022-04-29\",\"2022-04-30\",\"2022-05-01\",\"2022-05-02\",\"2022-05-03\",\"2022-05-04\",\"2022-05-05\",\"2022-05-06\",\"2022-05-07\",\"2022-05-08\",\"2022-05-09\",\"2022-05-10\",\"2022-05-11\",\"2022-05-12\",\"2022-05-13\",\"2022-05-14\",\"2022-05-15\",\"2022-05-16\",\"2022-05-17\",\"2022-05-18\",\"2022-05-19\",\"2022-05-20\",\"2022-05-21\",\"2022-05-22\",\"2022-05-23\",\"2022-05-24\",\"2022-05-25\",\"2022-05-26\",\"2022-05-27\",\"2022-05-28\",\"2022-05-29\",\"2022-05-30\",\"2022-05-31\",\"2022-06-01\",\"2022-06-02\",\"2022-06-03\",\"2022-06-04\",\"2022-06-05\",\"2022-06-06\",\"2022-06-07\",\"2022-06-08\",\"2022-06-09\",\"2022-06-10\",\"2022-06-11\",\"2022-06-12\",\"2022-06-13\",\"2022-06-14\",\"2022-06-15\",\"2022-06-16\",\"2022-06-17\",\"2022-06-18\",\"2022-06-19\",\"2022-06-20\",\"2022-06-21\",\"2022-06-22\",\"2022-06-23\",\"2022-06-24\",\"2022-06-25\",\"2022-06-26\",\"2022-06-27\",\"2022-06-28\",\"2022-06-29\",\"2022-06-30\",\"2022-07-01\",\"2022-07-02\",\"2022-07-03\",\"2022-07-04\",\"2022-07-05\",\"2022-07-06\",\"2022-07-07\",\"2022-07-08\",\"2022-07-09\",\"2022-07-10\",\"2022-07-11\",\"2022-07-12\",\"2022-07-13\",\"2022-07-14\",\"2022-07-15\",\"2022-07-16\",\"2022-07-17\",\"2022-07-18\",\"2022-07-19\",\"2022-07-20\",\"2022-07-21\",\"2022-07-22\",\"2022-07-23\",\"2022-07-24\",\"2022-07-25\",\"2022-07-26\",\"2022-07-27\",\"2022-07-28\",\"2022-07-29\",\"2022-07-30\",\"2022-07-31\",\"2022-08-01\",\"2022-08-02\",\"2022-08-03\",\"2022-08-04\",\"2022-08-05\",\"2022-08-06\",\"2022-08-07\",\"2022-08-08\",\"2022-08-09\",\"2022-08-10\",\"2022-08-11\",\"2022-08-12\",\"2022-08-13\",\"2022-08-14\",\"2022-08-15\",\"2022-08-16\",\"2022-08-17\",\"2022-08-18\",\"2022-08-19\",\"2022-08-20\",\"2022-08-21\",\"2022-08-22\",\"2022-08-23\",\"2022-08-24\",\"2022-08-25\",\"2022-08-26\",\"2022-08-27\",\"2022-08-28\",\"2022-08-29\",\"2022-08-30\",\"2022-08-31\",\"2022-09-01\",\"2022-09-02\",\"2022-09-03\",\"2022-09-04\",\"2022-09-05\",\"2022-09-06\",\"2022-09-07\",\"2022-09-08\",\"2022-09-09\",\"2022-09-10\",\"2022-09-11\",\"2022-09-12\",\"2022-09-13\",\"2022-09-14\",\"2022-09-15\",\"2022-09-16\",\"2022-09-17\",\"2022-09-18\",\"2022-09-19\",\"2022-09-20\",\"2022-09-21\",\"2022-09-22\",\"2022-09-23\",\"2022-09-24\",\"2022-09-25\",\"2022-09-26\",\"2022-09-27\",\"2022-09-28\",\"2022-09-29\",\"2022-09-30\",\"2022-10-01\",\"2022-10-02\",\"2022-10-03\",\"2022-10-04\",\"2022-10-05\",\"2022-10-06\",\"2022-10-07\",\"2022-10-08\",\"2022-10-09\",\"2022-10-10\",\"2022-10-11\",\"2022-10-12\",\"2022-10-13\",\"2022-10-14\",\"2022-10-15\",\"2022-10-16\",\"2022-10-17\",\"2022-10-18\",\"2022-10-19\",\"2022-10-20\",\"2022-10-21\",\"2022-10-22\",\"2022-10-23\",\"2022-10-24\",\"2022-10-25\",\"2022-10-26\",\"2022-10-27\",\"2022-10-28\",\"2022-10-29\",\"2022-10-30\",\"2022-10-31\",\"2022-11-01\",\"2022-11-02\",\"2022-11-03\",\"2022-11-04\",\"2022-11-05\",\"2022-11-06\",\"2022-11-07\",\"2022-11-08\",\"2022-11-09\",\"2022-11-10\",\"2022-11-11\",\"2022-11-12\",\"2022-11-13\",\"2022-11-14\",\"2022-11-15\",\"2022-11-16\",\"2022-11-17\",\"2022-11-18\",\"2022-11-19\",\"2022-11-20\",\"2022-11-21\",\"2022-11-22\",\"2022-11-23\",\"2022-11-24\",\"2022-11-25\",\"2022-11-26\",\"2022-11-27\",\"2022-11-28\",\"2022-11-29\",\"2022-11-30\",\"2022-12-01\",\"2022-12-02\",\"2022-12-03\",\"2022-12-04\",\"2022-12-05\",\"2022-12-06\",\"2022-12-07\",\"2022-12-08\",\"2022-12-09\",\"2022-12-10\",\"2022-12-11\",\"2022-12-12\",\"2022-12-13\",\"2022-12-14\",\"2022-12-15\",\"2022-12-16\",\"2022-12-17\",\"2022-12-18\",\"2022-12-19\",\"2022-12-20\",\"2022-12-21\",\"2022-12-22\",\"2022-12-23\",\"2022-12-24\",\"2022-12-25\",\"2022-12-26\",\"2022-12-27\",\"2022-12-28\",\"2022-12-29\",\"2022-12-30\",\"2022-12-31\",\"2023-01-01\",\"2023-01-02\",\"2023-01-03\",\"2023-01-04\",\"2023-01-05\",\"2023-01-06\",\"2023-01-07\",\"2023-01-08\",\"2023-01-09\",\"2023-01-10\",\"2023-01-11\",\"2023-01-12\",\"2023-01-13\",\"2023-01-14\",\"2023-01-15\",\"2023-01-16\",\"2023-01-17\",\"2023-01-18\",\"2023-01-19\",\"2023-01-20\",\"2023-01-21\",\"2023-01-22\",\"2023-01-23\",\"2023-01-24\",\"2023-01-25\",\"2023-01-26\",\"2023-01-27\",\"2023-01-28\",\"2023-01-29\",\"2023-01-30\",\"2023-01-31\",\"2023-02-01\",\"2023-02-02\",\"2023-02-03\",\"2023-02-04\",\"2023-02-05\",\"2023-02-06\",\"2023-02-07\",\"2023-02-08\",\"2023-02-09\",\"2023-02-10\",\"2023-02-11\",\"2023-02-12\",\"2023-02-13\",\"2023-02-14\",\"2023-02-15\",\"2023-02-16\",\"2023-02-17\",\"2023-02-18\",\"2023-02-19\",\"2023-02-20\",\"2023-02-21\",\"2023-02-22\",\"2023-02-23\",\"2023-02-24\",\"2023-02-25\",\"2023-02-26\",\"2023-02-27\",\"2023-02-28\",\"2023-03-01\",\"2023-03-02\",\"2023-03-03\",\"2023-03-04\",\"2023-03-05\",\"2023-03-06\",\"2023-03-07\",\"2023-03-08\",\"2023-03-09\",\"2023-03-10\",\"2023-03-11\",\"2023-03-12\",\"2023-03-13\",\"2023-03-14\",\"2023-03-15\",\"2023-03-16\",\"2023-03-17\",\"2023-03-18\",\"2023-03-19\",\"2023-03-20\",\"2023-03-21\",\"2023-03-22\",\"2023-03-23\",\"2023-03-24\",\"2023-03-25\",\"2023-03-26\",\"2023-03-27\",\"2023-03-28\",\"2023-03-29\",\"2023-03-30\",\"2023-03-31\",\"2023-04-01\",\"2023-04-02\",\"2023-04-03\",\"2023-04-04\",\"2023-04-05\",\"2023-04-06\",\"2023-04-07\",\"2023-04-08\",\"2023-04-09\",\"2023-04-10\",\"2023-04-11\",\"2023-04-12\",\"2023-04-13\",\"2023-04-14\",\"2023-04-15\",\"2023-04-16\",\"2023-04-17\",\"2023-04-18\",\"2023-04-19\",\"2023-04-20\",\"2023-04-21\",\"2023-04-22\",\"2023-04-23\",\"2023-04-24\",\"2023-04-25\",\"2023-04-26\",\"2023-04-27\",\"2023-04-28\",\"2023-04-29\",\"2023-04-30\",\"2023-05-01\",\"2023-05-02\",\"2023-05-03\",\"2023-05-04\",\"2023-05-05\",\"2023-05-06\",\"2023-05-07\",\"2023-05-08\",\"2023-05-09\",\"2023-05-10\",\"2023-05-11\",\"2023-05-12\",\"2023-05-13\",\"2023-05-14\",\"2023-05-15\",\"2023-05-16\",\"2023-05-17\",\"2023-05-18\",\"2023-05-19\",\"2023-05-20\",\"2023-05-21\",\"2023-05-22\",\"2023-05-23\",\"2023-05-24\",\"2023-05-25\",\"2023-05-26\",\"2023-05-27\",\"2023-05-28\",\"2023-05-29\",\"2023-05-30\",\"2023-05-31\",\"2023-06-01\",\"2023-06-02\",\"2023-06-03\",\"2023-06-04\",\"2023-06-05\",\"2023-06-06\",\"2023-06-07\",\"2023-06-08\",\"2023-06-09\",\"2023-06-10\",\"2023-06-11\",\"2023-06-12\",\"2023-06-13\",\"2023-06-14\",\"2023-06-15\",\"2023-06-16\",\"2023-06-17\",\"2023-06-18\",\"2023-06-19\",\"2023-06-20\",\"2023-06-21\",\"2023-06-22\",\"2023-06-23\",\"2023-06-24\",\"2023-06-25\",\"2023-06-26\",\"2023-06-27\",\"2023-06-28\",\"2023-06-29\",\"2023-06-30\",\"2023-07-01\",\"2023-07-02\",\"2023-07-03\",\"2023-07-04\",\"2023-07-05\",\"2023-07-06\",\"2023-07-07\",\"2023-07-08\",\"2023-07-09\",\"2023-07-10\",\"2023-07-11\"],\"xaxis\":\"x\",\"y\":[320.8840026855469,299.25299072265625,314.6809997558594,307.9079895019531,316.71600341796875,337.6310119628906,333.35699462890625,330.92401123046875,332.3940124511719,347.61199951171875,354.385986328125,366.7300109863281,360.4010009765625,380.6520080566406,410.1659851074219,474.9110107421875,466.2760009765625,471.3299865722656,480.3550109863281,472.9020080566406,427.52301025390625,447.114013671875,466.5400085449219,463.4490051269531,465.8529968261719,470.2040100097656,463.281005859375,428.5880126953125,434.4079895019531,456.031005859375,473.50201416015625,441.72100830078125,515.135986328125,651.4310302734375,702.7670288085938,695.8159790039062,684.447998046875,696.208984375,719.9749755859375,794.64501953125,826.822998046875,819.0859985351562,821.06298828125,674.8599853515625,719.3870239257812,694.1480102539062,765.833984375,773.8359985351562,762.8419799804688,737.0230102539062,753.5919799804688,717.2570190429688,756.7329711914062,772.6409912109375,884.4439697265625,962.719970703125,980.9219970703125,997.719970703125,1041.6800537109375,1153.1700439453125,1148.530029296875,1299.739990234375,1255.8199462890625,1154.9300537109375,1273.199951171875,1396.4200439453125,1366.77001953125,1291.9200439453125,1053.68994140625,1014.25,1036.280029296875,1039.0999755859375,1155.1500244140625,1049.5799560546875,1003.260009765625,986.22900390625,1058.780029296875,1056.030029296875,1055.1700439453125,1107.0699462890625,1246.010009765625,1182.3599853515625,1071.1300048828125,1118.31005859375,1036.7900390625,915.7849731445312,964.0189819335938,834.6820068359375,697.9509887695312,793.1220092773438,757.0679931640625,817.8070068359375,883.864990234375,860.4149780273438,814.6599731445312,868.7069702148438,845.2579956054688,923.5609741210938,936.9760131835938,944.2100219726562,974.114990234375,923.9210205078125,943.864990234375,895.3709716796875,849.9710083007812,812.844970703125,864.1890258789062,840.5150146484375,844.8099975585938,869.3150024414062,878.2650146484375,855.198974609375,872.2000122070312,856.85302734375,857.2249755859375,866.677978515625,853.6840209960938,816.9509887695312,752.8309936523438,704.5960083007812,728.916015625,686.8900146484375,723.3389892578125,699.8309936523438,690.8270263671875,614.291015625,611.3040161132812,601.666015625,552.7789916992188,538.6439819335938,556.7260131835938,557.1749877929688,561.7319946289062,539.7020263671875,539.6190185546875,526.4390258789062,524.2869873046875,489.95098876953125,450.1159973144531,446.27899169921875,385.9679870605469,394.6449890136719,396.4570007324219,379.60699462890625,386.42498779296875,416.89300537109375,380.5429992675781,383.23199462890625,370.2850036621094,385.3139953613281,400.50799560546875,398.5260009765625,414.2430114746094,430.5400085449219,492.9410095214844,492.7349853515625,501.4779968261719,531.7020263671875,511.1470031738281,502.8940124511719,524.7890014648438,567.8889770507812,615.718017578125,605.39501953125,621.8599853515625,642.5479736328125,708.1580200195312,615.416015625,662.8090209960938,647.031982421875,683.677978515625,688.8809814453125,669.9240112304688,673.6129760742188,687.1489868164062,779.5430297851562,785.6240234375,816.1199951171875,792.3109741210938,753.7249755859375,752.8569946289062,752.2750244140625,727.2769775390625,679.5859985351562,686.0479736328125,733.4959716796875,730.5490112304688,708.8709716796875,707.0499877929688,672.656982421875,694.3670043945312,696.530029296875,715.3690185546875,699.2219848632812,647.7410278320312,583.5850219726562,601.7550048828125,586.7340087890625,587.280029296875,572.6680297851562,516.0360107421875,565.3880004882812,559.5900268554688,577.64501953125,580.0430297851562,591.8079833984375,618.3289794921875,592.9849853515625,609.302978515625,607.1240234375,605.18701171875,601.0770263671875,597.56201171875,526.47900390625,533.2839965820312,496.8429870605469,477.4939880371094,519.7420043945312,491.0039978027344,499.6419982910156,500.447998046875,518.8909912109375,537.9569702148438,536.2680053710938,527.3670043945312,465.8169860839844,474.5199890136719,457.6719970703125,460.30999755859375,432.7720031738281,442.364990234375,422.364990234375,436.0090026855469,455.17999267578125,453.9179992675781,475.34698486328125,464.19500732421875,467.3179931640625,474.4119873046875,474.0119934082031,491.6600036621094,489.1189880371094,476.6820068359375,434.42401123046875,446.51800537109375,430.0740051269531,434.0270080566406,436.08599853515625,449.8500061035156,480.6579895019531,501.00201416015625,480.51300048828125,469.6189880371094,450.697998046875,462.4360046386719,459.6570129394531,450.8529968261719,479.37298583984375,472.4930114746094,464.0369873046875,469.6659851074219,466.89801025390625,466.6650085449219,457.08099365234375,433.86700439453125,420.74700927734375,412.6210021972656,418.2619934082031,407.25201416015625,410.5159912109375,406.6579895019531,380.2149963378906,356.6130065917969,365.5880126953125,334.1759948730469,322.11199951171875,319.57000732421875,286.4949951171875,278.9320068359375,282.364013671875,288.0459899902344,315.72900390625,295.81201171875,300.8340148925781,274.31500244140625,281.9440002441406,271.34100341796875,277.10400390625,282.9670104980469,279.64599609375,275.1969909667969,285.6029968261719,296.4989929199219,289.31201171875,284.1050109863281,283.0039978027344,295.34100341796875,294.3710021972656,289.2590026855469,285.7229919433594,232.33099365234375,230.21499633789062,217.2030029296875,197.9510040283203,196.9239959716797,197.07899475097656,185.0659942626953,183.33099365234375,211.35400390625,211.74899291992188,223.07400512695312,220.58900451660156,197.875,209.97500610351562,209.968994140625,224.59100341796875,246.58399963378906,240.47999572753906,244.3300018310547,228.72999572753906,218.5050048828125,215.8470001220703,228.49400329589844,222.40199279785156,231.63499450683594,232.84800720214844,230.76800537109375,227.18099975585938,220.48899841308594,222.21800231933594,227.6009979248047,225.1199951171875,226.11900329589844,229.2550048828125,227.98199462890625,225.7689971923828,189.49899291992188,196.7270050048828,199.84100341796875,195.71499633789062,209.70399475097656,210.1199951171875,207.08299255371094,203.3520050048828,203.7270050048828,205.42999267578125,205.14199829101562,204.04400634765625,204.33599853515625,203.8520050048828,202.718994140625,203.32899475097656,204.2100067138672,205.36599731445312,197.2469940185547,197.55599975585938,197.38099670410156,198.8719940185547,200.63499450683594,200.18600463867188,207.48599243164062,209.09100341796875,218.45199584960938,217.18299865722656,212.2310028076172,210.07400512695312,212.5330047607422,211.33999633789062,210.41799926757812,206.8260040283203,181.39700317382812,180.80599975585938,175.177001953125,174.00100708007812,177.06700134277344,149.1750030517578,130.33900451660156,136.7010040283203,126.70600128173828,123.2959976196289,113.49400329589844,116.44999694824219,108.33499908447266,110.01000213623047,122.43800354003906,117.54264831542969,113.17141723632812,118.63555908203125,116.38890075683594,108.92501831054688,110.21418762207031,102.47555541992188,91.76105499267578,93.29456329345703,92.15963745117188,95.14205932617188,91.68565368652344,88.94530487060547,90.59329986572266,86.53931427001953,84.30829620361328,84.44081115722656,85.26210021972656,95.13382720947266,101.11245727539062,101.2685775756836,116.21687316894531,109.49623107910156,116.7594985961914,130.7652587890625,140.23800659179688,129.84434509277344,131.86563110351562,116.57591247558594,137.6470184326172,138.01834106445312,139.8594512939453,133.36825561523438,140.8194122314453,155.0476837158203,149.135009765625,154.58193969726562,155.6385955810547,157.74620056152344,151.69921875,150.35963439941406,150.80311584472656,128.62518310546875,127.54832458496094,125.9665298461914,116.8978042602539,129.0687255859375,122.03271484375,123.54706573486328,123.7419204711914,121.01026153564453,124.5190200805664,119.4748306274414,117.15785217285156,118.74755096435547,117.45260620117188,117.36288452148438,116.37834167480469,116.48873901367188,113.40528869628906,106.58997344970703,105.59821319580078,108.90753936767578,107.0610122680664,107.60978698730469,110.43025970458984,107.49266815185547,107.82160186767578,107.44351959228516,104.9192886352539,104.5353012084961,119.26774597167969,119.4308853149414,124.80648803710938,121.29839324951172,122.5722885131836,122.55360412597656,121.39020538330078,122.10038757324219,123.26021575927734,133.598876953125,146.09837341308594,145.34619140625,149.55433654785156,146.13084411621094,149.0924530029297,158.79542541503906,135.8526611328125,139.82286071777344,138.0896759033203,136.12596130371094,136.74624633789062,136.44361877441406,134.2069549560547,132.24942016601562,127.77412414550781,137.8223876953125,138.7893524169922,138.0345001220703,135.1270751953125,137.96533203125,136.75868225097656,133.8340301513672,134.44288635253906,133.26307678222656,133.7115936279297,137.69178771972656,142.39817810058594,140.00054931640625,139.37460327148438,140.51919555664062,140.6863555908203,136.6360626220703,137.1814422607422,138.2398681640625,136.98692321777344,135.03102111816406,135.46035766601562,140.9881591796875,139.41647338867188,142.49742126464844,142.09268188476562,141.51409912109375,141.830322265625,163.9617462158203,161.45880126953125,158.0525360107422,165.5148468017578,165.94720458984375,174.53164672851562,180.25881958007812,176.1145782470703,177.3374786376953,165.4970245361328,164.736328125,164.5133514404297,167.83851623535156,161.5741729736328,167.62344360351562,166.9507598876953,173.81402587890625,173.70843505859375,173.7512664794922,170.04652404785156,171.87466430664062,171.4477996826172,165.8260955810547,154.4593963623047,156.3470916748047,158.4349365234375,157.29507446289062,155.20199584960938,162.16603088378906,160.81834411621094,162.12278747558594,167.95240783691406,164.02658081054688,163.45069885253906,172.65321350097656,169.7986602783203,170.9481658935547,170.289306640625,173.1427459716797,194.30433654785156,187.3253173828125,196.84628295898438,217.14857482910156,247.15306091308594,264.010009765625,243.76458740234375,234.59523010253906,261.2922058105469,251.86441040039062,255.21588134765625,244.69891357421875,245.96566772460938,249.4849853515625,251.75987243652344,267.06964111328125,272.8626403808594,271.7687072753906,269.4556884765625,255.85894775390625,268.1135559082031,265.3912658691406,270.22552490234375,252.60792541503906,241.3387908935547,247.05101013183594,249.47433471679688,250.93035888671875,245.73809814453125,233.08670043945312,247.52012634277344,245.78182983398438,260.9032897949219,256.1687927246094,264.08746337890625,269.0193176269531,269.22320556640625,274.3511047363281,265.0518493652344,269.4317932128906,271.69500732421875,294.9102783203125,309.38031005859375,307.8277893066406,310.4246826171875,318.1263122558594,336.753173828125,294.26763916015625,311.2261047363281,320.05889892578125,290.69598388671875,293.64111328125,291.596435546875,303.0999755859375,284.5232238769531,287.9975280761719,287.547119140625,305.7005615234375,313.25140380859375,308.8810119628906,290.0023193359375,268.70404052734375,276.2767028808594,269.45880126953125,227.57806396484375,229.7760009765625,199.1886749267578,211.48497009277344,226.566162109375,221.3334197998047,229.1192169189453,225.63076782226562,217.5600128173828,212.728515625,217.04637145996094,219.6179962158203,219.62960815429688,207.40830993652344,211.18655395507812,211.26805114746094,210.52259826660156,218.65414428710938,217.80844116210938,217.87156677246094,222.49034118652344,222.6697235107422,234.21502685546875,226.02064514160156,226.39100646972656,220.94186401367188,210.48890686035156,206.73353576660156,216.09286499023438,211.28807067871094,208.70904541015625,186.6077423095703,188.50205993652344,185.44007873535156,185.68768310546875,194.4935302734375,203.09193420410156,196.56541442871094,186.89163208007812,191.33291625976562,194.70620727539062,191.28956604003906,186.84239196777344,188.92938232421875,187.51666259765625,173.8899688720703,169.51673889160156,168.83486938476562,172.46978759765625,171.62942504882812,178.34735107421875,179.49932861328125,175.99288940429688,174.21713256835938,169.9561767578125,178.2626190185547,181.35552978515625,181.1494598388672,179.78717041015625,178.72549438476562,181.01609802246094,181.10972595214844,188.1055145263672,189.78912353515625,197.11317443847656,208.60874938964844,211.39303588867188,221.28085327148438,218.050048828125,215.51620483398438,211.54537963867188,201.9213104248047,168.11073303222656,170.8927001953125,166.7271270751953,174.71099853515625,174.57289123535156,170.50347900390625,179.87220764160156,177.34042358398438,180.71051025390625,175.1993408203125,176.98500061035156,176.3515167236328,173.05914306640625,181.18634033203125,182.0215606689453,193.2932586669922,191.65966796875,182.56968688964844,180.82664489746094,182.0751495361328,186.96090698242188,181.40606689453125,176.0135040283203,178.02835083007812,173.621337890625,172.91302490234375,175.5343780517578,174.92098999023438,172.3008575439453,162.4027862548828,162.16854858398438,181.52320861816406,179.83547973632812,184.24221801757812,182.66281127929688,190.3425750732422,184.69216918945312,183.9669189453125,183.9698944091797,183.92572021484375,182.42501831054688,186.35519409179688,189.30416870117188,191.59384155273438,187.97654724121094,184.2114715576172,185.02871704101562,189.47727966308594,185.48963928222656,186.84341430664062,188.2587432861328,185.9996337890625,180.52117919921875,183.34835815429688,185.11923217773438,180.55960083007812,177.45555114746094,175.69834899902344,161.4627227783203,150.26817321777344,153.41778564453125,142.83470153808594,146.47653198242188,148.96507263183594,153.01055908203125,151.7175750732422,155.3041534423828,152.53968811035156,151.18572998046875,149.0591583251953,147.9564208984375,146.74774169921875,149.24899291992188,149.19444274902344,148.76815795898438,151.2647247314453,148.2251739501953,146.2670440673828,143.60800170898438,145.60400390625,144.9447479248047,142.86923217773438,143.114990234375,133.61402893066406,122.60388946533203,133.09219360351562,129.32113647460938,129.06605529785156,128.13095092773438,132.3725128173828,128.6140899658203,129.0638885498047,126.45463562011719,126.36122131347656,127.21460723876953,128.3227081298828,134.7579803466797,132.63348388671875,129.61085510253906,130.802001953125,127.4101791381836,134.1717071533203,135.06936645507812,136.2767791748047,144.3041534423828,143.5439910888672,141.2581329345703,138.9792022705078,143.96377563476562,142.92710876464844,145.87393188476562,144.22659301757812,165.95535278320312,166.23068237304688,164.39100646972656,170.7799530029297,175.3656768798828,166.9698486328125,167.12051391601562,169.69715881347656,168.29415893554688,162.92855834960938,163.05117797851562,161.283935546875,168.0771026611328,170.93089294433594,176.3703155517578,175.0503387451172,184.6904754638672,180.16017150878906,183.6739501953125,188.61753845214844,189.8650665283203,189.25059509277344,204.23023986816406,212.33908081054688,222.72605895996094,223.14651489257812,228.5785675048828,223.522705078125,235.8511962890625,265.4061279296875,268.0992431640625,284.2174987792969,264.72857666015625,259.89471435546875,266.3634338378906,281.944580078125,259.76397705078125,257.949462890625,265.6006164550781,262.33172607421875,273.754150390625,265.2164306640625,247.81759643554688,225.68026733398438,226.75338745117188,226.760498046875,219.8485107421875,218.97059631347656,230.5697784423828,224.47962951660156,224.51797485351562,229.2681884765625,243.52529907226562,237.85308837890625,200.68905639648438,201.986328125,200.76724243164062,194.8685302734375,112.34712219238281,133.20181274414062,123.30602264404297,125.21430206298828,110.60587310791016,113.9427490234375,114.84226989746094,136.59385681152344,132.73716735839844,132.81871032714844,123.32115173339844,134.91160583496094,138.76144409179688,136.19589233398438,138.36155700683594,133.9379425048828,130.9864959716797,125.58373260498047,132.904541015625,133.59356689453125,135.63455200195312,142.02914428710938,142.09130859375,145.21939086914062,143.54664611816406,169.13587951660156,165.10194396972656,172.64173889160156,170.80714416503906,158.41244506835938,158.2160186767578,161.14242553710938,156.27955627441406,157.5963897705078,153.28689575195312,172.15737915039062,171.63858032226562,186.91400146484375,181.61495971679688,172.2971649169922,172.73770141601562,182.59957885742188,185.02867126464844,189.2369384765625,195.5153045654297,197.31753540039062,197.22471618652344,198.41539001464844,216.96823120117188,207.60205078125,214.21910095214844,215.32537841796875,210.9331512451172,208.17401123046875,206.77439880371094,204.0557861328125,212.28941345214844,212.9915771484375,211.60012817382812,188.5995635986328,185.912841796875,189.3125,199.1932830810547,202.9490966796875,195.62266540527344,200.6771240234375,207.15869140625,214.52505493164062,213.45111083984375,210.09674072265625,199.88360595703125,207.169189453125,208.69439697265625,202.37034606933594,205.3197479248047,201.90231323242188,208.86343383789062,219.84042358398438,220.6751251220703,242.34559631347656,230.9757080078125,246.99176025390625,237.21905517578125,244.1793212890625,244.4263916015625,241.22198486328125,241.9313201904297,245.16725158691406,246.30990600585938,244.9114532470703,247.4449462890625,231.70266723632812,237.4932098388672,238.90884399414062,234.1147003173828,229.9289093017578,234.41616821289062,233.0282745361328,232.10116577148438,227.13829040527344,229.27426147460938,228.9898223876953,242.53318786621094,244.14215087890625,235.7724609375,232.94448852539062,229.6680450439453,222.9597930908203,225.34716796875,228.1948699951172,226.31500244140625,231.11341857910156,229.39219665527344,225.38706970214844,229.07411193847656,227.6645965576172,241.51022338867188,239.07553100585938,246.67001342773438,243.01596069335938,240.9849853515625,239.4581756591797,242.13169860839844,239.60458374023438,240.21148681640625,238.42352294921875,233.64088439941406,232.77308654785156,235.4838104248047,238.48751831054688,236.15316772460938,245.0167236328125,262.1906433105469,274.6890563964844,279.2154235839844,304.0567626953125,309.64361572265625,321.51409912109375,316.6572570800781,318.1908874511719,334.5866394042969,345.5546569824219,385.19970703125,370.6717224121094,386.295166015625,389.87548828125,401.590576171875,394.9619445800781,379.5128479003906,393.98736572265625,391.1204528808594,395.8875732421875,380.3840637207031,391.024169921875,428.7417907714844,437.3978271484375,433.35491943359375,433.78662109375,429.53125,423.6693115234375,406.4637756347656,416.4397888183594,389.1263427734375,395.83514404296875,391.3844909667969,408.1441955566406,384.00103759765625,386.46612548828125,382.63262939453125,395.8746643066406,399.9214782714844,428.3957214355469,435.0797424316406,477.0519104003906,440.0404968261719,385.67193603515625,388.24114990234375,335.26007080078125,353.3622741699219,352.6734924316406,337.60211181640625,351.1100158691406,368.1018981933594,374.6955871582031,387.18310546875,365.57000732421875,377.26885986328125,364.8392028808594,365.8122863769531,389.01922607421875,384.3645324707031,385.54437255859375,371.0528259277344,341.78607177734375,344.503173828125,321.1163024902344,349.3555908203125,352.1832580566406,355.48809814453125,357.4385070800781,355.159423828125,359.75738525390625,359.9378662109375,353.2059020996094,346.2389221191406,346.5220947265625,352.5790100097656,353.956787109375,340.81585693359375,341.80865478515625,350.7661437988281,365.5904846191406,370.96759033203125,375.1420593261719,387.73126220703125,381.1907653808594,379.4840393066406,377.44183349609375,366.22900390625,368.8559265136719,378.21368408203125,379.93560791015625,369.13690185546875,392.1899719238281,413.7729797363281,409.7666931152344,412.4576110839844,406.2177734375,393.8883056640625,403.9970397949219,388.6507568359375,386.7301025390625,382.8199768066406,386.59033203125,396.3581848144531,383.15673828125,387.6021728515625,402.1419982910156,414.0673522949219,454.71929931640625,435.713134765625,453.5547790527344,444.1630554199219,449.67962646484375,462.9605407714844,461.0052795410156,474.6264343261719,460.14984130859375,447.55908203125,459.9403076171875,480.3600769042969,479.48406982421875,471.63043212890625,509.74456787109375,549.4866333007812,558.068115234375,608.4540405273438,603.8977661132812,570.6866455078125,518.8011474609375,517.4937133789062,538.2297973632812,575.758056640625,614.842529296875,587.3241577148438,598.3523559570312,616.708740234375,569.3541870117188,596.595458984375,601.9089965820312,591.8433837890625,554.8277587890625,573.4791259765625,559.6785278320312,545.79736328125,568.5673217773438,589.6632080078125,586.0111694335938,589.3555908203125,636.1818237304688,642.8689575195312,654.8119506835938,659.2979125976562,638.2908325195312,609.81787109375,634.8541870117188,583.714599609375,611.607177734375,626.4107055664062,635.8358154296875,682.642333984375,730.3973388671875,731.5201416015625,751.6189575195312,737.8034057617188,730.3675537109375,774.5349731445312,975.5076904296875,1040.2330322265625,1100.006103515625,1207.1121826171875,1225.6781005859375,1224.1971435546875,1281.0772705078125,1262.2467041015625,1090.1453857421875,1043.4345703125,1130.7393798828125,1218.4530029296875,1171.8345947265625,1233.53759765625,1230.1722412109375,1257.279541015625,1377.2958984375,1382.2740478515625,1121.5709228515625,1236.51220703125,1230.9906005859375,1391.609375,1324.414794921875,1357.05810546875,1253.1871337890625,1332.4921875,1382.5228271484375,1376.115478515625,1314.9862060546875,1369.04052734375,1515.1937255859375,1660.9095458984375,1594.7626953125,1718.65087890625,1677.8468017578125,1614.227783203125,1746.6168212890625,1768.0350341796875,1744.243408203125,1783.7979736328125,1843.5325927734375,1814.10986328125,1805.0841064453125,1779.791015625,1781.0675048828125,1848.458251953125,1937.44921875,1960.164794921875,1919.5340576171875,1935.60107421875,1781.992919921875,1570.2039794921875,1626.57568359375,1475.7037353515625,1446.03369140625,1459.97314453125,1416.0489501953125,1564.7076416015625,1492.6087646484375,1575.8531494140625,1541.914306640625,1533.2750244140625,1654.7415771484375,1723.15380859375,1834.7279052734375,1868.048828125,1799.166259765625,1826.1949462890625,1772.1024169921875,1924.6854248046875,1854.5643310546875,1791.7022705078125,1806.9718017578125,1823.4493408203125,1782.8551025390625,1817.6241455078125,1812.6346435546875,1788.217041015625,1691.333984375,1678.650146484375,1593.4134521484375,1595.3592529296875,1702.842041015625,1716.49462890625,1691.35595703125,1819.6849365234375,1846.03369140625,1918.362060546875,1977.27685546875,2143.2255859375,2028.4224853515625,2093.122802734375,2107.88720703125,2118.37890625,1971.0772705078125,2088.57373046875,2072.10888671875,2135.942138671875,2157.656982421875,2139.353271484375,2299.187744140625,2435.10498046875,2519.1162109375,2431.946533203125,2344.89501953125,2237.136962890625,2166.188720703125,2330.2109375,2364.751708984375,2403.53515625,2363.586181640625,2211.625732421875,2316.0595703125,2534.481689453125,2662.865234375,2746.380126953125,2756.876953125,2773.20703125,2945.892822265625,2952.05615234375,3431.086181640625,3253.62939453125,3522.783203125,3490.88037109375,3484.72900390625,3902.647705078125,3928.8447265625,3952.2939453125,4168.701171875,3785.8486328125,3715.1484375,4079.057373046875,3638.1220703125,3587.506103515625,3282.397705078125,3380.070068359375,2460.67919921875,2784.294189453125,2430.621337890625,2295.70556640625,2109.579833984375,2643.591064453125,2706.62890625,2888.69873046875,2736.488525390625,2419.90625,2279.51416015625,2390.305419921875,2714.9453125,2633.518310546875,2706.125,2855.12646484375,2688.195068359375,2630.576904296875,2715.0927734375,2590.26318359375,2517.438720703125,2608.26708984375,2471.5185546875,2353.768798828125,2372.484375,2508.3916015625,2537.89111328125,2610.936767578125,2367.66357421875,2372.001953125,2231.733154296875,2178.4990234375,2246.364501953125,1888.447509765625,1874.9500732421875,1989.736328125,1988.456298828125,1813.21728515625,1829.2392578125,1978.8946533203125,2079.657470703125,2160.768310546875,2274.547607421875,2113.60546875,2150.040283203125,2226.1142578125,2321.72412109375,2198.58251953125,2324.679443359375,2315.161865234375,2120.0263671875,2146.6923828125,2111.403564453125,2139.664794921875,2036.7210693359375,1940.083984375,1994.331298828125,1911.1756591796875,1880.3829345703125,1898.8251953125,1895.5521240234375,1817.296630859375,1787.5107421875,1990.9708251953125,2025.2027587890625,2124.776611328125,2189.21875,2191.373779296875,2233.36669921875,2298.33349609375,2296.54541015625,2380.956787109375,2466.96142578125,2536.2099609375,2561.85205078125,2610.1533203125,2502.349609375,2724.619873046875,2827.328857421875,2890.941650390625,3157.23876953125,3013.732666015625,3167.856201171875,3141.691162109375,3164.2451171875,3043.414306640625,3322.211669921875,3265.443359375,3310.504150390625,3156.509521484375,3014.845947265625,3020.08984375,3182.7021484375,3286.935302734375,3226.083984375,3242.115478515625,3319.25732421875,3172.456298828125,3224.915283203125,3100.325439453125,3270.600830078125,3244.4033203125,3227.002685546875,3224.374267578125,3433.732666015625,3834.828125,3790.989990234375,3940.61474609375,3887.828369140625,3952.133544921875,3928.37939453125,3426.394287109375,3497.315185546875,3427.340087890625,3211.505859375,3270.278076171875,3410.134521484375,3285.51171875,3429.169677734375,3615.28271484375,3571.294921875,3398.538818359375,3432.018310546875,3329.447998046875,2958.993408203125,2764.43115234375,3077.867919921875,3155.523681640625,2931.669189453125,2925.565673828125,3062.265380859375,2934.138916015625,2807.296630859375,2853.143310546875,3001.678955078125,3307.51611328125,3391.6943359375,3418.358642578125,3380.089111328125,3518.5185546875,3580.56201171875,3587.974853515625,3563.75927734375,3575.716796875,3425.852783203125,3545.35400390625,3492.5732421875,3606.20166015625,3786.01416015625,3862.634765625,3830.382080078125,3847.1044921875,3748.76025390625,3877.65087890625,4155.9921875,4054.32275390625,3970.181884765625,4171.66357421875,4087.903076171875,4217.876953125,4131.10205078125,3930.25732421875,4287.31884765625,4414.74658203125,4325.650390625,4288.07421875,4324.626953125,4584.798828125,4607.19384765625,4537.32421875,4486.2431640625,4521.5810546875,4620.5546875,4812.08740234375,4735.06884765625,4636.17431640625,4730.38427734375,4667.115234375,4651.46044921875,4626.35888671875,4557.50390625,4216.365234375,4287.59375,4000.65087890625,4298.306640625,4409.93115234375,4269.73291015625,4088.457763671875,4340.763671875,4239.9814453125,4274.7431640625,4030.908935546875,4096.912109375,4294.45361328125,4445.10498046875,4631.47900390625,4586.990234375,4511.30224609375,4220.7060546875,4119.58740234375,4198.32275390625,4358.7373046875,4315.0615234375,4439.35791015625,4119.81591796875,3908.49609375,4084.452392578125,4134.453125,3784.226806640625,3745.4404296875,4018.388671875,3962.4697265625,3879.486572265625,3960.860107421875,3922.592529296875,3933.844482421875,4020.260009765625,3982.099609375,4108.015625,4047.98291015625,4093.281005859375,4067.328125,4037.547607421875,3800.89306640625,3628.53173828125,3713.85205078125,3682.6328125,3769.697021484375,3829.56494140625,3761.38037109375,3794.056640625,3550.386962890625,3418.408203125,3193.21044921875,3091.97265625,3157.75146484375,3083.097900390625,3238.111572265625,3372.25830078125,3248.28857421875,3310.00146484375,3330.53076171875,3350.921875,3212.304931640625,3164.025146484375,3095.825927734375,3001.1201171875,2557.931640625,2405.18115234375,2535.0390625,2440.352294921875,2455.93505859375,2468.0302734375,2423.001220703125,2547.092041015625,2597.084716796875,2603.466552734375,2688.27880859375,2792.1171875,2682.85400390625,2679.16259765625,2983.5869140625,3014.648193359375,3057.47607421875,3142.470703125,3122.608642578125,3239.45703125,3077.482177734375,2927.383544921875,2917.36279296875,2883.46337890625,2933.47900390625,3179.877197265625,3127.830078125,2881.48193359375,2785.7275390625,2763.701171875,2628.6484375,2573.816162109375,2639.29931640625,2590.359619140625,2598.067138671875,2764.53564453125,2781.11181640625,2621.8017578125,2919.201171875,2972.485107421875,2950.118408203125,2834.468994140625,2617.156005859375,2664.8310546875,2555.037353515625,2497.771240234375,2576.74755859375,2729.783447265625,2608.048583984375,2559.56298828125,2574.754150390625,2518.944580078125,2590.696044921875,2620.149658203125,2772.0556640625,2814.8544921875,2945.343017578125,2946.257080078125,2860.459228515625,2897.9765625,2973.131103515625,3031.067138671875,3108.06201171875,3106.67138671875,3143.178955078125,3291.57763671875,3336.634521484375,3401.98779296875,3385.157958984375,3281.642822265625,3449.55224609375,3445.059326171875,3522.83349609375,3521.2412109375,3411.79248046875,3171.69189453125,3233.274658203125,3192.073974609375,3261.916259765625,3211.866943359375,2981.05224609375,3030.37646484375,3118.34423828125,3019.909423828125,3040.91650390625,3062.310302734375,2993.4033203125,3057.606689453125,3104.1064453125,3077.745849609375,2987.480712890625,2964.835693359375,2938.114013671875,2922.732666015625,3009.3935546875,2808.29833984375,2888.9296875,2936.94091796875,2815.601806640625,2730.186767578125,2827.756103515625,2857.410400390625,2783.476318359375,2940.644775390625,2749.213134765625,2694.979736328125,2636.093017578125,2517.4599609375,2245.430419921875,2343.510986328125,2072.108642578125,1961.7015380859375,2014.418212890625,2056.27392578125,2145.706787109375,2022.7259521484375,2090.4091796875,1916.6561279296875,2018.336181640625,1961.315673828125,1974.518310546875,2043.170166015625,1972.181884765625,1978.9827880859375,1944.827880859375,1803.913330078125,1724.9228515625,1757.9417724609375,1812.031005859375,1996.4412841796875,1942.3280029296875,1823.5693359375,1834.1505126953125,1775.07861328125,1801.6094970703125,1805.2049560546875,1859.2896728515625,1814.04833984375,1793.572265625,1789.8260498046875,1665.042236328125,1529.6634521484375,1445.216552734375,1204.582763671875,1211.662841796875,1233.2064208984375,1067.730712890625,1086.519287109375,993.6367797851562,1127.656494140625,1127.6424560546875,1124.8245849609375,1051.421875,1143.38671875,1226.8447265625,1243.4468994140625,1199.8316650390625,1193.6806640625,1144.5792236328125,1098.94384765625,1067.298828125,1059.767333984375,1066.5128173828125,1073.7669677734375,1151.05908203125,1134.541015625,1186.9739990234375,1237.5933837890625,1222.5062255859375,1216.978271484375,1168.401611328125,1097.236572265625,1038.191650390625,1113.587158203125,1191.5262451171875,1233.129150390625,1352.62646484375,1338.6357421875,1578.7178955078125,1542.9752197265625,1520.20068359375,1576.74951171875,1537.4051513671875,1549.2974853515625,1599.4766845703125,1445.3834228515625,1441.8067626953125,1636.232666015625,1725.4681396484375,1727.406982421875,1695.969482421875,1681.517333984375,1635.19580078125,1632.9454345703125,1618.87451171875,1608.205810546875,1732.254638671875,1691.6580810546875,1699.350830078125,1775.51611328125,1703.0250244140625,1851.74267578125,1881.22412109375,1957.2464599609375,1981.3365478515625,1936.802001953125,1904.2281494140625,1878.139404296875,1832.9996337890625,1847.0078125,1612.9873046875,1577.0037841796875,1619.3189697265625,1622.505859375,1662.7698974609375,1657.0592041015625,1696.45703125,1507.7828369140625,1491.39501953125,1430.54736328125,1553.037353515625,1523.8388671875,1553.6849365234375,1586.1767578125,1577.220458984375,1556.8726806640625,1577.6416015625,1617.1832275390625,1561.74853515625,1629.9063720703125,1635.34765625,1719.08544921875,1776.2037353515625,1761.800048828125,1713.7652587890625,1580.7879638671875,1634.7550048828125,1471.6934814453125,1432.44775390625,1469.74169921875,1335.3291015625,1377.5413818359375,1324.38818359375,1252.6077880859375,1327.68017578125,1328.259521484375,1317.9932861328125,1294.216796875,1335.3201904296875,1330.127685546875,1337.410888671875,1335.65234375,1327.9786376953125,1311.6444091796875,1276.093505859375,1323.439208984375,1362.1265869140625,1352.837158203125,1351.70947265625,1332.5169677734375,1315.50048828125,1322.604248046875,1291.337646484375,1279.57568359375,1294.9063720703125,1288.1239013671875,1297.422119140625,1274.8717041015625,1306.296630859375,1331.713623046875,1310.447021484375,1285.7442626953125,1283.200927734375,1299.9464111328125,1314.2991943359375,1363.447021484375,1344.99853515625,1461.6654052734375,1566.566650390625,1514.3748779296875,1555.4779052734375,1619.698486328125,1590.7833251953125,1572.7144775390625,1579.70458984375,1519.7117919921875,1531.541748046875,1645.0933837890625,1627.968017578125,1572.2347412109375,1568.59130859375,1332.8355712890625,1100.1697998046875,1299.464599609375,1287.2210693359375,1255.268310546875,1221.8192138671875,1241.604248046875,1251.7362060546875,1215.6025390625,1200.80859375,1212.30029296875,1218.4267578125,1142.4666748046875,1108.35302734375,1135.1734619140625,1183.1995849609375,1203.983154296875,1198.9259033203125,1205.89794921875,1195.126953125,1170.086181640625,1216.9012451171875,1295.6885986328125,1276.27392578125,1294.3033447265625,1243.3348388671875,1280.256591796875,1259.6767578125,1271.65380859375,1232.4375,1281.1163330078125,1264.2847900390625,1266.3841552734375,1263.8685302734375,1274.6190185546875,1320.5491943359375,1309.3287353515625,1266.3538818359375,1168.2593994140625,1188.1495361328125,1184.7152099609375,1167.60986328125,1217.70361328125,1213.5999755859375,1218.18212890625,1220.159423828125,1221.1485595703125,1218.9620361328125,1226.974365234375,1212.7916259765625,1189.986083984375,1201.5953369140625,1199.2327880859375,1196.771240234375,1200.96484375,1214.6566162109375,1214.77880859375,1256.526611328125,1250.4385986328125,1269.3790283203125,1264.2703857421875,1287.3594970703125,1321.5389404296875,1336.5860595703125,1387.9327392578125,1417.9384765625,1451.6148681640625,1550.7069091796875,1552.4794921875,1576.83349609375,1567.8460693359375,1515.5069580078125,1552.5565185546875,1659.754150390625,1627.1181640625,1628.382080078125,1628.2510986328125,1556.604248046875,1611.7110595703125,1603.10595703125,1598.156494140625,1572.43505859375,1646.1556396484375,1567.3265380859375,1586.535400390625,1641.792724609375,1643.2415771484375,1664.74560546875,1667.0592041015625,1631.6458740234375,1616.2470703125,1672.0035400390625,1650.716796875,1546.438232421875,1514.869140625,1539.9267578125,1515.03369140625,1507.1658935546875,1556.8751220703125,1673.7459716796875,1640.067626953125,1694.7833251953125,1691.8194580078125,1681.4361572265625,1702.6751708984375,1658.036376953125,1643.231689453125,1651.0738525390625,1608.3731689453125,1594.9149169921875,1640.817138671875,1634.326416015625,1605.8951416015625,1663.4337158203125,1647.3193359375,1569.1676025390625,1566.9239501953125,1564.46875,1567.398681640625,1561.93310546875,1534.0882568359375,1438.6607666015625,1429.1580810546875,1482.61669921875,1590.29296875,1680.3089599609375,1703.507080078125,1656.1805419921875,1677.2154541015625,1792.485107421875,1761.65966796875,1785.5765380859375,1735.3212890625,1806.7607421875,1737.717041015625,1816.4051513671875,1752.0447998046875,1743.7647705078125,1775.6767578125,1715.4608154296875,1772.78564453125,1793.0018310546875,1792.7371826171875,1822.0220947265625,1813.860595703125,1795.7081298828125,1810.297119140625,1871.005126953125,1909.114013671875,1872.922607421875,1865.6361083984375,1849.4981689453125,1859.3878173828125,1911.20751953125,1892.189697265625,1920.68212890625,2012.6346435546875,2101.635498046875,2092.466796875,2120.005859375,2076.242919921875,2104.537353515625,1936.4034423828125,1943.09765625,1849.9998779296875,1874.2286376953125,1862.06201171875,1842.7574462890625,1866.753662109375,1866.564208984375,1908.786376953125,1892.5128173828125,1908.9169921875,1876.92431640625,1831.954833984375,1870.789306640625,1904.65185546875,1877.7041015625,1995.0609130859375,1900.2218017578125,1873.076416015625,1849.042724609375,1848.6031494140625,1842.4014892578125,1796.4906005859375,1808.019775390625,1796.1148681640625,1800.5009765625,1817.5499267578125,1824.1214599609375,1821.859619140625,1801.728515625,1812.5894775390625,1820.47802734375,1804.5313720703125,1817.5347900390625,1854.380615234375,1800.0999755859375,1805.9537353515625,1828.689697265625,1831.1182861328125,1910.9141845703125,1893.078125,1901.026611328125,1874.1304931640625,1862.201416015625,1907.256591796875,1892.4124755859375,1890.5135498046875,1811.828369140625,1884.494873046875,1832.39599609375,1846.3018798828125,1840.2252197265625,1752.384765625,1753.415283203125,1742.5286865234375,1739.03759765625,1650.519287109375,1665.519775390625,1716.6688232421875,1727.2041015625,1720.5775146484375,1737.659423828125,1792.1199951171875,1891.0072021484375,1872.9429931640625,1892.862060546875,1876.0596923828125,1900.506103515625,1859.432861328125,1889.703369140625,1827.97119140625,1852.227294921875,1933.18896484375,1924.56591796875,1937.4383544921875,1955.38916015625,1936.633544921875,1910.5880126953125,1848.636474609375,1870.6025390625,1865.53955078125,1863.009765625,1880.556396484375,1878.3360595703125],\"yaxis\":\"y\",\"type\":\"scattergl\"}],                        {\"template\":{\"data\":{\"histogram2dcontour\":[{\"type\":\"histogram2dcontour\",\"colorbar\":{\"outlinewidth\":0,\"ticks\":\"\"},\"colorscale\":[[0.0,\"#0d0887\"],[0.1111111111111111,\"#46039f\"],[0.2222222222222222,\"#7201a8\"],[0.3333333333333333,\"#9c179e\"],[0.4444444444444444,\"#bd3786\"],[0.5555555555555556,\"#d8576b\"],[0.6666666666666666,\"#ed7953\"],[0.7777777777777778,\"#fb9f3a\"],[0.8888888888888888,\"#fdca26\"],[1.0,\"#f0f921\"]]}],\"choropleth\":[{\"type\":\"choropleth\",\"colorbar\":{\"outlinewidth\":0,\"ticks\":\"\"}}],\"histogram2d\":[{\"type\":\"histogram2d\",\"colorbar\":{\"outlinewidth\":0,\"ticks\":\"\"},\"colorscale\":[[0.0,\"#0d0887\"],[0.1111111111111111,\"#46039f\"],[0.2222222222222222,\"#7201a8\"],[0.3333333333333333,\"#9c179e\"],[0.4444444444444444,\"#bd3786\"],[0.5555555555555556,\"#d8576b\"],[0.6666666666666666,\"#ed7953\"],[0.7777777777777778,\"#fb9f3a\"],[0.8888888888888888,\"#fdca26\"],[1.0,\"#f0f921\"]]}],\"heatmap\":[{\"type\":\"heatmap\",\"colorbar\":{\"outlinewidth\":0,\"ticks\":\"\"},\"colorscale\":[[0.0,\"#0d0887\"],[0.1111111111111111,\"#46039f\"],[0.2222222222222222,\"#7201a8\"],[0.3333333333333333,\"#9c179e\"],[0.4444444444444444,\"#bd3786\"],[0.5555555555555556,\"#d8576b\"],[0.6666666666666666,\"#ed7953\"],[0.7777777777777778,\"#fb9f3a\"],[0.8888888888888888,\"#fdca26\"],[1.0,\"#f0f921\"]]}],\"heatmapgl\":[{\"type\":\"heatmapgl\",\"colorbar\":{\"outlinewidth\":0,\"ticks\":\"\"},\"colorscale\":[[0.0,\"#0d0887\"],[0.1111111111111111,\"#46039f\"],[0.2222222222222222,\"#7201a8\"],[0.3333333333333333,\"#9c179e\"],[0.4444444444444444,\"#bd3786\"],[0.5555555555555556,\"#d8576b\"],[0.6666666666666666,\"#ed7953\"],[0.7777777777777778,\"#fb9f3a\"],[0.8888888888888888,\"#fdca26\"],[1.0,\"#f0f921\"]]}],\"contourcarpet\":[{\"type\":\"contourcarpet\",\"colorbar\":{\"outlinewidth\":0,\"ticks\":\"\"}}],\"contour\":[{\"type\":\"contour\",\"colorbar\":{\"outlinewidth\":0,\"ticks\":\"\"},\"colorscale\":[[0.0,\"#0d0887\"],[0.1111111111111111,\"#46039f\"],[0.2222222222222222,\"#7201a8\"],[0.3333333333333333,\"#9c179e\"],[0.4444444444444444,\"#bd3786\"],[0.5555555555555556,\"#d8576b\"],[0.6666666666666666,\"#ed7953\"],[0.7777777777777778,\"#fb9f3a\"],[0.8888888888888888,\"#fdca26\"],[1.0,\"#f0f921\"]]}],\"surface\":[{\"type\":\"surface\",\"colorbar\":{\"outlinewidth\":0,\"ticks\":\"\"},\"colorscale\":[[0.0,\"#0d0887\"],[0.1111111111111111,\"#46039f\"],[0.2222222222222222,\"#7201a8\"],[0.3333333333333333,\"#9c179e\"],[0.4444444444444444,\"#bd3786\"],[0.5555555555555556,\"#d8576b\"],[0.6666666666666666,\"#ed7953\"],[0.7777777777777778,\"#fb9f3a\"],[0.8888888888888888,\"#fdca26\"],[1.0,\"#f0f921\"]]}],\"mesh3d\":[{\"type\":\"mesh3d\",\"colorbar\":{\"outlinewidth\":0,\"ticks\":\"\"}}],\"scatter\":[{\"fillpattern\":{\"fillmode\":\"overlay\",\"size\":10,\"solidity\":0.2},\"type\":\"scatter\"}],\"parcoords\":[{\"type\":\"parcoords\",\"line\":{\"colorbar\":{\"outlinewidth\":0,\"ticks\":\"\"}}}],\"scatterpolargl\":[{\"type\":\"scatterpolargl\",\"marker\":{\"colorbar\":{\"outlinewidth\":0,\"ticks\":\"\"}}}],\"bar\":[{\"error_x\":{\"color\":\"#2a3f5f\"},\"error_y\":{\"color\":\"#2a3f5f\"},\"marker\":{\"line\":{\"color\":\"#E5ECF6\",\"width\":0.5},\"pattern\":{\"fillmode\":\"overlay\",\"size\":10,\"solidity\":0.2}},\"type\":\"bar\"}],\"scattergeo\":[{\"type\":\"scattergeo\",\"marker\":{\"colorbar\":{\"outlinewidth\":0,\"ticks\":\"\"}}}],\"scatterpolar\":[{\"type\":\"scatterpolar\",\"marker\":{\"colorbar\":{\"outlinewidth\":0,\"ticks\":\"\"}}}],\"histogram\":[{\"marker\":{\"pattern\":{\"fillmode\":\"overlay\",\"size\":10,\"solidity\":0.2}},\"type\":\"histogram\"}],\"scattergl\":[{\"type\":\"scattergl\",\"marker\":{\"colorbar\":{\"outlinewidth\":0,\"ticks\":\"\"}}}],\"scatter3d\":[{\"type\":\"scatter3d\",\"line\":{\"colorbar\":{\"outlinewidth\":0,\"ticks\":\"\"}},\"marker\":{\"colorbar\":{\"outlinewidth\":0,\"ticks\":\"\"}}}],\"scattermapbox\":[{\"type\":\"scattermapbox\",\"marker\":{\"colorbar\":{\"outlinewidth\":0,\"ticks\":\"\"}}}],\"scatterternary\":[{\"type\":\"scatterternary\",\"marker\":{\"colorbar\":{\"outlinewidth\":0,\"ticks\":\"\"}}}],\"scattercarpet\":[{\"type\":\"scattercarpet\",\"marker\":{\"colorbar\":{\"outlinewidth\":0,\"ticks\":\"\"}}}],\"carpet\":[{\"aaxis\":{\"endlinecolor\":\"#2a3f5f\",\"gridcolor\":\"white\",\"linecolor\":\"white\",\"minorgridcolor\":\"white\",\"startlinecolor\":\"#2a3f5f\"},\"baxis\":{\"endlinecolor\":\"#2a3f5f\",\"gridcolor\":\"white\",\"linecolor\":\"white\",\"minorgridcolor\":\"white\",\"startlinecolor\":\"#2a3f5f\"},\"type\":\"carpet\"}],\"table\":[{\"cells\":{\"fill\":{\"color\":\"#EBF0F8\"},\"line\":{\"color\":\"white\"}},\"header\":{\"fill\":{\"color\":\"#C8D4E3\"},\"line\":{\"color\":\"white\"}},\"type\":\"table\"}],\"barpolar\":[{\"marker\":{\"line\":{\"color\":\"#E5ECF6\",\"width\":0.5},\"pattern\":{\"fillmode\":\"overlay\",\"size\":10,\"solidity\":0.2}},\"type\":\"barpolar\"}],\"pie\":[{\"automargin\":true,\"type\":\"pie\"}]},\"layout\":{\"autotypenumbers\":\"strict\",\"colorway\":[\"#636efa\",\"#EF553B\",\"#00cc96\",\"#ab63fa\",\"#FFA15A\",\"#19d3f3\",\"#FF6692\",\"#B6E880\",\"#FF97FF\",\"#FECB52\"],\"font\":{\"color\":\"#2a3f5f\"},\"hovermode\":\"closest\",\"hoverlabel\":{\"align\":\"left\"},\"paper_bgcolor\":\"white\",\"plot_bgcolor\":\"#E5ECF6\",\"polar\":{\"bgcolor\":\"#E5ECF6\",\"angularaxis\":{\"gridcolor\":\"white\",\"linecolor\":\"white\",\"ticks\":\"\"},\"radialaxis\":{\"gridcolor\":\"white\",\"linecolor\":\"white\",\"ticks\":\"\"}},\"ternary\":{\"bgcolor\":\"#E5ECF6\",\"aaxis\":{\"gridcolor\":\"white\",\"linecolor\":\"white\",\"ticks\":\"\"},\"baxis\":{\"gridcolor\":\"white\",\"linecolor\":\"white\",\"ticks\":\"\"},\"caxis\":{\"gridcolor\":\"white\",\"linecolor\":\"white\",\"ticks\":\"\"}},\"coloraxis\":{\"colorbar\":{\"outlinewidth\":0,\"ticks\":\"\"}},\"colorscale\":{\"sequential\":[[0.0,\"#0d0887\"],[0.1111111111111111,\"#46039f\"],[0.2222222222222222,\"#7201a8\"],[0.3333333333333333,\"#9c179e\"],[0.4444444444444444,\"#bd3786\"],[0.5555555555555556,\"#d8576b\"],[0.6666666666666666,\"#ed7953\"],[0.7777777777777778,\"#fb9f3a\"],[0.8888888888888888,\"#fdca26\"],[1.0,\"#f0f921\"]],\"sequentialminus\":[[0.0,\"#0d0887\"],[0.1111111111111111,\"#46039f\"],[0.2222222222222222,\"#7201a8\"],[0.3333333333333333,\"#9c179e\"],[0.4444444444444444,\"#bd3786\"],[0.5555555555555556,\"#d8576b\"],[0.6666666666666666,\"#ed7953\"],[0.7777777777777778,\"#fb9f3a\"],[0.8888888888888888,\"#fdca26\"],[1.0,\"#f0f921\"]],\"diverging\":[[0,\"#8e0152\"],[0.1,\"#c51b7d\"],[0.2,\"#de77ae\"],[0.3,\"#f1b6da\"],[0.4,\"#fde0ef\"],[0.5,\"#f7f7f7\"],[0.6,\"#e6f5d0\"],[0.7,\"#b8e186\"],[0.8,\"#7fbc41\"],[0.9,\"#4d9221\"],[1,\"#276419\"]]},\"xaxis\":{\"gridcolor\":\"white\",\"linecolor\":\"white\",\"ticks\":\"\",\"title\":{\"standoff\":15},\"zerolinecolor\":\"white\",\"automargin\":true,\"zerolinewidth\":2},\"yaxis\":{\"gridcolor\":\"white\",\"linecolor\":\"white\",\"ticks\":\"\",\"title\":{\"standoff\":15},\"zerolinecolor\":\"white\",\"automargin\":true,\"zerolinewidth\":2},\"scene\":{\"xaxis\":{\"backgroundcolor\":\"#E5ECF6\",\"gridcolor\":\"white\",\"linecolor\":\"white\",\"showbackground\":true,\"ticks\":\"\",\"zerolinecolor\":\"white\",\"gridwidth\":2},\"yaxis\":{\"backgroundcolor\":\"#E5ECF6\",\"gridcolor\":\"white\",\"linecolor\":\"white\",\"showbackground\":true,\"ticks\":\"\",\"zerolinecolor\":\"white\",\"gridwidth\":2},\"zaxis\":{\"backgroundcolor\":\"#E5ECF6\",\"gridcolor\":\"white\",\"linecolor\":\"white\",\"showbackground\":true,\"ticks\":\"\",\"zerolinecolor\":\"white\",\"gridwidth\":2}},\"shapedefaults\":{\"line\":{\"color\":\"#2a3f5f\"}},\"annotationdefaults\":{\"arrowcolor\":\"#2a3f5f\",\"arrowhead\":0,\"arrowwidth\":1},\"geo\":{\"bgcolor\":\"white\",\"landcolor\":\"#E5ECF6\",\"subunitcolor\":\"white\",\"showland\":true,\"showlakes\":true,\"lakecolor\":\"white\"},\"title\":{\"x\":0.05},\"mapbox\":{\"style\":\"light\"}}},\"xaxis\":{\"anchor\":\"y\",\"domain\":[0.0,1.0],\"title\":{\"text\":\"Date\"}},\"yaxis\":{\"anchor\":\"x\",\"domain\":[0.0,1.0],\"title\":{\"text\":\"Close\"}},\"coloraxis\":{\"colorbar\":{\"title\":{\"text\":\"Year\"}},\"colorscale\":[[0.0,\"#0d0887\"],[0.1111111111111111,\"#46039f\"],[0.2222222222222222,\"#7201a8\"],[0.3333333333333333,\"#9c179e\"],[0.4444444444444444,\"#bd3786\"],[0.5555555555555556,\"#d8576b\"],[0.6666666666666666,\"#ed7953\"],[0.7777777777777778,\"#fb9f3a\"],[0.8888888888888888,\"#fdca26\"],[1.0,\"#f0f921\"]]},\"legend\":{\"tracegroupgap\":0},\"margin\":{\"t\":60}},                        {\"responsive\": true}                    ).then(function(){\n",
              "                            \n",
              "var gd = document.getElementById('8d6eb92b-cace-4126-b1be-615e83555e72');\n",
              "var x = new MutationObserver(function (mutations, observer) {{\n",
              "        var display = window.getComputedStyle(gd).display;\n",
              "        if (!display || display === 'none') {{\n",
              "            console.log([gd, 'removed!']);\n",
              "            Plotly.purge(gd);\n",
              "            observer.disconnect();\n",
              "        }}\n",
              "}});\n",
              "\n",
              "// Listen for the removal of the full notebook cells\n",
              "var notebookContainer = gd.closest('#notebook-container');\n",
              "if (notebookContainer) {{\n",
              "    x.observe(notebookContainer, {childList: true});\n",
              "}}\n",
              "\n",
              "// Listen for the clearing of the current output cell\n",
              "var outputEl = gd.closest('.output');\n",
              "if (outputEl) {{\n",
              "    x.observe(outputEl, {childList: true});\n",
              "}}\n",
              "\n",
              "                        })                };                            </script>        </div>\n",
              "</body>\n",
              "</html>"
            ]
          },
          "metadata": {}
        }
      ]
    },
    {
      "cell_type": "markdown",
      "source": [
        "As the dataset is a timeseries data we are using open, high, lo, close columns for both input and output variables."
      ],
      "metadata": {
        "id": "QEZ15_bm8-dP"
      }
    },
    {
      "cell_type": "code",
      "source": [
        "x = data[['Open','High','Low','Close']].values\n",
        "y = data[['Open','High','Low','Close']].values"
      ],
      "metadata": {
        "id": "k2sm8CvrGIBn"
      },
      "execution_count": 17,
      "outputs": []
    },
    {
      "cell_type": "markdown",
      "source": [
        "Splitting the data into training and testing data."
      ],
      "metadata": {
        "id": "zSCAsh679PVE"
      }
    },
    {
      "cell_type": "code",
      "source": [
        "x_train,x_test,y_train,y_test = train_test_split(x,y,test_size=0.3,random_state=180)"
      ],
      "metadata": {
        "id": "k6j7juRsG3KX"
      },
      "execution_count": 18,
      "outputs": []
    },
    {
      "cell_type": "code",
      "source": [
        "n_features = x_train.shape\n",
        "n_features"
      ],
      "metadata": {
        "colab": {
          "base_uri": "https://localhost:8080/"
        },
        "id": "slvQ6uRnSwP1",
        "outputId": "79cde452-dfb4-4c90-c669-22f8350d92a1"
      },
      "execution_count": 19,
      "outputs": [
        {
          "output_type": "execute_result",
          "data": {
            "text/plain": [
              "(1449, 4)"
            ]
          },
          "metadata": {},
          "execution_count": 19
        }
      ]
    },
    {
      "cell_type": "markdown",
      "source": [
        "Creating a LSTM model based on the input and output variables."
      ],
      "metadata": {
        "id": "ZiZypYTp9UrI"
      }
    },
    {
      "cell_type": "code",
      "source": [
        "# create and fit the LSTM network\n",
        "model = Sequential()\n",
        "model.add(LSTM(120, activation='relu', return_sequences=True, input_shape=(4, 1)))\n",
        "model.add(LSTM(120, activation='relu'))\n",
        "model.add(Dense(80, activation='linear'))\n",
        "model.add(Dense(4, activation='linear'))\n",
        "model.compile(loss='MeanSquaredError', optimizer='adam', metrics=['accuracy'])\n",
        "model.fit(x, y, epochs=10, batch_size=10, verbose=2)\n"
      ],
      "metadata": {
        "colab": {
          "base_uri": "https://localhost:8080/"
        },
        "id": "RLofL_zQLjuG",
        "outputId": "2b22d0e9-5f0e-4d89-a13b-ae2f87135be7"
      },
      "execution_count": 20,
      "outputs": [
        {
          "output_type": "stream",
          "name": "stdout",
          "text": [
            "Epoch 1/10\n",
            "208/208 - 3s - loss: 127018.5078 - accuracy: 0.6591 - 3s/epoch - 16ms/step\n",
            "Epoch 2/10\n",
            "208/208 - 1s - loss: 2405.8772 - accuracy: 0.8199 - 1s/epoch - 6ms/step\n",
            "Epoch 3/10\n",
            "208/208 - 2s - loss: 2132.1699 - accuracy: 0.8484 - 2s/epoch - 8ms/step\n",
            "Epoch 4/10\n",
            "208/208 - 1s - loss: 2442.7507 - accuracy: 0.8551 - 1s/epoch - 6ms/step\n",
            "Epoch 5/10\n",
            "208/208 - 2s - loss: 3553.0811 - accuracy: 0.7764 - 2s/epoch - 8ms/step\n",
            "Epoch 6/10\n",
            "208/208 - 2s - loss: 2648.0061 - accuracy: 0.7948 - 2s/epoch - 9ms/step\n",
            "Epoch 7/10\n",
            "208/208 - 2s - loss: 2743.6526 - accuracy: 0.8315 - 2s/epoch - 9ms/step\n",
            "Epoch 8/10\n",
            "208/208 - 2s - loss: 2539.1646 - accuracy: 0.8320 - 2s/epoch - 10ms/step\n",
            "Epoch 9/10\n",
            "208/208 - 3s - loss: 2782.5381 - accuracy: 0.7117 - 3s/epoch - 13ms/step\n",
            "Epoch 10/10\n",
            "208/208 - 2s - loss: 2456.3704 - accuracy: 0.7764 - 2s/epoch - 10ms/step\n"
          ]
        },
        {
          "output_type": "execute_result",
          "data": {
            "text/plain": [
              "<keras.callbacks.History at 0x7f00345ec0d0>"
            ]
          },
          "metadata": {},
          "execution_count": 20
        }
      ]
    },
    {
      "cell_type": "markdown",
      "source": [
        "Testing model performance for the testing data."
      ],
      "metadata": {
        "id": "aMSZQ8r29f0r"
      }
    },
    {
      "cell_type": "code",
      "source": [
        "y_pred = model.predict(x_test)"
      ],
      "metadata": {
        "colab": {
          "base_uri": "https://localhost:8080/"
        },
        "id": "ZPvkIlmBMNFk",
        "outputId": "3d414440-1eee-4e02-9dec-cd1f0d0839e2"
      },
      "execution_count": 21,
      "outputs": [
        {
          "output_type": "stream",
          "name": "stdout",
          "text": [
            "20/20 [==============================] - 0s 5ms/step\n"
          ]
        }
      ]
    },
    {
      "cell_type": "code",
      "source": [
        "y_pred"
      ],
      "metadata": {
        "colab": {
          "base_uri": "https://localhost:8080/"
        },
        "id": "v2z0H_hgMRa5",
        "outputId": "bb9c2f43-bc18-4d7b-aa44-b8aab84e00eb"
      },
      "execution_count": 22,
      "outputs": [
        {
          "output_type": "execute_result",
          "data": {
            "text/plain": [
              "array([[ 159.97604,  171.13283,  157.19514,  170.7283 ],\n",
              "       [1771.9353 , 1906.5953 , 1740.1969 , 1896.574  ],\n",
              "       [1572.3827 , 1693.0127 , 1545.3861 , 1685.312  ],\n",
              "       ...,\n",
              "       [2742.9832 , 2955.2324 , 2696.215  , 2942.597  ],\n",
              "       [ 443.9077 ,  477.64426,  435.70825,  475.24045],\n",
              "       [ 593.21466,  638.2307 ,  582.8389 ,  635.4333 ]], dtype=float32)"
            ]
          },
          "metadata": {},
          "execution_count": 22
        }
      ]
    },
    {
      "cell_type": "code",
      "source": [],
      "metadata": {
        "id": "qoib70oSRYBD"
      },
      "execution_count": 22,
      "outputs": []
    },
    {
      "cell_type": "code",
      "source": [],
      "metadata": {
        "id": "wzixBg06T_LY"
      },
      "execution_count": 22,
      "outputs": []
    },
    {
      "cell_type": "markdown",
      "source": [
        "Reshaping the predicted output into the input(testing data) shape."
      ],
      "metadata": {
        "id": "NP7f72aP-En3"
      }
    },
    {
      "cell_type": "code",
      "source": [
        "y_pred=y_pred.reshape(y_test.shape)"
      ],
      "metadata": {
        "id": "I5uNGCiAUCmz"
      },
      "execution_count": 23,
      "outputs": []
    },
    {
      "cell_type": "code",
      "source": [
        "y_test.shape"
      ],
      "metadata": {
        "colab": {
          "base_uri": "https://localhost:8080/"
        },
        "id": "blw4fyBPZ2Iy",
        "outputId": "f4fcc216-a0e2-46da-9a1a-30899b0b29d3"
      },
      "execution_count": 24,
      "outputs": [
        {
          "output_type": "execute_result",
          "data": {
            "text/plain": [
              "(622, 4)"
            ]
          },
          "metadata": {},
          "execution_count": 24
        }
      ]
    },
    {
      "cell_type": "code",
      "source": [
        "y_pred.shape"
      ],
      "metadata": {
        "colab": {
          "base_uri": "https://localhost:8080/"
        },
        "id": "NWBRBYTtRVfX",
        "outputId": "6f3d31bd-1993-4a2d-ef84-e108cd989047"
      },
      "execution_count": 25,
      "outputs": [
        {
          "output_type": "execute_result",
          "data": {
            "text/plain": [
              "(622, 4)"
            ]
          },
          "metadata": {},
          "execution_count": 25
        }
      ]
    },
    {
      "cell_type": "markdown",
      "source": [
        "Calculating the difference between actual and predicted output."
      ],
      "metadata": {
        "id": "_uT6QUKU-Pkf"
      }
    },
    {
      "cell_type": "code",
      "source": [
        "diff = y_test[:,2:3] - y_pred[:,2:3]"
      ],
      "metadata": {
        "id": "zTRCxYKmXKWY"
      },
      "execution_count": 26,
      "outputs": []
    },
    {
      "cell_type": "code",
      "source": [
        "diff"
      ],
      "metadata": {
        "colab": {
          "base_uri": "https://localhost:8080/"
        },
        "id": "tokqUibTXWDs",
        "outputId": "e7647ddd-ca9b-4af2-ea77-1856c80ffabc"
      },
      "execution_count": 27,
      "outputs": [
        {
          "output_type": "execute_result",
          "data": {
            "text/plain": [
              "array([[-3.34814453e+00],\n",
              "       [ 4.82786865e+01],\n",
              "       [ 2.35987549e+01],\n",
              "       [ 7.13397217e+00],\n",
              "       [-1.87305603e+01],\n",
              "       [ 6.08059692e+00],\n",
              "       [ 2.43345947e+01],\n",
              "       [ 2.18275452e+00],\n",
              "       [ 3.07546387e+01],\n",
              "       [ 9.54421997e-01],\n",
              "       [-5.35327148e+01],\n",
              "       [-5.85676270e+01],\n",
              "       [-8.78479004e+00],\n",
              "       [ 4.24346924e+00],\n",
              "       [ 7.37026367e+01],\n",
              "       [-1.08251953e+01],\n",
              "       [ 5.20429688e+01],\n",
              "       [ 1.84782410e+00],\n",
              "       [ 3.80683899e-01],\n",
              "       [ 1.10603333e+00],\n",
              "       [-3.80687256e+02],\n",
              "       [ 1.83209229e+01],\n",
              "       [-2.27580566e+01],\n",
              "       [ 3.89251709e-01],\n",
              "       [ 5.48151855e+01],\n",
              "       [ 4.39003906e+01],\n",
              "       [-1.65074463e+01],\n",
              "       [-5.95104980e+00],\n",
              "       [-8.38867188e+01],\n",
              "       [-1.01940918e+00],\n",
              "       [-2.69247437e+01],\n",
              "       [ 4.12707520e+01],\n",
              "       [ 3.22851562e+00],\n",
              "       [ 5.37889404e+01],\n",
              "       [-2.49159241e+00],\n",
              "       [ 9.90631104e-01],\n",
              "       [ 8.88092041e+00],\n",
              "       [ 6.88569336e+01],\n",
              "       [-3.17834473e+00],\n",
              "       [ 2.93934326e+01],\n",
              "       [-5.77850342e-01],\n",
              "       [ 6.56661987e+00],\n",
              "       [ 7.59231567e-01],\n",
              "       [-5.23664856e+00],\n",
              "       [ 3.56478882e+00],\n",
              "       [-1.99142456e+00],\n",
              "       [-5.80410767e+00],\n",
              "       [ 2.91336060e+00],\n",
              "       [ 4.35098267e+00],\n",
              "       [ 2.80717773e+01],\n",
              "       [-7.19879150e+00],\n",
              "       [ 7.90893555e+00],\n",
              "       [-6.35748291e+00],\n",
              "       [ 4.70156250e+01],\n",
              "       [ 2.02239990e+00],\n",
              "       [-4.88668213e+01],\n",
              "       [ 3.14195557e+01],\n",
              "       [ 4.85961914e+00],\n",
              "       [ 4.48440552e-01],\n",
              "       [ 7.85150146e+00],\n",
              "       [ 2.92993164e+00],\n",
              "       [-1.06396484e+02],\n",
              "       [ 6.87744141e-01],\n",
              "       [-1.29570923e+01],\n",
              "       [ 2.92005920e+00],\n",
              "       [-9.82055664e-02],\n",
              "       [-9.37934570e+01],\n",
              "       [-4.99816895e+00],\n",
              "       [ 2.90347900e+01],\n",
              "       [-1.77106934e+01],\n",
              "       [-8.85635376e-01],\n",
              "       [-5.30953979e+00],\n",
              "       [ 5.58319092e-02],\n",
              "       [ 1.54658508e+00],\n",
              "       [-3.34282227e+01],\n",
              "       [ 2.53103027e+01],\n",
              "       [-1.17059326e+00],\n",
              "       [-2.40554199e+01],\n",
              "       [ 3.07034302e+00],\n",
              "       [-4.47889709e+00],\n",
              "       [ 1.24464417e+00],\n",
              "       [ 5.59814453e+01],\n",
              "       [-1.25006714e+01],\n",
              "       [-2.47849121e+01],\n",
              "       [ 2.05650635e+01],\n",
              "       [ 1.75808105e+01],\n",
              "       [ 1.43914795e+01],\n",
              "       [-5.11434937e+00],\n",
              "       [ 4.33577881e+01],\n",
              "       [ 1.24861145e+00],\n",
              "       [-1.38952026e+01],\n",
              "       [-6.41516113e+00],\n",
              "       [-9.10324097e-01],\n",
              "       [-2.42932129e+00],\n",
              "       [ 1.14782104e+01],\n",
              "       [ 2.76411438e+00],\n",
              "       [ 4.23144531e+01],\n",
              "       [ 1.28458252e+01],\n",
              "       [ 3.15164795e+01],\n",
              "       [-1.02380127e+02],\n",
              "       [ 4.12446289e+01],\n",
              "       [-7.69018555e+00],\n",
              "       [ 8.41232910e+01],\n",
              "       [ 3.28786621e+01],\n",
              "       [ 2.24571228e+00],\n",
              "       [ 1.53871155e+00],\n",
              "       [-4.81453857e+01],\n",
              "       [ 3.83571777e+01],\n",
              "       [ 2.55271912e+00],\n",
              "       [ 1.26296997e+00],\n",
              "       [-1.30126953e-01],\n",
              "       [-4.34356689e+00],\n",
              "       [-3.52114868e+00],\n",
              "       [ 1.18493042e+01],\n",
              "       [-7.59887695e-01],\n",
              "       [ 3.76953125e+00],\n",
              "       [ 3.63057861e+01],\n",
              "       [ 1.72868347e+00],\n",
              "       [-1.02136230e+01],\n",
              "       [-1.40987701e+01],\n",
              "       [ 6.21469116e+00],\n",
              "       [ 1.04135132e+00],\n",
              "       [ 5.66418457e+00],\n",
              "       [ 4.64029541e+01],\n",
              "       [ 3.04218750e+01],\n",
              "       [-2.98170166e+01],\n",
              "       [ 5.14732361e-01],\n",
              "       [-9.35684204e-01],\n",
              "       [ 3.20185852e+00],\n",
              "       [ 5.49571533e+01],\n",
              "       [ 4.42933655e+00],\n",
              "       [-2.65704346e+00],\n",
              "       [ 9.56630859e+01],\n",
              "       [ 5.39975586e+01],\n",
              "       [-2.64140320e+00],\n",
              "       [-1.13731689e+01],\n",
              "       [ 2.14012146e+00],\n",
              "       [-1.02041626e+00],\n",
              "       [ 3.33497620e+00],\n",
              "       [ 1.61486816e+00],\n",
              "       [ 2.87176514e+01],\n",
              "       [ 1.53599548e+00],\n",
              "       [ 1.02993774e+01],\n",
              "       [ 7.99560547e-03],\n",
              "       [ 2.47282715e+01],\n",
              "       [ 1.32254944e+01],\n",
              "       [-4.13677979e+00],\n",
              "       [ 6.75170898e-01],\n",
              "       [ 2.10522461e+00],\n",
              "       [-1.80495453e+00],\n",
              "       [ 2.81822510e+01],\n",
              "       [ 3.10630798e+00],\n",
              "       [ 1.50748291e+01],\n",
              "       [ 4.58677979e+01],\n",
              "       [ 3.41816406e+01],\n",
              "       [ 1.07250977e+00],\n",
              "       [-1.91833496e-01],\n",
              "       [ 5.50905762e+01],\n",
              "       [ 1.26040649e+01],\n",
              "       [ 3.95797729e+00],\n",
              "       [ 2.44021606e+00],\n",
              "       [-4.53814697e+00],\n",
              "       [ 1.95162964e+00],\n",
              "       [ 2.48199463e-01],\n",
              "       [ 5.55514526e+00],\n",
              "       [-1.59275055e+00],\n",
              "       [ 3.20692444e+00],\n",
              "       [ 4.67211914e+01],\n",
              "       [ 1.58340454e+00],\n",
              "       [ 3.55375671e+00],\n",
              "       [ 2.99898682e+01],\n",
              "       [ 2.12716675e+00],\n",
              "       [ 1.99781494e+01],\n",
              "       [ 5.22467041e+01],\n",
              "       [ 1.96041870e+00],\n",
              "       [-2.57418823e+00],\n",
              "       [ 4.45840454e+00],\n",
              "       [ 2.75271606e+00],\n",
              "       [-3.77719116e+00],\n",
              "       [-9.98092651e-01],\n",
              "       [ 1.47691345e+00],\n",
              "       [-1.64575195e+00],\n",
              "       [ 2.72106934e+00],\n",
              "       [ 1.29409790e+00],\n",
              "       [ 3.47021484e+01],\n",
              "       [-3.32093811e+00],\n",
              "       [ 2.19592285e+00],\n",
              "       [ 1.49684143e+00],\n",
              "       [ 3.49674988e+00],\n",
              "       [ 1.82643127e+00],\n",
              "       [-1.68022461e+01],\n",
              "       [ 8.20571899e-01],\n",
              "       [-3.16767120e+00],\n",
              "       [-3.31123352e+00],\n",
              "       [-8.66500854e-01],\n",
              "       [ 5.01246338e+01],\n",
              "       [ 1.70144653e+00],\n",
              "       [-2.63879395e+00],\n",
              "       [ 3.86444092e+00],\n",
              "       [ 3.23339844e+00],\n",
              "       [ 3.06666565e+00],\n",
              "       [ 2.04339600e+00],\n",
              "       [-2.36262512e+00],\n",
              "       [-3.74650574e+00],\n",
              "       [ 1.52365112e+00],\n",
              "       [-2.07083130e+00],\n",
              "       [-1.76333008e+01],\n",
              "       [ 3.19929504e+00],\n",
              "       [ 1.74621582e-01],\n",
              "       [-7.85791016e+00],\n",
              "       [ 2.31086426e+01],\n",
              "       [-4.03756714e+00],\n",
              "       [ 3.86536865e+01],\n",
              "       [-1.40050964e+01],\n",
              "       [ 1.15874023e+01],\n",
              "       [-1.21472168e+01],\n",
              "       [ 5.58408203e+01],\n",
              "       [ 1.04000854e+00],\n",
              "       [-1.41621948e+02],\n",
              "       [ 3.54858398e+00],\n",
              "       [ 4.75925293e+01],\n",
              "       [-1.03998413e+01],\n",
              "       [ 2.08412170e+00],\n",
              "       [ 1.67689514e+00],\n",
              "       [-3.31467285e+01],\n",
              "       [ 4.42010498e+00],\n",
              "       [ 1.26472473e+00],\n",
              "       [ 2.87733459e+00],\n",
              "       [-1.21450195e+01],\n",
              "       [-1.48663330e+00],\n",
              "       [ 3.38815918e+01],\n",
              "       [-1.57421875e+00],\n",
              "       [ 1.55892944e+00],\n",
              "       [-3.11342163e+01],\n",
              "       [ 1.26252747e+00],\n",
              "       [ 2.25541992e+01],\n",
              "       [ 4.20947266e+00],\n",
              "       [ 2.20764160e+00],\n",
              "       [-2.25097656e+00],\n",
              "       [ 1.20502930e+01],\n",
              "       [-8.16040039e+00],\n",
              "       [ 2.96826172e+01],\n",
              "       [-3.90594482e+00],\n",
              "       [ 1.01008606e+00],\n",
              "       [-9.41826172e+01],\n",
              "       [ 1.20391846e-01],\n",
              "       [-1.08746185e+01],\n",
              "       [ 3.77047729e+00],\n",
              "       [ 2.62109375e+00],\n",
              "       [ 1.60162354e+00],\n",
              "       [-7.58496094e+01],\n",
              "       [ 3.04571533e+00],\n",
              "       [ 2.95944214e-01],\n",
              "       [-2.48237305e+01],\n",
              "       [ 6.06605530e-01],\n",
              "       [ 3.14283752e+00],\n",
              "       [ 7.69277954e+00],\n",
              "       [ 3.56983948e+00],\n",
              "       [ 3.54415894e-01],\n",
              "       [ 2.60345459e+00],\n",
              "       [-5.55407104e+01],\n",
              "       [ 7.51123047e+01],\n",
              "       [-2.39756775e+00],\n",
              "       [ 4.50799561e+00],\n",
              "       [ 9.66629028e+00],\n",
              "       [ 5.94177246e+00],\n",
              "       [ 2.00559082e+01],\n",
              "       [-2.90595093e+01],\n",
              "       [-1.62184143e+00],\n",
              "       [ 3.96003723e+00],\n",
              "       [ 2.21678467e+01],\n",
              "       [ 2.76498413e+00],\n",
              "       [ 1.15539551e+00],\n",
              "       [ 1.22283936e-01],\n",
              "       [ 4.27250977e+01],\n",
              "       [ 2.20514679e+00],\n",
              "       [ 3.58288574e+00],\n",
              "       [-9.98535156e+00],\n",
              "       [ 5.26770020e+01],\n",
              "       [ 5.69580078e+00],\n",
              "       [ 1.78488770e+01],\n",
              "       [ 1.41949463e+00],\n",
              "       [ 3.48714600e+01],\n",
              "       [-6.59533691e+01],\n",
              "       [ 7.08532715e+00],\n",
              "       [ 3.93762207e+01],\n",
              "       [ 3.97857666e-01],\n",
              "       [-3.23336792e+01],\n",
              "       [ 9.78584290e-01],\n",
              "       [ 9.42346191e+00],\n",
              "       [ 1.66421509e+00],\n",
              "       [ 4.05312500e+01],\n",
              "       [-1.52792969e+01],\n",
              "       [ 4.77340698e-01],\n",
              "       [-3.65213623e+01],\n",
              "       [-2.49896240e+00],\n",
              "       [ 3.40766907e+00],\n",
              "       [-1.80299377e+00],\n",
              "       [ 2.17878723e+00],\n",
              "       [ 4.17163086e+00],\n",
              "       [ 7.83401489e-01],\n",
              "       [-1.47138977e+00],\n",
              "       [ 1.77897644e+00],\n",
              "       [ 5.01953125e+01],\n",
              "       [ 7.97512817e+00],\n",
              "       [-6.94604492e+00],\n",
              "       [ 2.51202393e+00],\n",
              "       [ 3.92799072e+01],\n",
              "       [ 2.09613037e+01],\n",
              "       [ 3.44030762e+00],\n",
              "       [-4.84616089e+00],\n",
              "       [ 3.63400269e+00],\n",
              "       [ 2.37265015e+00],\n",
              "       [ 9.17504883e+00],\n",
              "       [-2.03826904e-01],\n",
              "       [ 4.40904236e+00],\n",
              "       [ 3.25288086e+01],\n",
              "       [ 2.25646973e+00],\n",
              "       [-5.54367065e-01],\n",
              "       [ 1.04426758e+02],\n",
              "       [-1.13510132e+00],\n",
              "       [-6.92529297e+00],\n",
              "       [ 1.98651123e+00],\n",
              "       [ 2.34533691e+01],\n",
              "       [-2.08031006e+01],\n",
              "       [ 2.60955811e-01],\n",
              "       [ 1.03779297e+01],\n",
              "       [ 1.91566467e+00],\n",
              "       [ 1.09053955e+01],\n",
              "       [-5.38239746e+01],\n",
              "       [ 3.12419434e+01],\n",
              "       [-1.31782532e+00],\n",
              "       [ 2.24174805e+01],\n",
              "       [ 3.11418457e+01],\n",
              "       [ 2.28599548e+00],\n",
              "       [-2.79804077e+01],\n",
              "       [ 2.72079468e+00],\n",
              "       [ 1.17767334e+01],\n",
              "       [ 2.83856201e+00],\n",
              "       [-4.90429688e+00],\n",
              "       [ 2.30517578e+00],\n",
              "       [-3.03811035e+01],\n",
              "       [-6.10456543e+01],\n",
              "       [ 9.96972656e+00],\n",
              "       [ 5.92138672e+00],\n",
              "       [-7.65405273e+00],\n",
              "       [ 1.53232422e+01],\n",
              "       [ 2.88885498e+00],\n",
              "       [ 5.85854492e+01],\n",
              "       [ 3.78408203e+01],\n",
              "       [ 1.89862061e+01],\n",
              "       [ 1.88356018e+00],\n",
              "       [ 2.03459167e+00],\n",
              "       [ 1.47126770e+00],\n",
              "       [ 7.25787354e+00],\n",
              "       [ 1.69894409e+00],\n",
              "       [ 3.79360352e+01],\n",
              "       [-3.27777100e+00],\n",
              "       [-1.14739990e+00],\n",
              "       [ 4.70306396e-01],\n",
              "       [-2.77101135e+00],\n",
              "       [ 9.94409180e+01],\n",
              "       [-1.61793213e+02],\n",
              "       [ 6.92861938e+00],\n",
              "       [ 4.25942993e+00],\n",
              "       [-1.28179443e+02],\n",
              "       [ 2.73657227e+00],\n",
              "       [ 2.83782959e-01],\n",
              "       [-2.02832031e+01],\n",
              "       [ 3.79586182e+01],\n",
              "       [ 4.45797729e+00],\n",
              "       [-4.68835449e+00],\n",
              "       [ 2.14233398e+00],\n",
              "       [-1.18731079e+01],\n",
              "       [-2.46389771e+00],\n",
              "       [ 2.54304199e+01],\n",
              "       [ 1.83963623e+01],\n",
              "       [-3.54436035e+01],\n",
              "       [-7.17343750e+01],\n",
              "       [ 1.43971252e+00],\n",
              "       [-1.65488281e+01],\n",
              "       [ 4.54888916e+01],\n",
              "       [ 1.96077881e+01],\n",
              "       [ 6.06579590e+00],\n",
              "       [ 3.55091553e+01],\n",
              "       [-2.13062744e+02],\n",
              "       [-4.18920898e+01],\n",
              "       [ 2.80587769e+00],\n",
              "       [-4.17376709e+00],\n",
              "       [-2.73925781e-01],\n",
              "       [ 2.39919434e+01],\n",
              "       [ 9.45815430e+01],\n",
              "       [-2.79312134e+00],\n",
              "       [-2.81665039e+00],\n",
              "       [-4.43730469e+01],\n",
              "       [ 4.54970703e+01],\n",
              "       [ 4.73114014e-01],\n",
              "       [-8.33952637e+01],\n",
              "       [-6.27856445e+00],\n",
              "       [ 2.56483459e+00],\n",
              "       [ 7.50634766e+00],\n",
              "       [ 6.93161011e+00],\n",
              "       [ 4.16380310e+00],\n",
              "       [ 3.65002441e+00],\n",
              "       [ 1.57635498e+00],\n",
              "       [-2.47764893e+01],\n",
              "       [-9.32904053e+00],\n",
              "       [-5.42306519e+00],\n",
              "       [ 4.54156494e+01],\n",
              "       [ 1.42175293e+01],\n",
              "       [ 3.37167358e+00],\n",
              "       [ 2.11062622e+00],\n",
              "       [-5.50993652e+01],\n",
              "       [ 5.03329468e+00],\n",
              "       [ 4.52874756e+00],\n",
              "       [ 6.95200195e+01],\n",
              "       [-4.31723633e+01],\n",
              "       [-2.85992432e+00],\n",
              "       [ 1.00211182e+01],\n",
              "       [ 1.63877869e+00],\n",
              "       [ 3.05915833e+00],\n",
              "       [ 2.91652832e+01],\n",
              "       [ 5.78134766e+01],\n",
              "       [-1.24763184e+01],\n",
              "       [-1.54471558e+02],\n",
              "       [ 5.59811401e+00],\n",
              "       [ 3.43904114e+00],\n",
              "       [-5.67944336e+00],\n",
              "       [ 2.53935242e+00],\n",
              "       [ 7.13752441e+01],\n",
              "       [ 2.11398926e+01],\n",
              "       [ 2.11118164e+01],\n",
              "       [ 3.06890869e+01],\n",
              "       [-1.37617188e+01],\n",
              "       [-1.51815796e+00],\n",
              "       [-1.18112793e+01],\n",
              "       [-6.00317383e+01],\n",
              "       [-5.60195923e+01],\n",
              "       [ 8.14724121e+01],\n",
              "       [-2.17966309e+01],\n",
              "       [-1.53715515e+00],\n",
              "       [ 1.88551331e+00],\n",
              "       [-3.33083496e+01],\n",
              "       [ 4.16705322e+00],\n",
              "       [ 3.11047363e+00],\n",
              "       [ 1.15105591e+01],\n",
              "       [-1.40270386e+01],\n",
              "       [-1.78741455e+01],\n",
              "       [ 2.84820557e+00],\n",
              "       [-2.42155762e+01],\n",
              "       [ 2.37055969e+00],\n",
              "       [ 2.36981201e+01],\n",
              "       [ 3.14810181e+00],\n",
              "       [-1.22362793e+02],\n",
              "       [ 2.25451660e+00],\n",
              "       [ 9.16787109e+01],\n",
              "       [-2.69857788e+00],\n",
              "       [-1.52674255e+01],\n",
              "       [ 5.66831055e+01],\n",
              "       [-9.08233643e-01],\n",
              "       [-1.53320312e-01],\n",
              "       [ 3.29602051e+00],\n",
              "       [ 4.47242737e+00],\n",
              "       [-3.39782715e-01],\n",
              "       [ 8.65722656e-01],\n",
              "       [ 2.81198120e+00],\n",
              "       [-8.57612610e+00],\n",
              "       [ 6.34409180e+01],\n",
              "       [ 1.41014404e+01],\n",
              "       [ 5.36395264e+00],\n",
              "       [ 8.47015381e+00],\n",
              "       [-2.61019897e+00],\n",
              "       [ 6.72378540e+00],\n",
              "       [-6.55018311e+01],\n",
              "       [ 4.09075928e+01],\n",
              "       [-1.58420410e+01],\n",
              "       [ 1.68298340e+01],\n",
              "       [-9.34155273e+00],\n",
              "       [ 2.43890381e+01],\n",
              "       [-6.07652283e+00],\n",
              "       [-2.47186279e+00],\n",
              "       [ 1.74243164e+00],\n",
              "       [ 6.76416016e+00],\n",
              "       [ 5.38228760e+01],\n",
              "       [ 7.45413208e+00],\n",
              "       [-5.99273682e+00],\n",
              "       [-1.30140381e+01],\n",
              "       [-7.40859375e+01],\n",
              "       [ 8.25915527e+00],\n",
              "       [-1.04782715e+01],\n",
              "       [-1.38762207e+01],\n",
              "       [ 6.13464355e+00],\n",
              "       [ 2.35744629e+01],\n",
              "       [ 2.35078430e+00],\n",
              "       [-6.60263672e+01],\n",
              "       [-8.17611694e-01],\n",
              "       [-4.65629578e-01],\n",
              "       [ 2.08985138e+00],\n",
              "       [-5.99237061e+00],\n",
              "       [ 5.65585327e+00],\n",
              "       [-5.42052002e+01],\n",
              "       [-2.88303223e+01],\n",
              "       [ 2.26280518e+01],\n",
              "       [-8.93554688e-02],\n",
              "       [ 3.05013428e+01],\n",
              "       [ 2.89440918e+01],\n",
              "       [ 2.46176147e+00],\n",
              "       [ 3.24838867e+01],\n",
              "       [ 4.94980469e+01],\n",
              "       [ 1.32617188e+00],\n",
              "       [ 1.75610352e+00],\n",
              "       [ 1.37405396e+00],\n",
              "       [-8.02026367e+00],\n",
              "       [ 2.06132507e+00],\n",
              "       [-9.82629395e+00],\n",
              "       [ 1.34690857e+00],\n",
              "       [ 1.85633545e+01],\n",
              "       [ 2.78771973e+01],\n",
              "       [ 1.21820068e+00],\n",
              "       [ 4.46136475e+00],\n",
              "       [ 2.53819275e+00],\n",
              "       [-4.37574463e+01],\n",
              "       [-1.14822510e+02],\n",
              "       [-6.28253174e+00],\n",
              "       [ 2.00047607e+01],\n",
              "       [-2.84089355e+01],\n",
              "       [ 1.49755859e+01],\n",
              "       [ 4.47991943e+00],\n",
              "       [-1.48520508e+01],\n",
              "       [ 1.14852905e-01],\n",
              "       [ 2.00895691e+00],\n",
              "       [ 1.19401550e+00],\n",
              "       [ 8.35644531e+00],\n",
              "       [ 2.73051453e+00],\n",
              "       [-1.38842773e+00],\n",
              "       [ 4.14818115e+01],\n",
              "       [ 3.99069214e+00],\n",
              "       [-6.46947479e+00],\n",
              "       [ 3.35601807e+01],\n",
              "       [ 4.79151917e+00],\n",
              "       [-6.46606445e+00],\n",
              "       [-8.36807251e-01],\n",
              "       [ 1.81884766e-01],\n",
              "       [-5.16015625e+00],\n",
              "       [ 6.31552734e+01],\n",
              "       [ 4.03781738e+01],\n",
              "       [ 1.72943115e+01],\n",
              "       [ 1.13557434e+00],\n",
              "       [ 4.58115234e+01],\n",
              "       [-2.12073975e+01],\n",
              "       [ 4.88857422e+01],\n",
              "       [-9.01961517e+00],\n",
              "       [ 2.01844482e+01],\n",
              "       [ 2.11777344e+01],\n",
              "       [ 4.51669312e+00],\n",
              "       [-1.55282593e+00],\n",
              "       [ 5.65576172e+00],\n",
              "       [ 1.09644775e+01],\n",
              "       [-3.22365723e+01],\n",
              "       [-6.29558105e+01],\n",
              "       [ 1.81550598e+00],\n",
              "       [-2.06182861e+00],\n",
              "       [-2.88352051e+01],\n",
              "       [ 1.49015808e+00],\n",
              "       [ 7.56423950e-01],\n",
              "       [ 3.80886230e+01],\n",
              "       [ 1.23714600e+01],\n",
              "       [ 2.31917725e+01],\n",
              "       [ 5.19067383e+00],\n",
              "       [-6.10546875e+00],\n",
              "       [ 1.68869629e+01],\n",
              "       [-2.96206665e+00],\n",
              "       [-3.72543335e-01],\n",
              "       [-5.40942383e+00],\n",
              "       [-6.62150879e+01],\n",
              "       [ 1.44210815e+00],\n",
              "       [ 2.51352539e+01],\n",
              "       [-1.30763916e+02],\n",
              "       [ 2.97739258e+01],\n",
              "       [-3.17764282e-02],\n",
              "       [ 1.51341248e+00],\n",
              "       [ 3.74615479e+01],\n",
              "       [ 3.91010742e+01],\n",
              "       [-1.14940186e+01],\n",
              "       [ 1.81521606e+00],\n",
              "       [ 3.98497314e+01],\n",
              "       [-2.72229004e+01],\n",
              "       [-5.67897034e+00],\n",
              "       [-1.50416565e+00],\n",
              "       [ 4.95639648e+01],\n",
              "       [ 1.84548950e+00],\n",
              "       [ 4.54675293e+00],\n",
              "       [ 2.46701050e+00],\n",
              "       [ 2.86937256e+01],\n",
              "       [ 7.17254639e-01],\n",
              "       [ 4.21142578e+01],\n",
              "       [-8.27399902e+01],\n",
              "       [-8.99169922e+00],\n",
              "       [ 1.09024048e+00],\n",
              "       [ 5.01632690e-01],\n",
              "       [ 1.89116211e+01],\n",
              "       [ 3.78408203e+01],\n",
              "       [ 1.69431152e+01],\n",
              "       [ 5.68502197e+01],\n",
              "       [ 3.11129150e+01],\n",
              "       [ 2.21418457e+01],\n",
              "       [-5.08082275e+01],\n",
              "       [-1.04890381e+02],\n",
              "       [-1.91461182e+01],\n",
              "       [-3.55534363e+00],\n",
              "       [ 8.65764160e+01],\n",
              "       [-1.46206665e+00],\n",
              "       [ 1.11375732e+01],\n",
              "       [ 4.98531494e+01],\n",
              "       [-1.83365479e+01],\n",
              "       [ 7.64194336e+01],\n",
              "       [-4.21472168e+00],\n",
              "       [ 3.19559326e+01],\n",
              "       [ 3.05441284e+00],\n",
              "       [-2.07712402e+01],\n",
              "       [-7.39624023e+00],\n",
              "       [ 1.27540894e+01]])"
            ]
          },
          "metadata": {},
          "execution_count": 27
        }
      ]
    },
    {
      "cell_type": "markdown",
      "source": [
        "Plotting te difference using scatter plot."
      ],
      "metadata": {
        "id": "RsQcWCTH-fnw"
      }
    },
    {
      "cell_type": "code",
      "source": [
        "px.scatter(diff)"
      ],
      "metadata": {
        "colab": {
          "base_uri": "https://localhost:8080/",
          "height": 542
        },
        "id": "-NqwS1sUXW7B",
        "outputId": "d643cf5e-a504-48b5-deb7-99bb976c5ae6"
      },
      "execution_count": 28,
      "outputs": [
        {
          "output_type": "display_data",
          "data": {
            "text/html": [
              "<html>\n",
              "<head><meta charset=\"utf-8\" /></head>\n",
              "<body>\n",
              "    <div>            <script src=\"https://cdnjs.cloudflare.com/ajax/libs/mathjax/2.7.5/MathJax.js?config=TeX-AMS-MML_SVG\"></script><script type=\"text/javascript\">if (window.MathJax && window.MathJax.Hub && window.MathJax.Hub.Config) {window.MathJax.Hub.Config({SVG: {font: \"STIX-Web\"}});}</script>                <script type=\"text/javascript\">window.PlotlyConfig = {MathJaxConfig: 'local'};</script>\n",
              "        <script src=\"https://cdn.plot.ly/plotly-2.18.2.min.js\"></script>                <div id=\"39bc72c3-0f41-429d-8cd4-4dc6a635cc65\" class=\"plotly-graph-div\" style=\"height:525px; width:100%;\"></div>            <script type=\"text/javascript\">                                    window.PLOTLYENV=window.PLOTLYENV || {};                                    if (document.getElementById(\"39bc72c3-0f41-429d-8cd4-4dc6a635cc65\")) {                    Plotly.newPlot(                        \"39bc72c3-0f41-429d-8cd4-4dc6a635cc65\",                        [{\"hovertemplate\":\"variable=0<br>index=%{x}<br>value=%{y}<extra></extra>\",\"legendgroup\":\"0\",\"marker\":{\"color\":\"#636efa\",\"symbol\":\"circle\"},\"mode\":\"markers\",\"name\":\"0\",\"orientation\":\"v\",\"showlegend\":true,\"x\":[0,1,2,3,4,5,6,7,8,9,10,11,12,13,14,15,16,17,18,19,20,21,22,23,24,25,26,27,28,29,30,31,32,33,34,35,36,37,38,39,40,41,42,43,44,45,46,47,48,49,50,51,52,53,54,55,56,57,58,59,60,61,62,63,64,65,66,67,68,69,70,71,72,73,74,75,76,77,78,79,80,81,82,83,84,85,86,87,88,89,90,91,92,93,94,95,96,97,98,99,100,101,102,103,104,105,106,107,108,109,110,111,112,113,114,115,116,117,118,119,120,121,122,123,124,125,126,127,128,129,130,131,132,133,134,135,136,137,138,139,140,141,142,143,144,145,146,147,148,149,150,151,152,153,154,155,156,157,158,159,160,161,162,163,164,165,166,167,168,169,170,171,172,173,174,175,176,177,178,179,180,181,182,183,184,185,186,187,188,189,190,191,192,193,194,195,196,197,198,199,200,201,202,203,204,205,206,207,208,209,210,211,212,213,214,215,216,217,218,219,220,221,222,223,224,225,226,227,228,229,230,231,232,233,234,235,236,237,238,239,240,241,242,243,244,245,246,247,248,249,250,251,252,253,254,255,256,257,258,259,260,261,262,263,264,265,266,267,268,269,270,271,272,273,274,275,276,277,278,279,280,281,282,283,284,285,286,287,288,289,290,291,292,293,294,295,296,297,298,299,300,301,302,303,304,305,306,307,308,309,310,311,312,313,314,315,316,317,318,319,320,321,322,323,324,325,326,327,328,329,330,331,332,333,334,335,336,337,338,339,340,341,342,343,344,345,346,347,348,349,350,351,352,353,354,355,356,357,358,359,360,361,362,363,364,365,366,367,368,369,370,371,372,373,374,375,376,377,378,379,380,381,382,383,384,385,386,387,388,389,390,391,392,393,394,395,396,397,398,399,400,401,402,403,404,405,406,407,408,409,410,411,412,413,414,415,416,417,418,419,420,421,422,423,424,425,426,427,428,429,430,431,432,433,434,435,436,437,438,439,440,441,442,443,444,445,446,447,448,449,450,451,452,453,454,455,456,457,458,459,460,461,462,463,464,465,466,467,468,469,470,471,472,473,474,475,476,477,478,479,480,481,482,483,484,485,486,487,488,489,490,491,492,493,494,495,496,497,498,499,500,501,502,503,504,505,506,507,508,509,510,511,512,513,514,515,516,517,518,519,520,521,522,523,524,525,526,527,528,529,530,531,532,533,534,535,536,537,538,539,540,541,542,543,544,545,546,547,548,549,550,551,552,553,554,555,556,557,558,559,560,561,562,563,564,565,566,567,568,569,570,571,572,573,574,575,576,577,578,579,580,581,582,583,584,585,586,587,588,589,590,591,592,593,594,595,596,597,598,599,600,601,602,603,604,605,606,607,608,609,610,611,612,613,614,615,616,617,618,619,620,621],\"xaxis\":\"x\",\"y\":[-3.34814453125,48.2786865234375,23.5987548828125,7.13397216796875,-18.730560302734375,6.080596923828125,24.3345947265625,2.1827545166015625,30.754638671875,0.9544219970703125,-53.53271484375,-58.567626953125,-8.7847900390625,4.24346923828125,73.70263671875,-10.8251953125,52.04296875,1.8478240966796875,0.38068389892578125,1.1060333251953125,-380.687255859375,18.3209228515625,-22.758056640625,0.389251708984375,54.815185546875,43.900390625,-16.5074462890625,-5.9510498046875,-83.88671875,-1.0194091796875,-26.92474365234375,41.270751953125,3.228515625,53.7889404296875,-2.4915924072265625,0.990631103515625,8.88092041015625,68.85693359375,-3.1783447265625,29.3934326171875,-0.577850341796875,6.566619873046875,0.7592315673828125,-5.2366485595703125,3.564788818359375,-1.991424560546875,-5.804107666015625,2.913360595703125,4.350982666015625,28.07177734375,-7.19879150390625,7.908935546875,-6.35748291015625,47.015625,2.02239990234375,-48.8668212890625,31.4195556640625,4.859619140625,0.4484405517578125,7.85150146484375,2.929931640625,-106.396484375,0.687744140625,-12.95709228515625,2.9200592041015625,-0.09820556640625,-93.79345703125,-4.9981689453125,29.0347900390625,-17.710693359375,-0.8856353759765625,-5.309539794921875,0.0558319091796875,1.5465850830078125,-33.42822265625,25.310302734375,-1.17059326171875,-24.055419921875,3.070343017578125,-4.4788970947265625,1.2446441650390625,55.9814453125,-12.50067138671875,-24.784912109375,20.5650634765625,17.580810546875,14.3914794921875,-5.114349365234375,43.3577880859375,1.2486114501953125,-13.89520263671875,-6.4151611328125,-0.9103240966796875,-2.4293212890625,11.47821044921875,2.7641143798828125,42.314453125,12.8458251953125,31.5164794921875,-102.380126953125,41.24462890625,-7.690185546875,84.123291015625,32.878662109375,2.2457122802734375,1.5387115478515625,-48.1453857421875,38.357177734375,2.5527191162109375,1.262969970703125,-0.130126953125,-4.34356689453125,-3.521148681640625,11.84930419921875,-0.7598876953125,3.76953125,36.3057861328125,1.7286834716796875,-10.213623046875,-14.098770141601562,6.214691162109375,1.041351318359375,5.6641845703125,46.4029541015625,30.421875,-29.8170166015625,0.5147323608398438,-0.9356842041015625,3.2018585205078125,54.9571533203125,4.4293365478515625,-2.65704345703125,95.6630859375,53.99755859375,-2.6414031982421875,-11.3731689453125,2.1401214599609375,-1.020416259765625,3.3349761962890625,1.6148681640625,28.7176513671875,1.5359954833984375,10.29937744140625,0.00799560546875,24.728271484375,13.225494384765625,-4.13677978515625,0.6751708984375,2.105224609375,-1.8049545288085938,28.1822509765625,3.1063079833984375,15.0748291015625,45.8677978515625,34.181640625,1.072509765625,-0.19183349609375,55.090576171875,12.60406494140625,3.957977294921875,2.440216064453125,-4.53814697265625,1.951629638671875,0.248199462890625,5.555145263671875,-1.5927505493164062,3.2069244384765625,46.72119140625,1.583404541015625,3.5537567138671875,29.9898681640625,2.127166748046875,19.9781494140625,52.2467041015625,1.960418701171875,-2.574188232421875,4.458404541015625,2.752716064453125,-3.777191162109375,-0.9980926513671875,1.4769134521484375,-1.645751953125,2.7210693359375,1.294097900390625,34.7021484375,-3.3209381103515625,2.1959228515625,1.4968414306640625,3.4967498779296875,1.8264312744140625,-16.80224609375,0.8205718994140625,-3.1676712036132812,-3.3112335205078125,-0.8665008544921875,50.1246337890625,1.701446533203125,-2.6387939453125,3.86444091796875,3.2333984375,3.0666656494140625,2.04339599609375,-2.3626251220703125,-3.7465057373046875,1.523651123046875,-2.070831298828125,-17.63330078125,3.1992950439453125,0.17462158203125,-7.85791015625,23.108642578125,-4.037567138671875,38.6536865234375,-14.005096435546875,11.58740234375,-12.147216796875,55.8408203125,1.040008544921875,-141.6219482421875,3.548583984375,47.592529296875,-10.39984130859375,2.0841217041015625,1.6768951416015625,-33.146728515625,4.42010498046875,1.2647247314453125,2.8773345947265625,-12.14501953125,-1.48663330078125,33.881591796875,-1.57421875,1.558929443359375,-31.13421630859375,1.2625274658203125,22.55419921875,4.20947265625,2.2076416015625,-2.2509765625,12.05029296875,-8.160400390625,29.6826171875,-3.90594482421875,1.0100860595703125,-94.1826171875,0.120391845703125,-10.874618530273438,3.770477294921875,2.62109375,1.60162353515625,-75.849609375,3.04571533203125,0.2959442138671875,-24.82373046875,0.6066055297851562,3.1428375244140625,7.692779541015625,3.5698394775390625,0.3544158935546875,2.60345458984375,-55.54071044921875,75.1123046875,-2.3975677490234375,4.50799560546875,9.666290283203125,5.9417724609375,20.055908203125,-29.05950927734375,-1.6218414306640625,3.9600372314453125,22.1678466796875,2.764984130859375,1.1553955078125,0.122283935546875,42.72509765625,2.2051467895507812,3.5828857421875,-9.9853515625,52.677001953125,5.69580078125,17.848876953125,1.41949462890625,34.8714599609375,-65.953369140625,7.0853271484375,39.376220703125,0.397857666015625,-32.33367919921875,0.9785842895507812,9.4234619140625,1.664215087890625,40.53125,-15.279296875,0.4773406982421875,-36.5213623046875,-2.49896240234375,3.4076690673828125,-1.8029937744140625,2.1787872314453125,4.171630859375,0.7834014892578125,-1.4713897705078125,1.7789764404296875,50.1953125,7.975128173828125,-6.946044921875,2.51202392578125,39.2799072265625,20.9613037109375,3.4403076171875,-4.846160888671875,3.634002685546875,2.372650146484375,9.175048828125,-0.203826904296875,4.4090423583984375,32.52880859375,2.2564697265625,-0.5543670654296875,104.4267578125,-1.135101318359375,-6.92529296875,1.98651123046875,23.453369140625,-20.8031005859375,0.260955810546875,10.3779296875,1.9156646728515625,10.9053955078125,-53.823974609375,31.241943359375,-1.3178253173828125,22.41748046875,31.141845703125,2.2859954833984375,-27.98040771484375,2.720794677734375,11.7767333984375,2.83856201171875,-4.904296875,2.30517578125,-30.381103515625,-61.045654296875,9.9697265625,5.92138671875,-7.654052734375,15.3232421875,2.88885498046875,58.58544921875,37.8408203125,18.9862060546875,1.8835601806640625,2.0345916748046875,1.4712677001953125,7.25787353515625,1.698944091796875,37.93603515625,-3.27777099609375,-1.14739990234375,0.470306396484375,-2.7710113525390625,99.44091796875,-161.793212890625,6.928619384765625,4.259429931640625,-128.179443359375,2.736572265625,0.283782958984375,-20.283203125,37.9586181640625,4.457977294921875,-4.6883544921875,2.142333984375,-11.87310791015625,-2.463897705078125,25.430419921875,18.3963623046875,-35.443603515625,-71.734375,1.4397125244140625,-16.548828125,45.4888916015625,19.6077880859375,6.0657958984375,35.5091552734375,-213.062744140625,-41.89208984375,2.805877685546875,-4.17376708984375,-0.27392578125,23.991943359375,94.58154296875,-2.793121337890625,-2.816650390625,-44.373046875,45.4970703125,0.473114013671875,-83.395263671875,-6.278564453125,2.5648345947265625,7.50634765625,6.931610107421875,4.1638031005859375,3.6500244140625,1.57635498046875,-24.7764892578125,-9.32904052734375,-5.423065185546875,45.4156494140625,14.217529296875,3.371673583984375,2.110626220703125,-55.099365234375,5.033294677734375,4.52874755859375,69.52001953125,-43.17236328125,-2.85992431640625,10.0211181640625,1.6387786865234375,3.0591583251953125,29.165283203125,57.8134765625,-12.476318359375,-154.4715576171875,5.598114013671875,3.4390411376953125,-5.679443359375,2.5393524169921875,71.375244140625,21.139892578125,21.11181640625,30.6890869140625,-13.76171875,-1.518157958984375,-11.811279296875,-60.03173828125,-56.01959228515625,81.472412109375,-21.796630859375,-1.5371551513671875,1.8855133056640625,-33.308349609375,4.16705322265625,3.1104736328125,11.51055908203125,-14.02703857421875,-17.8741455078125,2.84820556640625,-24.215576171875,2.3705596923828125,23.6981201171875,3.148101806640625,-122.36279296875,2.2545166015625,91.6787109375,-2.698577880859375,-15.267425537109375,56.68310546875,-0.908233642578125,-0.1533203125,3.2960205078125,4.4724273681640625,-0.33978271484375,0.86572265625,2.811981201171875,-8.576126098632812,63.44091796875,14.1014404296875,5.36395263671875,8.47015380859375,-2.610198974609375,6.723785400390625,-65.5018310546875,40.9075927734375,-15.842041015625,16.829833984375,-9.341552734375,24.3890380859375,-6.0765228271484375,-2.47186279296875,1.742431640625,6.76416015625,53.8228759765625,7.454132080078125,-5.99273681640625,-13.0140380859375,-74.0859375,8.2591552734375,-10.478271484375,-13.876220703125,6.1346435546875,23.574462890625,2.3507843017578125,-66.0263671875,-0.8176116943359375,-0.46562957763671875,2.0898513793945312,-5.99237060546875,5.655853271484375,-54.2052001953125,-28.830322265625,22.6280517578125,-0.08935546875,30.5013427734375,28.944091796875,2.461761474609375,32.48388671875,49.498046875,1.326171875,1.756103515625,1.374053955078125,-8.020263671875,2.0613250732421875,-9.8262939453125,1.3469085693359375,18.5633544921875,27.877197265625,1.21820068359375,4.46136474609375,2.5381927490234375,-43.7574462890625,-114.822509765625,-6.28253173828125,20.0047607421875,-28.408935546875,14.9755859375,4.47991943359375,-14.85205078125,0.1148529052734375,2.0089569091796875,1.1940155029296875,8.3564453125,2.7305145263671875,-1.388427734375,41.4818115234375,3.990692138671875,-6.469474792480469,33.5601806640625,4.7915191650390625,-6.466064453125,-0.8368072509765625,0.181884765625,-5.16015625,63.1552734375,40.378173828125,17.2943115234375,1.1355743408203125,45.8115234375,-21.2073974609375,48.8857421875,-9.019615173339844,20.1844482421875,21.177734375,4.516693115234375,-1.552825927734375,5.65576171875,10.9644775390625,-32.236572265625,-62.955810546875,1.8155059814453125,-2.06182861328125,-28.835205078125,1.4901580810546875,0.7564239501953125,38.088623046875,12.3714599609375,23.1917724609375,5.190673828125,-6.10546875,16.886962890625,-2.962066650390625,-0.3725433349609375,-5.409423828125,-66.215087890625,1.442108154296875,25.13525390625,-130.763916015625,29.77392578125,-0.03177642822265625,1.5134124755859375,37.4615478515625,39.10107421875,-11.4940185546875,1.815216064453125,39.8497314453125,-27.222900390625,-5.6789703369140625,-1.5041656494140625,49.56396484375,1.845489501953125,4.5467529296875,2.467010498046875,28.6937255859375,0.717254638671875,42.1142578125,-82.739990234375,-8.99169921875,1.090240478515625,0.5016326904296875,18.91162109375,37.8408203125,16.943115234375,56.8502197265625,31.1129150390625,22.141845703125,-50.8082275390625,-104.890380859375,-19.1461181640625,-3.5553436279296875,86.576416015625,-1.462066650390625,11.1375732421875,49.8531494140625,-18.3365478515625,76.41943359375,-4.2147216796875,31.9559326171875,3.054412841796875,-20.771240234375,-7.396240234375,12.75408935546875],\"yaxis\":\"y\",\"type\":\"scatter\"}],                        {\"template\":{\"data\":{\"histogram2dcontour\":[{\"type\":\"histogram2dcontour\",\"colorbar\":{\"outlinewidth\":0,\"ticks\":\"\"},\"colorscale\":[[0.0,\"#0d0887\"],[0.1111111111111111,\"#46039f\"],[0.2222222222222222,\"#7201a8\"],[0.3333333333333333,\"#9c179e\"],[0.4444444444444444,\"#bd3786\"],[0.5555555555555556,\"#d8576b\"],[0.6666666666666666,\"#ed7953\"],[0.7777777777777778,\"#fb9f3a\"],[0.8888888888888888,\"#fdca26\"],[1.0,\"#f0f921\"]]}],\"choropleth\":[{\"type\":\"choropleth\",\"colorbar\":{\"outlinewidth\":0,\"ticks\":\"\"}}],\"histogram2d\":[{\"type\":\"histogram2d\",\"colorbar\":{\"outlinewidth\":0,\"ticks\":\"\"},\"colorscale\":[[0.0,\"#0d0887\"],[0.1111111111111111,\"#46039f\"],[0.2222222222222222,\"#7201a8\"],[0.3333333333333333,\"#9c179e\"],[0.4444444444444444,\"#bd3786\"],[0.5555555555555556,\"#d8576b\"],[0.6666666666666666,\"#ed7953\"],[0.7777777777777778,\"#fb9f3a\"],[0.8888888888888888,\"#fdca26\"],[1.0,\"#f0f921\"]]}],\"heatmap\":[{\"type\":\"heatmap\",\"colorbar\":{\"outlinewidth\":0,\"ticks\":\"\"},\"colorscale\":[[0.0,\"#0d0887\"],[0.1111111111111111,\"#46039f\"],[0.2222222222222222,\"#7201a8\"],[0.3333333333333333,\"#9c179e\"],[0.4444444444444444,\"#bd3786\"],[0.5555555555555556,\"#d8576b\"],[0.6666666666666666,\"#ed7953\"],[0.7777777777777778,\"#fb9f3a\"],[0.8888888888888888,\"#fdca26\"],[1.0,\"#f0f921\"]]}],\"heatmapgl\":[{\"type\":\"heatmapgl\",\"colorbar\":{\"outlinewidth\":0,\"ticks\":\"\"},\"colorscale\":[[0.0,\"#0d0887\"],[0.1111111111111111,\"#46039f\"],[0.2222222222222222,\"#7201a8\"],[0.3333333333333333,\"#9c179e\"],[0.4444444444444444,\"#bd3786\"],[0.5555555555555556,\"#d8576b\"],[0.6666666666666666,\"#ed7953\"],[0.7777777777777778,\"#fb9f3a\"],[0.8888888888888888,\"#fdca26\"],[1.0,\"#f0f921\"]]}],\"contourcarpet\":[{\"type\":\"contourcarpet\",\"colorbar\":{\"outlinewidth\":0,\"ticks\":\"\"}}],\"contour\":[{\"type\":\"contour\",\"colorbar\":{\"outlinewidth\":0,\"ticks\":\"\"},\"colorscale\":[[0.0,\"#0d0887\"],[0.1111111111111111,\"#46039f\"],[0.2222222222222222,\"#7201a8\"],[0.3333333333333333,\"#9c179e\"],[0.4444444444444444,\"#bd3786\"],[0.5555555555555556,\"#d8576b\"],[0.6666666666666666,\"#ed7953\"],[0.7777777777777778,\"#fb9f3a\"],[0.8888888888888888,\"#fdca26\"],[1.0,\"#f0f921\"]]}],\"surface\":[{\"type\":\"surface\",\"colorbar\":{\"outlinewidth\":0,\"ticks\":\"\"},\"colorscale\":[[0.0,\"#0d0887\"],[0.1111111111111111,\"#46039f\"],[0.2222222222222222,\"#7201a8\"],[0.3333333333333333,\"#9c179e\"],[0.4444444444444444,\"#bd3786\"],[0.5555555555555556,\"#d8576b\"],[0.6666666666666666,\"#ed7953\"],[0.7777777777777778,\"#fb9f3a\"],[0.8888888888888888,\"#fdca26\"],[1.0,\"#f0f921\"]]}],\"mesh3d\":[{\"type\":\"mesh3d\",\"colorbar\":{\"outlinewidth\":0,\"ticks\":\"\"}}],\"scatter\":[{\"fillpattern\":{\"fillmode\":\"overlay\",\"size\":10,\"solidity\":0.2},\"type\":\"scatter\"}],\"parcoords\":[{\"type\":\"parcoords\",\"line\":{\"colorbar\":{\"outlinewidth\":0,\"ticks\":\"\"}}}],\"scatterpolargl\":[{\"type\":\"scatterpolargl\",\"marker\":{\"colorbar\":{\"outlinewidth\":0,\"ticks\":\"\"}}}],\"bar\":[{\"error_x\":{\"color\":\"#2a3f5f\"},\"error_y\":{\"color\":\"#2a3f5f\"},\"marker\":{\"line\":{\"color\":\"#E5ECF6\",\"width\":0.5},\"pattern\":{\"fillmode\":\"overlay\",\"size\":10,\"solidity\":0.2}},\"type\":\"bar\"}],\"scattergeo\":[{\"type\":\"scattergeo\",\"marker\":{\"colorbar\":{\"outlinewidth\":0,\"ticks\":\"\"}}}],\"scatterpolar\":[{\"type\":\"scatterpolar\",\"marker\":{\"colorbar\":{\"outlinewidth\":0,\"ticks\":\"\"}}}],\"histogram\":[{\"marker\":{\"pattern\":{\"fillmode\":\"overlay\",\"size\":10,\"solidity\":0.2}},\"type\":\"histogram\"}],\"scattergl\":[{\"type\":\"scattergl\",\"marker\":{\"colorbar\":{\"outlinewidth\":0,\"ticks\":\"\"}}}],\"scatter3d\":[{\"type\":\"scatter3d\",\"line\":{\"colorbar\":{\"outlinewidth\":0,\"ticks\":\"\"}},\"marker\":{\"colorbar\":{\"outlinewidth\":0,\"ticks\":\"\"}}}],\"scattermapbox\":[{\"type\":\"scattermapbox\",\"marker\":{\"colorbar\":{\"outlinewidth\":0,\"ticks\":\"\"}}}],\"scatterternary\":[{\"type\":\"scatterternary\",\"marker\":{\"colorbar\":{\"outlinewidth\":0,\"ticks\":\"\"}}}],\"scattercarpet\":[{\"type\":\"scattercarpet\",\"marker\":{\"colorbar\":{\"outlinewidth\":0,\"ticks\":\"\"}}}],\"carpet\":[{\"aaxis\":{\"endlinecolor\":\"#2a3f5f\",\"gridcolor\":\"white\",\"linecolor\":\"white\",\"minorgridcolor\":\"white\",\"startlinecolor\":\"#2a3f5f\"},\"baxis\":{\"endlinecolor\":\"#2a3f5f\",\"gridcolor\":\"white\",\"linecolor\":\"white\",\"minorgridcolor\":\"white\",\"startlinecolor\":\"#2a3f5f\"},\"type\":\"carpet\"}],\"table\":[{\"cells\":{\"fill\":{\"color\":\"#EBF0F8\"},\"line\":{\"color\":\"white\"}},\"header\":{\"fill\":{\"color\":\"#C8D4E3\"},\"line\":{\"color\":\"white\"}},\"type\":\"table\"}],\"barpolar\":[{\"marker\":{\"line\":{\"color\":\"#E5ECF6\",\"width\":0.5},\"pattern\":{\"fillmode\":\"overlay\",\"size\":10,\"solidity\":0.2}},\"type\":\"barpolar\"}],\"pie\":[{\"automargin\":true,\"type\":\"pie\"}]},\"layout\":{\"autotypenumbers\":\"strict\",\"colorway\":[\"#636efa\",\"#EF553B\",\"#00cc96\",\"#ab63fa\",\"#FFA15A\",\"#19d3f3\",\"#FF6692\",\"#B6E880\",\"#FF97FF\",\"#FECB52\"],\"font\":{\"color\":\"#2a3f5f\"},\"hovermode\":\"closest\",\"hoverlabel\":{\"align\":\"left\"},\"paper_bgcolor\":\"white\",\"plot_bgcolor\":\"#E5ECF6\",\"polar\":{\"bgcolor\":\"#E5ECF6\",\"angularaxis\":{\"gridcolor\":\"white\",\"linecolor\":\"white\",\"ticks\":\"\"},\"radialaxis\":{\"gridcolor\":\"white\",\"linecolor\":\"white\",\"ticks\":\"\"}},\"ternary\":{\"bgcolor\":\"#E5ECF6\",\"aaxis\":{\"gridcolor\":\"white\",\"linecolor\":\"white\",\"ticks\":\"\"},\"baxis\":{\"gridcolor\":\"white\",\"linecolor\":\"white\",\"ticks\":\"\"},\"caxis\":{\"gridcolor\":\"white\",\"linecolor\":\"white\",\"ticks\":\"\"}},\"coloraxis\":{\"colorbar\":{\"outlinewidth\":0,\"ticks\":\"\"}},\"colorscale\":{\"sequential\":[[0.0,\"#0d0887\"],[0.1111111111111111,\"#46039f\"],[0.2222222222222222,\"#7201a8\"],[0.3333333333333333,\"#9c179e\"],[0.4444444444444444,\"#bd3786\"],[0.5555555555555556,\"#d8576b\"],[0.6666666666666666,\"#ed7953\"],[0.7777777777777778,\"#fb9f3a\"],[0.8888888888888888,\"#fdca26\"],[1.0,\"#f0f921\"]],\"sequentialminus\":[[0.0,\"#0d0887\"],[0.1111111111111111,\"#46039f\"],[0.2222222222222222,\"#7201a8\"],[0.3333333333333333,\"#9c179e\"],[0.4444444444444444,\"#bd3786\"],[0.5555555555555556,\"#d8576b\"],[0.6666666666666666,\"#ed7953\"],[0.7777777777777778,\"#fb9f3a\"],[0.8888888888888888,\"#fdca26\"],[1.0,\"#f0f921\"]],\"diverging\":[[0,\"#8e0152\"],[0.1,\"#c51b7d\"],[0.2,\"#de77ae\"],[0.3,\"#f1b6da\"],[0.4,\"#fde0ef\"],[0.5,\"#f7f7f7\"],[0.6,\"#e6f5d0\"],[0.7,\"#b8e186\"],[0.8,\"#7fbc41\"],[0.9,\"#4d9221\"],[1,\"#276419\"]]},\"xaxis\":{\"gridcolor\":\"white\",\"linecolor\":\"white\",\"ticks\":\"\",\"title\":{\"standoff\":15},\"zerolinecolor\":\"white\",\"automargin\":true,\"zerolinewidth\":2},\"yaxis\":{\"gridcolor\":\"white\",\"linecolor\":\"white\",\"ticks\":\"\",\"title\":{\"standoff\":15},\"zerolinecolor\":\"white\",\"automargin\":true,\"zerolinewidth\":2},\"scene\":{\"xaxis\":{\"backgroundcolor\":\"#E5ECF6\",\"gridcolor\":\"white\",\"linecolor\":\"white\",\"showbackground\":true,\"ticks\":\"\",\"zerolinecolor\":\"white\",\"gridwidth\":2},\"yaxis\":{\"backgroundcolor\":\"#E5ECF6\",\"gridcolor\":\"white\",\"linecolor\":\"white\",\"showbackground\":true,\"ticks\":\"\",\"zerolinecolor\":\"white\",\"gridwidth\":2},\"zaxis\":{\"backgroundcolor\":\"#E5ECF6\",\"gridcolor\":\"white\",\"linecolor\":\"white\",\"showbackground\":true,\"ticks\":\"\",\"zerolinecolor\":\"white\",\"gridwidth\":2}},\"shapedefaults\":{\"line\":{\"color\":\"#2a3f5f\"}},\"annotationdefaults\":{\"arrowcolor\":\"#2a3f5f\",\"arrowhead\":0,\"arrowwidth\":1},\"geo\":{\"bgcolor\":\"white\",\"landcolor\":\"#E5ECF6\",\"subunitcolor\":\"white\",\"showland\":true,\"showlakes\":true,\"lakecolor\":\"white\"},\"title\":{\"x\":0.05},\"mapbox\":{\"style\":\"light\"}}},\"xaxis\":{\"anchor\":\"y\",\"domain\":[0.0,1.0],\"title\":{\"text\":\"index\"}},\"yaxis\":{\"anchor\":\"x\",\"domain\":[0.0,1.0],\"title\":{\"text\":\"value\"}},\"legend\":{\"title\":{\"text\":\"variable\"},\"tracegroupgap\":0},\"margin\":{\"t\":60}},                        {\"responsive\": true}                    ).then(function(){\n",
              "                            \n",
              "var gd = document.getElementById('39bc72c3-0f41-429d-8cd4-4dc6a635cc65');\n",
              "var x = new MutationObserver(function (mutations, observer) {{\n",
              "        var display = window.getComputedStyle(gd).display;\n",
              "        if (!display || display === 'none') {{\n",
              "            console.log([gd, 'removed!']);\n",
              "            Plotly.purge(gd);\n",
              "            observer.disconnect();\n",
              "        }}\n",
              "}});\n",
              "\n",
              "// Listen for the removal of the full notebook cells\n",
              "var notebookContainer = gd.closest('#notebook-container');\n",
              "if (notebookContainer) {{\n",
              "    x.observe(notebookContainer, {childList: true});\n",
              "}}\n",
              "\n",
              "// Listen for the clearing of the current output cell\n",
              "var outputEl = gd.closest('.output');\n",
              "if (outputEl) {{\n",
              "    x.observe(outputEl, {childList: true});\n",
              "}}\n",
              "\n",
              "                        })                };                            </script>        </div>\n",
              "</body>\n",
              "</html>"
            ]
          },
          "metadata": {}
        }
      ]
    },
    {
      "cell_type": "code",
      "source": [],
      "metadata": {
        "id": "sulc859dXkGe"
      },
      "execution_count": 28,
      "outputs": []
    },
    {
      "cell_type": "code",
      "source": [],
      "metadata": {
        "id": "Sjh0DFFvX0oz"
      },
      "execution_count": 28,
      "outputs": []
    },
    {
      "cell_type": "code",
      "source": [
        "n = 10 #n represents the number of days we need forecast for."
      ],
      "metadata": {
        "id": "rhIGqc8mZiYP"
      },
      "execution_count": 29,
      "outputs": []
    },
    {
      "cell_type": "code",
      "source": [],
      "metadata": {
        "id": "E6urvnbDZksN"
      },
      "execution_count": 29,
      "outputs": []
    },
    {
      "cell_type": "code",
      "source": [],
      "metadata": {
        "id": "GbqrM-hzZ2PL"
      },
      "execution_count": 29,
      "outputs": []
    },
    {
      "cell_type": "code",
      "source": [
        "last = list(data.iloc[-1,0:4]) #creating a list and adding the last day open, high, low, close values."
      ],
      "metadata": {
        "id": "Q3S-FHSATqQf"
      },
      "execution_count": 30,
      "outputs": []
    },
    {
      "cell_type": "code",
      "source": [
        "model.predict([last]) #predicting the forecast of next day using the last day."
      ],
      "metadata": {
        "id": "MUVbfeMgaYMr",
        "colab": {
          "base_uri": "https://localhost:8080/"
        },
        "outputId": "863bbec3-3b69-4ac2-ce0c-b349f41c91fa"
      },
      "execution_count": 31,
      "outputs": [
        {
          "output_type": "stream",
          "name": "stdout",
          "text": [
            "1/1 [==============================] - 0s 49ms/step\n"
          ]
        },
        {
          "output_type": "execute_result",
          "data": {
            "text/plain": [
              "array([[1844.5735, 1984.9928, 1812.2509, 1975.1172]], dtype=float32)"
            ]
          },
          "metadata": {},
          "execution_count": 31
        }
      ]
    },
    {
      "cell_type": "code",
      "source": [
        "forecastn = [last] #ceating a new list forecastn to store the forecast of n days."
      ],
      "metadata": {
        "id": "lSLV7mSPUG9R"
      },
      "execution_count": 32,
      "outputs": []
    },
    {
      "cell_type": "markdown",
      "source": [
        "predicting for nth day forecast using predicted value of n-1th day."
      ],
      "metadata": {
        "id": "_G7oBuKhBotw"
      }
    },
    {
      "cell_type": "code",
      "source": [
        "for i in range(1,n+1):\n",
        "  forecastn.append(model.predict([forecastn[i-1]]))"
      ],
      "metadata": {
        "colab": {
          "base_uri": "https://localhost:8080/"
        },
        "id": "n34U4fv4bKYi",
        "outputId": "fe7c9915-f870-4bfd-b0ad-a5fafb812777"
      },
      "execution_count": 33,
      "outputs": [
        {
          "output_type": "stream",
          "name": "stdout",
          "text": [
            "1/1 [==============================] - 0s 80ms/step\n",
            "1/1 [==============================] - 0s 274ms/step\n",
            "1/1 [==============================] - 0s 15ms/step\n",
            "1/1 [==============================] - 0s 17ms/step\n",
            "1/1 [==============================] - 0s 15ms/step\n",
            "1/1 [==============================] - 0s 16ms/step\n",
            "1/1 [==============================] - 0s 18ms/step\n",
            "1/1 [==============================] - 0s 14ms/step\n",
            "1/1 [==============================] - 0s 13ms/step\n",
            "1/1 [==============================] - 0s 15ms/step\n"
          ]
        }
      ]
    },
    {
      "cell_type": "code",
      "source": [
        "forecastn"
      ],
      "metadata": {
        "colab": {
          "base_uri": "https://localhost:8080/"
        },
        "id": "xAarfSbilC-k",
        "outputId": "d2e9e9cc-7439-41b2-c13a-13f88b3b0f07"
      },
      "execution_count": 34,
      "outputs": [
        {
          "output_type": "execute_result",
          "data": {
            "text/plain": [
              "[[1880.6549072265625,\n",
              "  1889.3817138671875,\n",
              "  1863.2186279296875,\n",
              "  1878.3360595703125],\n",
              " array([[1844.5735, 1984.9928, 1812.2509, 1975.1172]], dtype=float32),\n",
              " array([[1855.4761, 1997.9708, 1821.7439, 1987.5625]], dtype=float32),\n",
              " array([[1866.6196, 2009.9609, 1832.5824, 1999.4137]], dtype=float32),\n",
              " array([[1877.7964, 2021.9921, 1843.5459, 2011.3748]], dtype=float32),\n",
              " array([[1889.0338, 2034.0917, 1854.578 , 2023.409 ]], dtype=float32),\n",
              " array([[1900.3354, 2046.2599, 1865.6736, 2035.5131]], dtype=float32),\n",
              " array([[1911.7023, 2058.4978, 1876.8335, 2047.6864]], dtype=float32),\n",
              " array([[1923.1343, 2070.8062, 1888.0574, 2059.9302]], dtype=float32),\n",
              " array([[1934.6312, 2083.1863, 1899.3452, 2072.2449]], dtype=float32),\n",
              " array([[1946.1951, 2095.6367, 1910.6986, 2084.6292]], dtype=float32)]"
            ]
          },
          "metadata": {},
          "execution_count": 34
        }
      ]
    },
    {
      "cell_type": "code",
      "source": [
        "forecastn.pop(0) #Removing the last day values from the forecast."
      ],
      "metadata": {
        "colab": {
          "base_uri": "https://localhost:8080/"
        },
        "id": "hTRUnJORjA6H",
        "outputId": "fe2ad79a-05dd-45f2-a907-90b987d1985c"
      },
      "execution_count": 35,
      "outputs": [
        {
          "output_type": "execute_result",
          "data": {
            "text/plain": [
              "[1880.6549072265625,\n",
              " 1889.3817138671875,\n",
              " 1863.2186279296875,\n",
              " 1878.3360595703125]"
            ]
          },
          "metadata": {},
          "execution_count": 35
        }
      ]
    },
    {
      "cell_type": "markdown",
      "source": [
        "Seperating just closing values from the forecast."
      ],
      "metadata": {
        "id": "7Vn63h7oX_HF"
      }
    },
    {
      "cell_type": "code",
      "source": [
        "extra = [arr[0][2:3] for arr in forecastn]\n",
        "extra"
      ],
      "metadata": {
        "colab": {
          "base_uri": "https://localhost:8080/"
        },
        "id": "zeokUnyijqU6",
        "outputId": "096462ff-d8bf-41ca-c1b0-ee2ac7e81e45"
      },
      "execution_count": 36,
      "outputs": [
        {
          "output_type": "execute_result",
          "data": {
            "text/plain": [
              "[array([1812.2509], dtype=float32),\n",
              " array([1821.7439], dtype=float32),\n",
              " array([1832.5824], dtype=float32),\n",
              " array([1843.5459], dtype=float32),\n",
              " array([1854.578], dtype=float32),\n",
              " array([1865.6736], dtype=float32),\n",
              " array([1876.8335], dtype=float32),\n",
              " array([1888.0574], dtype=float32),\n",
              " array([1899.3452], dtype=float32),\n",
              " array([1910.6986], dtype=float32)]"
            ]
          },
          "metadata": {},
          "execution_count": 36
        }
      ]
    },
    {
      "cell_type": "markdown",
      "source": [
        "Converting the numpy values into float values and adding them to a list."
      ],
      "metadata": {
        "id": "QVXhMPf6YIo-"
      }
    },
    {
      "cell_type": "code",
      "source": [
        "for i in range(len(extra)):\n",
        "  extra[i] = list(extra[i])"
      ],
      "metadata": {
        "id": "NluyX7EPkcm2"
      },
      "execution_count": 37,
      "outputs": []
    },
    {
      "cell_type": "code",
      "source": [
        "extra1 = [arr[0] for arr in extra]"
      ],
      "metadata": {
        "id": "inL-8fqMko2Q"
      },
      "execution_count": 38,
      "outputs": []
    },
    {
      "cell_type": "code",
      "source": [
        "extra1"
      ],
      "metadata": {
        "colab": {
          "base_uri": "https://localhost:8080/"
        },
        "id": "RmJLwvQZlo90",
        "outputId": "66df3e03-fdef-4feb-ef5c-954b918746dd"
      },
      "execution_count": 39,
      "outputs": [
        {
          "output_type": "execute_result",
          "data": {
            "text/plain": [
              "[1812.2509,\n",
              " 1821.7439,\n",
              " 1832.5824,\n",
              " 1843.5459,\n",
              " 1854.578,\n",
              " 1865.6736,\n",
              " 1876.8335,\n",
              " 1888.0574,\n",
              " 1899.3452,\n",
              " 1910.6986]"
            ]
          },
          "metadata": {},
          "execution_count": 39
        }
      ]
    },
    {
      "cell_type": "markdown",
      "source": [
        "Closing value of the nth day based on the forecast."
      ],
      "metadata": {
        "id": "V23mKNR2YToK"
      }
    },
    {
      "cell_type": "code",
      "source": [
        "print(extra1[-1])"
      ],
      "metadata": {
        "colab": {
          "base_uri": "https://localhost:8080/"
        },
        "id": "UcuMjyArnSyu",
        "outputId": "d1c144e3-8ea5-43ee-9de1-9ef23046dd71"
      },
      "execution_count": 40,
      "outputs": [
        {
          "output_type": "stream",
          "name": "stdout",
          "text": [
            "1910.6986\n"
          ]
        }
      ]
    },
    {
      "cell_type": "code",
      "source": [
        "px.line(x=extra1)"
      ],
      "metadata": {
        "id": "Qu8ltS3_nbus",
        "colab": {
          "base_uri": "https://localhost:8080/",
          "height": 542
        },
        "outputId": "0f7b3279-1351-4934-c4f6-2dcb0119f3f1"
      },
      "execution_count": 41,
      "outputs": [
        {
          "output_type": "display_data",
          "data": {
            "text/html": [
              "<html>\n",
              "<head><meta charset=\"utf-8\" /></head>\n",
              "<body>\n",
              "    <div>            <script src=\"https://cdnjs.cloudflare.com/ajax/libs/mathjax/2.7.5/MathJax.js?config=TeX-AMS-MML_SVG\"></script><script type=\"text/javascript\">if (window.MathJax && window.MathJax.Hub && window.MathJax.Hub.Config) {window.MathJax.Hub.Config({SVG: {font: \"STIX-Web\"}});}</script>                <script type=\"text/javascript\">window.PlotlyConfig = {MathJaxConfig: 'local'};</script>\n",
              "        <script src=\"https://cdn.plot.ly/plotly-2.18.2.min.js\"></script>                <div id=\"f9b021b4-1d83-4fd1-a44e-127167605159\" class=\"plotly-graph-div\" style=\"height:525px; width:100%;\"></div>            <script type=\"text/javascript\">                                    window.PLOTLYENV=window.PLOTLYENV || {};                                    if (document.getElementById(\"f9b021b4-1d83-4fd1-a44e-127167605159\")) {                    Plotly.newPlot(                        \"f9b021b4-1d83-4fd1-a44e-127167605159\",                        [{\"hovertemplate\":\"x=%{x}<br>y=%{y}<extra></extra>\",\"legendgroup\":\"\",\"line\":{\"color\":\"#636efa\",\"dash\":\"solid\"},\"marker\":{\"symbol\":\"circle\"},\"mode\":\"lines\",\"name\":\"\",\"orientation\":\"h\",\"showlegend\":false,\"x\":[1812.2508544921875,1821.743896484375,1832.5823974609375,1843.5458984375,1854.5780029296875,1865.673583984375,1876.83349609375,1888.057373046875,1899.34521484375,1910.6986083984375],\"xaxis\":\"x\",\"y\":[0,1,2,3,4,5,6,7,8,9],\"yaxis\":\"y\",\"type\":\"scatter\"}],                        {\"template\":{\"data\":{\"histogram2dcontour\":[{\"type\":\"histogram2dcontour\",\"colorbar\":{\"outlinewidth\":0,\"ticks\":\"\"},\"colorscale\":[[0.0,\"#0d0887\"],[0.1111111111111111,\"#46039f\"],[0.2222222222222222,\"#7201a8\"],[0.3333333333333333,\"#9c179e\"],[0.4444444444444444,\"#bd3786\"],[0.5555555555555556,\"#d8576b\"],[0.6666666666666666,\"#ed7953\"],[0.7777777777777778,\"#fb9f3a\"],[0.8888888888888888,\"#fdca26\"],[1.0,\"#f0f921\"]]}],\"choropleth\":[{\"type\":\"choropleth\",\"colorbar\":{\"outlinewidth\":0,\"ticks\":\"\"}}],\"histogram2d\":[{\"type\":\"histogram2d\",\"colorbar\":{\"outlinewidth\":0,\"ticks\":\"\"},\"colorscale\":[[0.0,\"#0d0887\"],[0.1111111111111111,\"#46039f\"],[0.2222222222222222,\"#7201a8\"],[0.3333333333333333,\"#9c179e\"],[0.4444444444444444,\"#bd3786\"],[0.5555555555555556,\"#d8576b\"],[0.6666666666666666,\"#ed7953\"],[0.7777777777777778,\"#fb9f3a\"],[0.8888888888888888,\"#fdca26\"],[1.0,\"#f0f921\"]]}],\"heatmap\":[{\"type\":\"heatmap\",\"colorbar\":{\"outlinewidth\":0,\"ticks\":\"\"},\"colorscale\":[[0.0,\"#0d0887\"],[0.1111111111111111,\"#46039f\"],[0.2222222222222222,\"#7201a8\"],[0.3333333333333333,\"#9c179e\"],[0.4444444444444444,\"#bd3786\"],[0.5555555555555556,\"#d8576b\"],[0.6666666666666666,\"#ed7953\"],[0.7777777777777778,\"#fb9f3a\"],[0.8888888888888888,\"#fdca26\"],[1.0,\"#f0f921\"]]}],\"heatmapgl\":[{\"type\":\"heatmapgl\",\"colorbar\":{\"outlinewidth\":0,\"ticks\":\"\"},\"colorscale\":[[0.0,\"#0d0887\"],[0.1111111111111111,\"#46039f\"],[0.2222222222222222,\"#7201a8\"],[0.3333333333333333,\"#9c179e\"],[0.4444444444444444,\"#bd3786\"],[0.5555555555555556,\"#d8576b\"],[0.6666666666666666,\"#ed7953\"],[0.7777777777777778,\"#fb9f3a\"],[0.8888888888888888,\"#fdca26\"],[1.0,\"#f0f921\"]]}],\"contourcarpet\":[{\"type\":\"contourcarpet\",\"colorbar\":{\"outlinewidth\":0,\"ticks\":\"\"}}],\"contour\":[{\"type\":\"contour\",\"colorbar\":{\"outlinewidth\":0,\"ticks\":\"\"},\"colorscale\":[[0.0,\"#0d0887\"],[0.1111111111111111,\"#46039f\"],[0.2222222222222222,\"#7201a8\"],[0.3333333333333333,\"#9c179e\"],[0.4444444444444444,\"#bd3786\"],[0.5555555555555556,\"#d8576b\"],[0.6666666666666666,\"#ed7953\"],[0.7777777777777778,\"#fb9f3a\"],[0.8888888888888888,\"#fdca26\"],[1.0,\"#f0f921\"]]}],\"surface\":[{\"type\":\"surface\",\"colorbar\":{\"outlinewidth\":0,\"ticks\":\"\"},\"colorscale\":[[0.0,\"#0d0887\"],[0.1111111111111111,\"#46039f\"],[0.2222222222222222,\"#7201a8\"],[0.3333333333333333,\"#9c179e\"],[0.4444444444444444,\"#bd3786\"],[0.5555555555555556,\"#d8576b\"],[0.6666666666666666,\"#ed7953\"],[0.7777777777777778,\"#fb9f3a\"],[0.8888888888888888,\"#fdca26\"],[1.0,\"#f0f921\"]]}],\"mesh3d\":[{\"type\":\"mesh3d\",\"colorbar\":{\"outlinewidth\":0,\"ticks\":\"\"}}],\"scatter\":[{\"fillpattern\":{\"fillmode\":\"overlay\",\"size\":10,\"solidity\":0.2},\"type\":\"scatter\"}],\"parcoords\":[{\"type\":\"parcoords\",\"line\":{\"colorbar\":{\"outlinewidth\":0,\"ticks\":\"\"}}}],\"scatterpolargl\":[{\"type\":\"scatterpolargl\",\"marker\":{\"colorbar\":{\"outlinewidth\":0,\"ticks\":\"\"}}}],\"bar\":[{\"error_x\":{\"color\":\"#2a3f5f\"},\"error_y\":{\"color\":\"#2a3f5f\"},\"marker\":{\"line\":{\"color\":\"#E5ECF6\",\"width\":0.5},\"pattern\":{\"fillmode\":\"overlay\",\"size\":10,\"solidity\":0.2}},\"type\":\"bar\"}],\"scattergeo\":[{\"type\":\"scattergeo\",\"marker\":{\"colorbar\":{\"outlinewidth\":0,\"ticks\":\"\"}}}],\"scatterpolar\":[{\"type\":\"scatterpolar\",\"marker\":{\"colorbar\":{\"outlinewidth\":0,\"ticks\":\"\"}}}],\"histogram\":[{\"marker\":{\"pattern\":{\"fillmode\":\"overlay\",\"size\":10,\"solidity\":0.2}},\"type\":\"histogram\"}],\"scattergl\":[{\"type\":\"scattergl\",\"marker\":{\"colorbar\":{\"outlinewidth\":0,\"ticks\":\"\"}}}],\"scatter3d\":[{\"type\":\"scatter3d\",\"line\":{\"colorbar\":{\"outlinewidth\":0,\"ticks\":\"\"}},\"marker\":{\"colorbar\":{\"outlinewidth\":0,\"ticks\":\"\"}}}],\"scattermapbox\":[{\"type\":\"scattermapbox\",\"marker\":{\"colorbar\":{\"outlinewidth\":0,\"ticks\":\"\"}}}],\"scatterternary\":[{\"type\":\"scatterternary\",\"marker\":{\"colorbar\":{\"outlinewidth\":0,\"ticks\":\"\"}}}],\"scattercarpet\":[{\"type\":\"scattercarpet\",\"marker\":{\"colorbar\":{\"outlinewidth\":0,\"ticks\":\"\"}}}],\"carpet\":[{\"aaxis\":{\"endlinecolor\":\"#2a3f5f\",\"gridcolor\":\"white\",\"linecolor\":\"white\",\"minorgridcolor\":\"white\",\"startlinecolor\":\"#2a3f5f\"},\"baxis\":{\"endlinecolor\":\"#2a3f5f\",\"gridcolor\":\"white\",\"linecolor\":\"white\",\"minorgridcolor\":\"white\",\"startlinecolor\":\"#2a3f5f\"},\"type\":\"carpet\"}],\"table\":[{\"cells\":{\"fill\":{\"color\":\"#EBF0F8\"},\"line\":{\"color\":\"white\"}},\"header\":{\"fill\":{\"color\":\"#C8D4E3\"},\"line\":{\"color\":\"white\"}},\"type\":\"table\"}],\"barpolar\":[{\"marker\":{\"line\":{\"color\":\"#E5ECF6\",\"width\":0.5},\"pattern\":{\"fillmode\":\"overlay\",\"size\":10,\"solidity\":0.2}},\"type\":\"barpolar\"}],\"pie\":[{\"automargin\":true,\"type\":\"pie\"}]},\"layout\":{\"autotypenumbers\":\"strict\",\"colorway\":[\"#636efa\",\"#EF553B\",\"#00cc96\",\"#ab63fa\",\"#FFA15A\",\"#19d3f3\",\"#FF6692\",\"#B6E880\",\"#FF97FF\",\"#FECB52\"],\"font\":{\"color\":\"#2a3f5f\"},\"hovermode\":\"closest\",\"hoverlabel\":{\"align\":\"left\"},\"paper_bgcolor\":\"white\",\"plot_bgcolor\":\"#E5ECF6\",\"polar\":{\"bgcolor\":\"#E5ECF6\",\"angularaxis\":{\"gridcolor\":\"white\",\"linecolor\":\"white\",\"ticks\":\"\"},\"radialaxis\":{\"gridcolor\":\"white\",\"linecolor\":\"white\",\"ticks\":\"\"}},\"ternary\":{\"bgcolor\":\"#E5ECF6\",\"aaxis\":{\"gridcolor\":\"white\",\"linecolor\":\"white\",\"ticks\":\"\"},\"baxis\":{\"gridcolor\":\"white\",\"linecolor\":\"white\",\"ticks\":\"\"},\"caxis\":{\"gridcolor\":\"white\",\"linecolor\":\"white\",\"ticks\":\"\"}},\"coloraxis\":{\"colorbar\":{\"outlinewidth\":0,\"ticks\":\"\"}},\"colorscale\":{\"sequential\":[[0.0,\"#0d0887\"],[0.1111111111111111,\"#46039f\"],[0.2222222222222222,\"#7201a8\"],[0.3333333333333333,\"#9c179e\"],[0.4444444444444444,\"#bd3786\"],[0.5555555555555556,\"#d8576b\"],[0.6666666666666666,\"#ed7953\"],[0.7777777777777778,\"#fb9f3a\"],[0.8888888888888888,\"#fdca26\"],[1.0,\"#f0f921\"]],\"sequentialminus\":[[0.0,\"#0d0887\"],[0.1111111111111111,\"#46039f\"],[0.2222222222222222,\"#7201a8\"],[0.3333333333333333,\"#9c179e\"],[0.4444444444444444,\"#bd3786\"],[0.5555555555555556,\"#d8576b\"],[0.6666666666666666,\"#ed7953\"],[0.7777777777777778,\"#fb9f3a\"],[0.8888888888888888,\"#fdca26\"],[1.0,\"#f0f921\"]],\"diverging\":[[0,\"#8e0152\"],[0.1,\"#c51b7d\"],[0.2,\"#de77ae\"],[0.3,\"#f1b6da\"],[0.4,\"#fde0ef\"],[0.5,\"#f7f7f7\"],[0.6,\"#e6f5d0\"],[0.7,\"#b8e186\"],[0.8,\"#7fbc41\"],[0.9,\"#4d9221\"],[1,\"#276419\"]]},\"xaxis\":{\"gridcolor\":\"white\",\"linecolor\":\"white\",\"ticks\":\"\",\"title\":{\"standoff\":15},\"zerolinecolor\":\"white\",\"automargin\":true,\"zerolinewidth\":2},\"yaxis\":{\"gridcolor\":\"white\",\"linecolor\":\"white\",\"ticks\":\"\",\"title\":{\"standoff\":15},\"zerolinecolor\":\"white\",\"automargin\":true,\"zerolinewidth\":2},\"scene\":{\"xaxis\":{\"backgroundcolor\":\"#E5ECF6\",\"gridcolor\":\"white\",\"linecolor\":\"white\",\"showbackground\":true,\"ticks\":\"\",\"zerolinecolor\":\"white\",\"gridwidth\":2},\"yaxis\":{\"backgroundcolor\":\"#E5ECF6\",\"gridcolor\":\"white\",\"linecolor\":\"white\",\"showbackground\":true,\"ticks\":\"\",\"zerolinecolor\":\"white\",\"gridwidth\":2},\"zaxis\":{\"backgroundcolor\":\"#E5ECF6\",\"gridcolor\":\"white\",\"linecolor\":\"white\",\"showbackground\":true,\"ticks\":\"\",\"zerolinecolor\":\"white\",\"gridwidth\":2}},\"shapedefaults\":{\"line\":{\"color\":\"#2a3f5f\"}},\"annotationdefaults\":{\"arrowcolor\":\"#2a3f5f\",\"arrowhead\":0,\"arrowwidth\":1},\"geo\":{\"bgcolor\":\"white\",\"landcolor\":\"#E5ECF6\",\"subunitcolor\":\"white\",\"showland\":true,\"showlakes\":true,\"lakecolor\":\"white\"},\"title\":{\"x\":0.05},\"mapbox\":{\"style\":\"light\"}}},\"xaxis\":{\"anchor\":\"y\",\"domain\":[0.0,1.0],\"title\":{\"text\":\"x\"}},\"yaxis\":{\"anchor\":\"x\",\"domain\":[0.0,1.0],\"title\":{\"text\":\"y\"}},\"legend\":{\"tracegroupgap\":0},\"margin\":{\"t\":60}},                        {\"responsive\": true}                    ).then(function(){\n",
              "                            \n",
              "var gd = document.getElementById('f9b021b4-1d83-4fd1-a44e-127167605159');\n",
              "var x = new MutationObserver(function (mutations, observer) {{\n",
              "        var display = window.getComputedStyle(gd).display;\n",
              "        if (!display || display === 'none') {{\n",
              "            console.log([gd, 'removed!']);\n",
              "            Plotly.purge(gd);\n",
              "            observer.disconnect();\n",
              "        }}\n",
              "}});\n",
              "\n",
              "// Listen for the removal of the full notebook cells\n",
              "var notebookContainer = gd.closest('#notebook-container');\n",
              "if (notebookContainer) {{\n",
              "    x.observe(notebookContainer, {childList: true});\n",
              "}}\n",
              "\n",
              "// Listen for the clearing of the current output cell\n",
              "var outputEl = gd.closest('.output');\n",
              "if (outputEl) {{\n",
              "    x.observe(outputEl, {childList: true});\n",
              "}}\n",
              "\n",
              "                        })                };                            </script>        </div>\n",
              "</body>\n",
              "</html>"
            ]
          },
          "metadata": {}
        }
      ]
    },
    {
      "cell_type": "code",
      "source": [],
      "metadata": {
        "id": "GO21JXa83EE3"
      },
      "execution_count": 41,
      "outputs": []
    }
  ]
}